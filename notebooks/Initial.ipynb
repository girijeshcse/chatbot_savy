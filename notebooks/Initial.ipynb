{
  "nbformat": 4,
  "nbformat_minor": 0,
  "metadata": {
    "colab": {
      "name": "Initial.ipynb",
      "provenance": [],
      "collapsed_sections": [],
      "mount_file_id": "https://github.com/girijeshcse/chatbot_savy/blob/anish/notebooks/Initial.ipynb",
      "authorship_tag": "ABX9TyOErQEyDVniJT2Vm24EXGve",
      "include_colab_link": true
    },
    "kernelspec": {
      "name": "python3",
      "display_name": "Python 3"
    },
    "language_info": {
      "name": "python"
    },
    "accelerator": "GPU"
  },
  "cells": [
    {
      "cell_type": "markdown",
      "metadata": {
        "id": "view-in-github",
        "colab_type": "text"
      },
      "source": [
        "<a href=\"https://colab.research.google.com/github/girijeshcse/chatbot_savy/blob/anish/notebooks/Initial.ipynb\" target=\"_parent\"><img src=\"https://colab.research.google.com/assets/colab-badge.svg\" alt=\"Open In Colab\"/></a>"
      ]
    },
    {
      "cell_type": "code",
      "metadata": {
        "id": "atFCdAFdxNuk"
      },
      "source": [
        "import pandas as pd\n",
        "import numpy as np\n",
        "from google.colab import drive\n",
        "\n",
        "import warnings\n",
        "warnings.filterwarnings(\"ignore\")\n",
        "\n",
        "import seaborn as sns\n",
        "import matplotlib.pyplot as plt\n",
        "\n",
        "from nltk.corpus import stopwords\n",
        "import nltk\n",
        "from nltk.stem import WordNetLemmatizer\n",
        "import re, string\n",
        "\n",
        "from tensorflow.keras.preprocessing.text import Tokenizer\n",
        "from keras.preprocessing.sequence import pad_sequences\n",
        "from tensorflow.keras.layers import Dense, Dropout,LSTM,Embedding, Bidirectional, Flatten, Activation, TimeDistributed\n",
        "from tensorflow.keras.callbacks import ModelCheckpoint, EarlyStopping\n",
        "from tensorflow.keras import Input, Model\n",
        "\n",
        "from sklearn.metrics import accuracy_score, classification_report\n",
        "from sklearn.model_selection import train_test_split\n",
        "from sklearn.preprocessing import LabelEncoder\n",
        "from sklearn.svm import SVC\n",
        "from sklearn.ensemble import RandomForestClassifier, AdaBoostClassifier, ExtraTreesClassifier\n",
        "from sklearn.neighbors import KNeighborsClassifier\n",
        "from sklearn.linear_model import LogisticRegression\n",
        "from lightgbm import LGBMClassifier\n",
        "from xgboost import XGBClassifier\n",
        "from sklearn.model_selection import GridSearchCV\n",
        "from sklearn import metrics\n",
        "\n",
        "from sklearn.utils import resample\n",
        "import pickle\n",
        "import os"
      ],
      "execution_count": null,
      "outputs": []
    },
    {
      "cell_type": "code",
      "metadata": {
        "colab": {
          "base_uri": "https://localhost:8080/"
        },
        "id": "HqnqEiynzgvx",
        "outputId": "acdf4da2-6be0-40df-afab-749e5cfbbd51"
      },
      "source": [
        "drive.mount('/content/gdrive/')\n",
        "parent_dir = '/content/gdrive/MyDrive/Colab Notebooks/Capstone/'"
      ],
      "execution_count": null,
      "outputs": [
        {
          "output_type": "stream",
          "name": "stdout",
          "text": [
            "Mounted at /content/gdrive/\n"
          ]
        }
      ]
    },
    {
      "cell_type": "code",
      "source": [
        "seed = 7"
      ],
      "metadata": {
        "id": "vs-UCU4DR07I"
      },
      "execution_count": null,
      "outputs": []
    },
    {
      "cell_type": "code",
      "metadata": {
        "id": "k3s6gjtwzztn"
      },
      "source": [
        "data = pd.read_csv(parent_dir+'Data Set - industrial_safety_and_health_database_with_accidents_description.csv')"
      ],
      "execution_count": null,
      "outputs": []
    },
    {
      "cell_type": "code",
      "metadata": {
        "colab": {
          "base_uri": "https://localhost:8080/",
          "height": 597
        },
        "id": "gcrUeLX80kMh",
        "outputId": "5935fef7-4a30-4654-bee0-9e4d93cfa7fb"
      },
      "source": [
        "data.head(10)"
      ],
      "execution_count": null,
      "outputs": [
        {
          "output_type": "execute_result",
          "data": {
            "text/html": [
              "\n",
              "  <div id=\"df-40dc11db-eb71-489f-b6e7-bde0ba154a39\">\n",
              "    <div class=\"colab-df-container\">\n",
              "      <div>\n",
              "<style scoped>\n",
              "    .dataframe tbody tr th:only-of-type {\n",
              "        vertical-align: middle;\n",
              "    }\n",
              "\n",
              "    .dataframe tbody tr th {\n",
              "        vertical-align: top;\n",
              "    }\n",
              "\n",
              "    .dataframe thead th {\n",
              "        text-align: right;\n",
              "    }\n",
              "</style>\n",
              "<table border=\"1\" class=\"dataframe\">\n",
              "  <thead>\n",
              "    <tr style=\"text-align: right;\">\n",
              "      <th></th>\n",
              "      <th>Unnamed: 0</th>\n",
              "      <th>Data</th>\n",
              "      <th>Countries</th>\n",
              "      <th>Local</th>\n",
              "      <th>Industry Sector</th>\n",
              "      <th>Accident Level</th>\n",
              "      <th>Potential Accident Level</th>\n",
              "      <th>Genre</th>\n",
              "      <th>Employee or Third Party</th>\n",
              "      <th>Critical Risk</th>\n",
              "      <th>Description</th>\n",
              "    </tr>\n",
              "  </thead>\n",
              "  <tbody>\n",
              "    <tr>\n",
              "      <th>0</th>\n",
              "      <td>0</td>\n",
              "      <td>2016-01-01 00:00:00</td>\n",
              "      <td>Country_01</td>\n",
              "      <td>Local_01</td>\n",
              "      <td>Mining</td>\n",
              "      <td>I</td>\n",
              "      <td>IV</td>\n",
              "      <td>Male</td>\n",
              "      <td>Third Party</td>\n",
              "      <td>Pressed</td>\n",
              "      <td>While removing the drill rod of the Jumbo 08 f...</td>\n",
              "    </tr>\n",
              "    <tr>\n",
              "      <th>1</th>\n",
              "      <td>1</td>\n",
              "      <td>2016-01-02 00:00:00</td>\n",
              "      <td>Country_02</td>\n",
              "      <td>Local_02</td>\n",
              "      <td>Mining</td>\n",
              "      <td>I</td>\n",
              "      <td>IV</td>\n",
              "      <td>Male</td>\n",
              "      <td>Employee</td>\n",
              "      <td>Pressurized Systems</td>\n",
              "      <td>During the activation of a sodium sulphide pum...</td>\n",
              "    </tr>\n",
              "    <tr>\n",
              "      <th>2</th>\n",
              "      <td>2</td>\n",
              "      <td>2016-01-06 00:00:00</td>\n",
              "      <td>Country_01</td>\n",
              "      <td>Local_03</td>\n",
              "      <td>Mining</td>\n",
              "      <td>I</td>\n",
              "      <td>III</td>\n",
              "      <td>Male</td>\n",
              "      <td>Third Party (Remote)</td>\n",
              "      <td>Manual Tools</td>\n",
              "      <td>In the sub-station MILPO located at level +170...</td>\n",
              "    </tr>\n",
              "    <tr>\n",
              "      <th>3</th>\n",
              "      <td>3</td>\n",
              "      <td>2016-01-08 00:00:00</td>\n",
              "      <td>Country_01</td>\n",
              "      <td>Local_04</td>\n",
              "      <td>Mining</td>\n",
              "      <td>I</td>\n",
              "      <td>I</td>\n",
              "      <td>Male</td>\n",
              "      <td>Third Party</td>\n",
              "      <td>Others</td>\n",
              "      <td>Being 9:45 am. approximately in the Nv. 1880 C...</td>\n",
              "    </tr>\n",
              "    <tr>\n",
              "      <th>4</th>\n",
              "      <td>4</td>\n",
              "      <td>2016-01-10 00:00:00</td>\n",
              "      <td>Country_01</td>\n",
              "      <td>Local_04</td>\n",
              "      <td>Mining</td>\n",
              "      <td>IV</td>\n",
              "      <td>IV</td>\n",
              "      <td>Male</td>\n",
              "      <td>Third Party</td>\n",
              "      <td>Others</td>\n",
              "      <td>Approximately at 11:45 a.m. in circumstances t...</td>\n",
              "    </tr>\n",
              "    <tr>\n",
              "      <th>5</th>\n",
              "      <td>5</td>\n",
              "      <td>2016-01-12 00:00:00</td>\n",
              "      <td>Country_02</td>\n",
              "      <td>Local_05</td>\n",
              "      <td>Metals</td>\n",
              "      <td>I</td>\n",
              "      <td>III</td>\n",
              "      <td>Male</td>\n",
              "      <td>Third Party (Remote)</td>\n",
              "      <td>Pressurized Systems</td>\n",
              "      <td>During the unloading operation of the ustulado...</td>\n",
              "    </tr>\n",
              "    <tr>\n",
              "      <th>6</th>\n",
              "      <td>6</td>\n",
              "      <td>2016-01-16 00:00:00</td>\n",
              "      <td>Country_02</td>\n",
              "      <td>Local_05</td>\n",
              "      <td>Metals</td>\n",
              "      <td>I</td>\n",
              "      <td>III</td>\n",
              "      <td>Male</td>\n",
              "      <td>Employee</td>\n",
              "      <td>Fall prevention (same level)</td>\n",
              "      <td>The collaborator reports that he was on street...</td>\n",
              "    </tr>\n",
              "    <tr>\n",
              "      <th>7</th>\n",
              "      <td>7</td>\n",
              "      <td>2016-01-17 00:00:00</td>\n",
              "      <td>Country_01</td>\n",
              "      <td>Local_04</td>\n",
              "      <td>Mining</td>\n",
              "      <td>I</td>\n",
              "      <td>III</td>\n",
              "      <td>Male</td>\n",
              "      <td>Third Party</td>\n",
              "      <td>Pressed</td>\n",
              "      <td>At approximately 04:50 p.m., when the mechanic...</td>\n",
              "    </tr>\n",
              "    <tr>\n",
              "      <th>8</th>\n",
              "      <td>8</td>\n",
              "      <td>2016-01-19 00:00:00</td>\n",
              "      <td>Country_02</td>\n",
              "      <td>Local_02</td>\n",
              "      <td>Mining</td>\n",
              "      <td>I</td>\n",
              "      <td>IV</td>\n",
              "      <td>Male</td>\n",
              "      <td>Third Party (Remote)</td>\n",
              "      <td>Others</td>\n",
              "      <td>Employee was sitting in the resting area at le...</td>\n",
              "    </tr>\n",
              "    <tr>\n",
              "      <th>9</th>\n",
              "      <td>9</td>\n",
              "      <td>2016-01-26 00:00:00</td>\n",
              "      <td>Country_01</td>\n",
              "      <td>Local_06</td>\n",
              "      <td>Metals</td>\n",
              "      <td>I</td>\n",
              "      <td>II</td>\n",
              "      <td>Male</td>\n",
              "      <td>Third Party</td>\n",
              "      <td>Chemical substances</td>\n",
              "      <td>At the moment the forklift operator went to ma...</td>\n",
              "    </tr>\n",
              "  </tbody>\n",
              "</table>\n",
              "</div>\n",
              "      <button class=\"colab-df-convert\" onclick=\"convertToInteractive('df-40dc11db-eb71-489f-b6e7-bde0ba154a39')\"\n",
              "              title=\"Convert this dataframe to an interactive table.\"\n",
              "              style=\"display:none;\">\n",
              "        \n",
              "  <svg xmlns=\"http://www.w3.org/2000/svg\" height=\"24px\"viewBox=\"0 0 24 24\"\n",
              "       width=\"24px\">\n",
              "    <path d=\"M0 0h24v24H0V0z\" fill=\"none\"/>\n",
              "    <path d=\"M18.56 5.44l.94 2.06.94-2.06 2.06-.94-2.06-.94-.94-2.06-.94 2.06-2.06.94zm-11 1L8.5 8.5l.94-2.06 2.06-.94-2.06-.94L8.5 2.5l-.94 2.06-2.06.94zm10 10l.94 2.06.94-2.06 2.06-.94-2.06-.94-.94-2.06-.94 2.06-2.06.94z\"/><path d=\"M17.41 7.96l-1.37-1.37c-.4-.4-.92-.59-1.43-.59-.52 0-1.04.2-1.43.59L10.3 9.45l-7.72 7.72c-.78.78-.78 2.05 0 2.83L4 21.41c.39.39.9.59 1.41.59.51 0 1.02-.2 1.41-.59l7.78-7.78 2.81-2.81c.8-.78.8-2.07 0-2.86zM5.41 20L4 18.59l7.72-7.72 1.47 1.35L5.41 20z\"/>\n",
              "  </svg>\n",
              "      </button>\n",
              "      \n",
              "  <style>\n",
              "    .colab-df-container {\n",
              "      display:flex;\n",
              "      flex-wrap:wrap;\n",
              "      gap: 12px;\n",
              "    }\n",
              "\n",
              "    .colab-df-convert {\n",
              "      background-color: #E8F0FE;\n",
              "      border: none;\n",
              "      border-radius: 50%;\n",
              "      cursor: pointer;\n",
              "      display: none;\n",
              "      fill: #1967D2;\n",
              "      height: 32px;\n",
              "      padding: 0 0 0 0;\n",
              "      width: 32px;\n",
              "    }\n",
              "\n",
              "    .colab-df-convert:hover {\n",
              "      background-color: #E2EBFA;\n",
              "      box-shadow: 0px 1px 2px rgba(60, 64, 67, 0.3), 0px 1px 3px 1px rgba(60, 64, 67, 0.15);\n",
              "      fill: #174EA6;\n",
              "    }\n",
              "\n",
              "    [theme=dark] .colab-df-convert {\n",
              "      background-color: #3B4455;\n",
              "      fill: #D2E3FC;\n",
              "    }\n",
              "\n",
              "    [theme=dark] .colab-df-convert:hover {\n",
              "      background-color: #434B5C;\n",
              "      box-shadow: 0px 1px 3px 1px rgba(0, 0, 0, 0.15);\n",
              "      filter: drop-shadow(0px 1px 2px rgba(0, 0, 0, 0.3));\n",
              "      fill: #FFFFFF;\n",
              "    }\n",
              "  </style>\n",
              "\n",
              "      <script>\n",
              "        const buttonEl =\n",
              "          document.querySelector('#df-40dc11db-eb71-489f-b6e7-bde0ba154a39 button.colab-df-convert');\n",
              "        buttonEl.style.display =\n",
              "          google.colab.kernel.accessAllowed ? 'block' : 'none';\n",
              "\n",
              "        async function convertToInteractive(key) {\n",
              "          const element = document.querySelector('#df-40dc11db-eb71-489f-b6e7-bde0ba154a39');\n",
              "          const dataTable =\n",
              "            await google.colab.kernel.invokeFunction('convertToInteractive',\n",
              "                                                     [key], {});\n",
              "          if (!dataTable) return;\n",
              "\n",
              "          const docLinkHtml = 'Like what you see? Visit the ' +\n",
              "            '<a target=\"_blank\" href=https://colab.research.google.com/notebooks/data_table.ipynb>data table notebook</a>'\n",
              "            + ' to learn more about interactive tables.';\n",
              "          element.innerHTML = '';\n",
              "          dataTable['output_type'] = 'display_data';\n",
              "          await google.colab.output.renderOutput(dataTable, element);\n",
              "          const docLink = document.createElement('div');\n",
              "          docLink.innerHTML = docLinkHtml;\n",
              "          element.appendChild(docLink);\n",
              "        }\n",
              "      </script>\n",
              "    </div>\n",
              "  </div>\n",
              "  "
            ],
            "text/plain": [
              "   Unnamed: 0  ...                                        Description\n",
              "0           0  ...  While removing the drill rod of the Jumbo 08 f...\n",
              "1           1  ...  During the activation of a sodium sulphide pum...\n",
              "2           2  ...  In the sub-station MILPO located at level +170...\n",
              "3           3  ...  Being 9:45 am. approximately in the Nv. 1880 C...\n",
              "4           4  ...  Approximately at 11:45 a.m. in circumstances t...\n",
              "5           5  ...  During the unloading operation of the ustulado...\n",
              "6           6  ...  The collaborator reports that he was on street...\n",
              "7           7  ...  At approximately 04:50 p.m., when the mechanic...\n",
              "8           8  ...  Employee was sitting in the resting area at le...\n",
              "9           9  ...  At the moment the forklift operator went to ma...\n",
              "\n",
              "[10 rows x 11 columns]"
            ]
          },
          "metadata": {},
          "execution_count": 7
        }
      ]
    },
    {
      "cell_type": "code",
      "metadata": {
        "colab": {
          "base_uri": "https://localhost:8080/"
        },
        "id": "bepwUBPO0FJx",
        "outputId": "e0f1e457-791b-4040-f723-05cfc8c70506"
      },
      "source": [
        "data.info()"
      ],
      "execution_count": null,
      "outputs": [
        {
          "output_type": "stream",
          "name": "stdout",
          "text": [
            "<class 'pandas.core.frame.DataFrame'>\n",
            "RangeIndex: 425 entries, 0 to 424\n",
            "Data columns (total 11 columns):\n",
            " #   Column                    Non-Null Count  Dtype \n",
            "---  ------                    --------------  ----- \n",
            " 0   Unnamed: 0                425 non-null    int64 \n",
            " 1   Data                      425 non-null    object\n",
            " 2   Countries                 425 non-null    object\n",
            " 3   Local                     425 non-null    object\n",
            " 4   Industry Sector           425 non-null    object\n",
            " 5   Accident Level            425 non-null    object\n",
            " 6   Potential Accident Level  425 non-null    object\n",
            " 7   Genre                     425 non-null    object\n",
            " 8   Employee or Third Party   425 non-null    object\n",
            " 9   Critical Risk             425 non-null    object\n",
            " 10  Description               425 non-null    object\n",
            "dtypes: int64(1), object(10)\n",
            "memory usage: 36.6+ KB\n"
          ]
        }
      ]
    },
    {
      "cell_type": "markdown",
      "metadata": {
        "id": "vU_nxD7j0HcO"
      },
      "source": [
        "From the above info, we can see that there are no null values in the data set.\n",
        "\n",
        "- From the above data, we can see that the first column is merely an index, which we don't need and we can drop it.\n",
        "\n",
        "- Data column is actually the date, which is not needed for building our NLP model but we can see if we need this for any EDA, later we can drop it.\n",
        "\n",
        "- Countries column can be used for doing some EDA to see how many accidents happen in a particular country and if some countries have more safety risk compared to others.\n",
        "\n",
        "- Local column can also be used for some EDA to identify which cities are mode accident prone, will drop it later before model training.\n",
        "\n",
        "- Industry sector can also be used for EDA to identify industries which have more safety risks.\n",
        "\n",
        "- Accident level is our target column which we need to be able to predict based on accident description.\n",
        "\n",
        "- Potential Accident level just indicates what could have been the severity of the accident.\n",
        "\n",
        "- Genre is basically Gender, we will use this column also for EDA to see distribution among male/female but won't be needed to train our model.\n",
        "\n",
        "- Employee or Third Party column can also be used for some EDA but not needed for model training.\n",
        "\n",
        "- Critical Risk basically identifies the area/component where accident has happened.\n",
        "\n",
        "- Description basically is the textual information about the accident which we will be using to predict the accident level. We will cleanse and convert this text into vectors which will then be passed to our models for training/testing."
      ]
    },
    {
      "cell_type": "code",
      "metadata": {
        "colab": {
          "base_uri": "https://localhost:8080/",
          "height": 501
        },
        "id": "_6wBgvqo5Uao",
        "outputId": "17e77404-eaf1-4bf4-ce8e-c55bdb8c5eba"
      },
      "source": [
        "data.groupby(by=['Countries', 'Local']).count().sort_values(['Countries', 'Description'],ascending=False)"
      ],
      "execution_count": null,
      "outputs": [
        {
          "output_type": "execute_result",
          "data": {
            "text/html": [
              "\n",
              "  <div id=\"df-e50bf26c-6070-4318-99d1-cef066d48095\">\n",
              "    <div class=\"colab-df-container\">\n",
              "      <div>\n",
              "<style scoped>\n",
              "    .dataframe tbody tr th:only-of-type {\n",
              "        vertical-align: middle;\n",
              "    }\n",
              "\n",
              "    .dataframe tbody tr th {\n",
              "        vertical-align: top;\n",
              "    }\n",
              "\n",
              "    .dataframe thead th {\n",
              "        text-align: right;\n",
              "    }\n",
              "</style>\n",
              "<table border=\"1\" class=\"dataframe\">\n",
              "  <thead>\n",
              "    <tr style=\"text-align: right;\">\n",
              "      <th></th>\n",
              "      <th></th>\n",
              "      <th>Unnamed: 0</th>\n",
              "      <th>Data</th>\n",
              "      <th>Industry Sector</th>\n",
              "      <th>Accident Level</th>\n",
              "      <th>Potential Accident Level</th>\n",
              "      <th>Genre</th>\n",
              "      <th>Employee or Third Party</th>\n",
              "      <th>Critical Risk</th>\n",
              "      <th>Description</th>\n",
              "    </tr>\n",
              "    <tr>\n",
              "      <th>Countries</th>\n",
              "      <th>Local</th>\n",
              "      <th></th>\n",
              "      <th></th>\n",
              "      <th></th>\n",
              "      <th></th>\n",
              "      <th></th>\n",
              "      <th></th>\n",
              "      <th></th>\n",
              "      <th></th>\n",
              "      <th></th>\n",
              "    </tr>\n",
              "  </thead>\n",
              "  <tbody>\n",
              "    <tr>\n",
              "      <th>Country_03</th>\n",
              "      <th>Local_10</th>\n",
              "      <td>44</td>\n",
              "      <td>44</td>\n",
              "      <td>44</td>\n",
              "      <td>44</td>\n",
              "      <td>44</td>\n",
              "      <td>44</td>\n",
              "      <td>44</td>\n",
              "      <td>44</td>\n",
              "      <td>44</td>\n",
              "    </tr>\n",
              "    <tr>\n",
              "      <th rowspan=\"6\" valign=\"top\">Country_02</th>\n",
              "      <th>Local_05</th>\n",
              "      <td>59</td>\n",
              "      <td>59</td>\n",
              "      <td>59</td>\n",
              "      <td>59</td>\n",
              "      <td>59</td>\n",
              "      <td>59</td>\n",
              "      <td>59</td>\n",
              "      <td>59</td>\n",
              "      <td>59</td>\n",
              "    </tr>\n",
              "    <tr>\n",
              "      <th>Local_08</th>\n",
              "      <td>27</td>\n",
              "      <td>27</td>\n",
              "      <td>27</td>\n",
              "      <td>27</td>\n",
              "      <td>27</td>\n",
              "      <td>27</td>\n",
              "      <td>27</td>\n",
              "      <td>27</td>\n",
              "      <td>27</td>\n",
              "    </tr>\n",
              "    <tr>\n",
              "      <th>Local_02</th>\n",
              "      <td>24</td>\n",
              "      <td>24</td>\n",
              "      <td>24</td>\n",
              "      <td>24</td>\n",
              "      <td>24</td>\n",
              "      <td>24</td>\n",
              "      <td>24</td>\n",
              "      <td>24</td>\n",
              "      <td>24</td>\n",
              "    </tr>\n",
              "    <tr>\n",
              "      <th>Local_07</th>\n",
              "      <td>14</td>\n",
              "      <td>14</td>\n",
              "      <td>14</td>\n",
              "      <td>14</td>\n",
              "      <td>14</td>\n",
              "      <td>14</td>\n",
              "      <td>14</td>\n",
              "      <td>14</td>\n",
              "      <td>14</td>\n",
              "    </tr>\n",
              "    <tr>\n",
              "      <th>Local_12</th>\n",
              "      <td>4</td>\n",
              "      <td>4</td>\n",
              "      <td>4</td>\n",
              "      <td>4</td>\n",
              "      <td>4</td>\n",
              "      <td>4</td>\n",
              "      <td>4</td>\n",
              "      <td>4</td>\n",
              "      <td>4</td>\n",
              "    </tr>\n",
              "    <tr>\n",
              "      <th>Local_09</th>\n",
              "      <td>2</td>\n",
              "      <td>2</td>\n",
              "      <td>2</td>\n",
              "      <td>2</td>\n",
              "      <td>2</td>\n",
              "      <td>2</td>\n",
              "      <td>2</td>\n",
              "      <td>2</td>\n",
              "      <td>2</td>\n",
              "    </tr>\n",
              "    <tr>\n",
              "      <th rowspan=\"5\" valign=\"top\">Country_01</th>\n",
              "      <th>Local_03</th>\n",
              "      <td>90</td>\n",
              "      <td>90</td>\n",
              "      <td>90</td>\n",
              "      <td>90</td>\n",
              "      <td>90</td>\n",
              "      <td>90</td>\n",
              "      <td>90</td>\n",
              "      <td>90</td>\n",
              "      <td>90</td>\n",
              "    </tr>\n",
              "    <tr>\n",
              "      <th>Local_01</th>\n",
              "      <td>57</td>\n",
              "      <td>57</td>\n",
              "      <td>57</td>\n",
              "      <td>57</td>\n",
              "      <td>57</td>\n",
              "      <td>57</td>\n",
              "      <td>57</td>\n",
              "      <td>57</td>\n",
              "      <td>57</td>\n",
              "    </tr>\n",
              "    <tr>\n",
              "      <th>Local_04</th>\n",
              "      <td>56</td>\n",
              "      <td>56</td>\n",
              "      <td>56</td>\n",
              "      <td>56</td>\n",
              "      <td>56</td>\n",
              "      <td>56</td>\n",
              "      <td>56</td>\n",
              "      <td>56</td>\n",
              "      <td>56</td>\n",
              "    </tr>\n",
              "    <tr>\n",
              "      <th>Local_06</th>\n",
              "      <td>46</td>\n",
              "      <td>46</td>\n",
              "      <td>46</td>\n",
              "      <td>46</td>\n",
              "      <td>46</td>\n",
              "      <td>46</td>\n",
              "      <td>46</td>\n",
              "      <td>46</td>\n",
              "      <td>46</td>\n",
              "    </tr>\n",
              "    <tr>\n",
              "      <th>Local_11</th>\n",
              "      <td>2</td>\n",
              "      <td>2</td>\n",
              "      <td>2</td>\n",
              "      <td>2</td>\n",
              "      <td>2</td>\n",
              "      <td>2</td>\n",
              "      <td>2</td>\n",
              "      <td>2</td>\n",
              "      <td>2</td>\n",
              "    </tr>\n",
              "  </tbody>\n",
              "</table>\n",
              "</div>\n",
              "      <button class=\"colab-df-convert\" onclick=\"convertToInteractive('df-e50bf26c-6070-4318-99d1-cef066d48095')\"\n",
              "              title=\"Convert this dataframe to an interactive table.\"\n",
              "              style=\"display:none;\">\n",
              "        \n",
              "  <svg xmlns=\"http://www.w3.org/2000/svg\" height=\"24px\"viewBox=\"0 0 24 24\"\n",
              "       width=\"24px\">\n",
              "    <path d=\"M0 0h24v24H0V0z\" fill=\"none\"/>\n",
              "    <path d=\"M18.56 5.44l.94 2.06.94-2.06 2.06-.94-2.06-.94-.94-2.06-.94 2.06-2.06.94zm-11 1L8.5 8.5l.94-2.06 2.06-.94-2.06-.94L8.5 2.5l-.94 2.06-2.06.94zm10 10l.94 2.06.94-2.06 2.06-.94-2.06-.94-.94-2.06-.94 2.06-2.06.94z\"/><path d=\"M17.41 7.96l-1.37-1.37c-.4-.4-.92-.59-1.43-.59-.52 0-1.04.2-1.43.59L10.3 9.45l-7.72 7.72c-.78.78-.78 2.05 0 2.83L4 21.41c.39.39.9.59 1.41.59.51 0 1.02-.2 1.41-.59l7.78-7.78 2.81-2.81c.8-.78.8-2.07 0-2.86zM5.41 20L4 18.59l7.72-7.72 1.47 1.35L5.41 20z\"/>\n",
              "  </svg>\n",
              "      </button>\n",
              "      \n",
              "  <style>\n",
              "    .colab-df-container {\n",
              "      display:flex;\n",
              "      flex-wrap:wrap;\n",
              "      gap: 12px;\n",
              "    }\n",
              "\n",
              "    .colab-df-convert {\n",
              "      background-color: #E8F0FE;\n",
              "      border: none;\n",
              "      border-radius: 50%;\n",
              "      cursor: pointer;\n",
              "      display: none;\n",
              "      fill: #1967D2;\n",
              "      height: 32px;\n",
              "      padding: 0 0 0 0;\n",
              "      width: 32px;\n",
              "    }\n",
              "\n",
              "    .colab-df-convert:hover {\n",
              "      background-color: #E2EBFA;\n",
              "      box-shadow: 0px 1px 2px rgba(60, 64, 67, 0.3), 0px 1px 3px 1px rgba(60, 64, 67, 0.15);\n",
              "      fill: #174EA6;\n",
              "    }\n",
              "\n",
              "    [theme=dark] .colab-df-convert {\n",
              "      background-color: #3B4455;\n",
              "      fill: #D2E3FC;\n",
              "    }\n",
              "\n",
              "    [theme=dark] .colab-df-convert:hover {\n",
              "      background-color: #434B5C;\n",
              "      box-shadow: 0px 1px 3px 1px rgba(0, 0, 0, 0.15);\n",
              "      filter: drop-shadow(0px 1px 2px rgba(0, 0, 0, 0.3));\n",
              "      fill: #FFFFFF;\n",
              "    }\n",
              "  </style>\n",
              "\n",
              "      <script>\n",
              "        const buttonEl =\n",
              "          document.querySelector('#df-e50bf26c-6070-4318-99d1-cef066d48095 button.colab-df-convert');\n",
              "        buttonEl.style.display =\n",
              "          google.colab.kernel.accessAllowed ? 'block' : 'none';\n",
              "\n",
              "        async function convertToInteractive(key) {\n",
              "          const element = document.querySelector('#df-e50bf26c-6070-4318-99d1-cef066d48095');\n",
              "          const dataTable =\n",
              "            await google.colab.kernel.invokeFunction('convertToInteractive',\n",
              "                                                     [key], {});\n",
              "          if (!dataTable) return;\n",
              "\n",
              "          const docLinkHtml = 'Like what you see? Visit the ' +\n",
              "            '<a target=\"_blank\" href=https://colab.research.google.com/notebooks/data_table.ipynb>data table notebook</a>'\n",
              "            + ' to learn more about interactive tables.';\n",
              "          element.innerHTML = '';\n",
              "          dataTable['output_type'] = 'display_data';\n",
              "          await google.colab.output.renderOutput(dataTable, element);\n",
              "          const docLink = document.createElement('div');\n",
              "          docLink.innerHTML = docLinkHtml;\n",
              "          element.appendChild(docLink);\n",
              "        }\n",
              "      </script>\n",
              "    </div>\n",
              "  </div>\n",
              "  "
            ],
            "text/plain": [
              "                     Unnamed: 0  Data  ...  Critical Risk  Description\n",
              "Countries  Local                       ...                            \n",
              "Country_03 Local_10          44    44  ...             44           44\n",
              "Country_02 Local_05          59    59  ...             59           59\n",
              "           Local_08          27    27  ...             27           27\n",
              "           Local_02          24    24  ...             24           24\n",
              "           Local_07          14    14  ...             14           14\n",
              "           Local_12           4     4  ...              4            4\n",
              "           Local_09           2     2  ...              2            2\n",
              "Country_01 Local_03          90    90  ...             90           90\n",
              "           Local_01          57    57  ...             57           57\n",
              "           Local_04          56    56  ...             56           56\n",
              "           Local_06          46    46  ...             46           46\n",
              "           Local_11           2     2  ...              2            2\n",
              "\n",
              "[12 rows x 9 columns]"
            ]
          },
          "metadata": {},
          "execution_count": 9
        }
      ]
    },
    {
      "cell_type": "markdown",
      "metadata": {
        "id": "elCZwyiD55Ft"
      },
      "source": [
        "From the above distribution we can see that the most number of accidents have happened in Local_03 from Country_01 followed by Local_05 from Country_02.\n",
        "\n",
        "\n",
        "If we look closely into the above data, Country_01 has more accidents across different cities compared to other two countries.\n",
        "\n",
        "With this observation, I think we can say that Country_01 is less safe compared to others."
      ]
    },
    {
      "cell_type": "code",
      "metadata": {
        "colab": {
          "base_uri": "https://localhost:8080/",
          "height": 279
        },
        "id": "4Z9fi4sw6tFn",
        "outputId": "43188d60-6f05-4985-958b-fb74d35d00f3"
      },
      "source": [
        "# Lets check the distribution of the accidents among male and female.\n",
        "sns.countplot(x=data['Genre']);"
      ],
      "execution_count": null,
      "outputs": [
        {
          "output_type": "display_data",
          "data": {
            "image/png": "[encoded data removed]",
            "text/plain": [
              "<Figure size 432x288 with 1 Axes>"
            ]
          },
          "metadata": {
            "needs_background": "light"
          }
        }
      ]
    },
    {
      "cell_type": "markdown",
      "metadata": {
        "id": "NRFdVnii7BX2"
      },
      "source": [
        "As we can see that there's a huge skew between the accidents among males and females which can be considered obvious as the number of males working in Industrial sectors are way way more than number of females."
      ]
    },
    {
      "cell_type": "code",
      "metadata": {
        "id": "G6jqfPfp7nJG"
      },
      "source": [
        "# Adds two new columns for Year wise and month wise distribution.\n",
        "data['Month_Year'] = data['Data'].apply(lambda x: x[:7])\n",
        "data['Year'] = data['Data'].apply(lambda x: x[:4])"
      ],
      "execution_count": null,
      "outputs": []
    },
    {
      "cell_type": "code",
      "metadata": {
        "colab": {
          "base_uri": "https://localhost:8080/",
          "height": 366
        },
        "id": "gkg5_K7L9F7H",
        "outputId": "d7a7a0f4-1595-4048-d23d-ced91c94b352"
      },
      "source": [
        "plt.rcParams[\"figure.figsize\"] = (20,5)\n",
        "fig, ax = plt.subplots(1,2)\n",
        "plt.xticks(rotation=90)\n",
        "sns.countplot(x=data['Year'], ax=ax[0]);\n",
        "sns.countplot(x=data['Month_Year'], ax=ax[1]);\n",
        "fig.show()"
      ],
      "execution_count": null,
      "outputs": [
        {
          "output_type": "display_data",
          "data": {
            "image/png": "[encoded data removed]",
            "text/plain": [
              "<Figure size 1440x360 with 2 Axes>"
            ]
          },
          "metadata": {
            "needs_background": "light"
          }
        }
      ]
    },
    {
      "cell_type": "markdown",
      "metadata": {
        "id": "DG8QAQsK91Fq"
      },
      "source": [
        "From the above two distributions, we can see that number of accidents in 2016 were much more compared to 2017.\n",
        "\n",
        "Also, if we see from the monthly distribution, we can see that the number of accidents are more in the month of Feb to Jun in 2016. There is no definite pattern that we can identify from this, though."
      ]
    },
    {
      "cell_type": "code",
      "metadata": {
        "colab": {
          "base_uri": "https://localhost:8080/",
          "height": 335
        },
        "id": "EjB57iCL-fAm",
        "outputId": "61fa0f97-307a-4d68-ea0c-492b9b169af3"
      },
      "source": [
        "sns.countplot(x=data['Countries'], hue=data['Local']);"
      ],
      "execution_count": null,
      "outputs": [
        {
          "output_type": "display_data",
          "data": {
            "image/png": "[encoded data removed]",
            "text/plain": [
              "<Figure size 1440x360 with 1 Axes>"
            ]
          },
          "metadata": {
            "needs_background": "light"
          }
        }
      ]
    },
    {
      "cell_type": "code",
      "source": [
        "fig, ax = plt.subplots(1,3)\n",
        "plt.xticks(rotation=90)\n",
        "sns.countplot(x=data['Countries'], ax=ax[0]);\n",
        "sns.countplot(x=data['Countries'], hue=data['Accident Level'], ax=ax[1]);\n",
        "sns.countplot(x=data['Countries'], hue=data['Industry Sector'], ax=ax[2]);\n",
        "fig.show()"
      ],
      "metadata": {
        "colab": {
          "base_uri": "https://localhost:8080/",
          "height": 381
        },
        "id": "34vtuv3RClNE",
        "outputId": "03318aff-8a2a-4c5d-fe7c-bc17a04760e0"
      },
      "execution_count": null,
      "outputs": [
        {
          "output_type": "display_data",
          "data": {
            "image/png": "[encoded data removed]",
            "text/plain": [
              "<Figure size 1440x360 with 3 Axes>"
            ]
          },
          "metadata": {
            "needs_background": "light"
          }
        }
      ]
    },
    {
      "cell_type": "markdown",
      "source": [
        "If we look at above charts, we see that Country 1 has most number of accidents and also the number of severe accidents are much more than other countries.\n",
        "\n",
        "Country 1 is the only country which has severity V accident.\n",
        "\n",
        "Coming to industry sector, Country 1 has most accidents in Mining whereas Country 2 has more accidents in Metals sector."
      ],
      "metadata": {
        "id": "_tdJwdIPCpw2"
      }
    },
    {
      "cell_type": "code",
      "source": [
        "# Checking the accident distribution in the industries\n",
        "plt.rcParams[\"figure.figsize\"] = (8,5)\n",
        "sns.countplot(x=data['Industry Sector']);"
      ],
      "metadata": {
        "colab": {
          "base_uri": "https://localhost:8080/",
          "height": 334
        },
        "id": "a3pvOPyB6cCz",
        "outputId": "8db938f6-af3b-4880-cd0e-8747cb16449a"
      },
      "execution_count": null,
      "outputs": [
        {
          "output_type": "display_data",
          "data": {
            "image/png": "[encoded data removed]",
            "text/plain": [
              "<Figure size 576x360 with 1 Axes>"
            ]
          },
          "metadata": {
            "needs_background": "light"
          }
        }
      ]
    },
    {
      "cell_type": "markdown",
      "source": [
        "As we can see that the highest number of accidents are happening in mining industries which has been the case, in general."
      ],
      "metadata": {
        "id": "mPi4wqzS6vvX"
      }
    },
    {
      "cell_type": "code",
      "source": [
        "#Checking how critical the accidents have been in each industry\n",
        "sns.countplot(x=data['Industry Sector'], hue= data['Accident Level']);"
      ],
      "metadata": {
        "colab": {
          "base_uri": "https://localhost:8080/",
          "height": 334
        },
        "id": "0jsbdjnY64NG",
        "outputId": "11099f82-704b-435f-92c9-b429ab7cb4da"
      },
      "execution_count": null,
      "outputs": [
        {
          "output_type": "display_data",
          "data": {
            "image/png": "[encoded data removed]",
            "text/plain": [
              "<Figure size 576x360 with 1 Axes>"
            ]
          },
          "metadata": {
            "needs_background": "light"
          }
        }
      ]
    },
    {
      "cell_type": "markdown",
      "source": [
        "From the above chart we can see that most of the accidents have not been severe in all the sectors. From this chart, we don't see any accident with value VI which means that there has not been a single accident which was most severe. Let's check the counts as well to verify that."
      ],
      "metadata": {
        "id": "DNwdmOiP7X_Y"
      }
    },
    {
      "cell_type": "code",
      "source": [
        "data['Accident Level'].value_counts()"
      ],
      "metadata": {
        "colab": {
          "base_uri": "https://localhost:8080/"
        },
        "id": "kwwHlOPG7n30",
        "outputId": "5107cdbc-7d3e-4bcc-8d99-dc4615b2f363"
      },
      "execution_count": null,
      "outputs": [
        {
          "output_type": "execute_result",
          "data": {
            "text/plain": [
              "I      316\n",
              "II      40\n",
              "III     31\n",
              "IV      30\n",
              "V        8\n",
              "Name: Accident Level, dtype: int64"
            ]
          },
          "metadata": {},
          "execution_count": 17
        }
      ]
    },
    {
      "cell_type": "markdown",
      "source": [
        "The problem description says that accident level could be between I to VI, but as we can see that there is not a single accident with value VI.\n",
        "\n",
        "Apart from that we can also see that there is a huge imbalance in the accident level distribution."
      ],
      "metadata": {
        "id": "0V6S5X0T7yW-"
      }
    },
    {
      "cell_type": "code",
      "source": [
        "plt.rcParams[\"figure.figsize\"] = (20,5)\n",
        "fig, ax = plt.subplots(1,2)\n",
        "sns.countplot(x=data['Employee or Third Party'], ax=ax[0]);\n",
        "sns.countplot(x=data['Employee or Third Party'], hue=data['Accident Level'], ax=ax[1]);\n",
        "fig.show()"
      ],
      "metadata": {
        "colab": {
          "base_uri": "https://localhost:8080/",
          "height": 334
        },
        "id": "ZNRsfGgB8aXf",
        "outputId": "ecacbe26-58cf-4d9c-f037-183d5ccdce33"
      },
      "execution_count": null,
      "outputs": [
        {
          "output_type": "display_data",
          "data": {
            "image/png": "[encoded data removed]",
            "text/plain": [
              "<Figure size 1440x360 with 2 Axes>"
            ]
          },
          "metadata": {
            "needs_background": "light"
          }
        }
      ]
    },
    {
      "cell_type": "markdown",
      "source": [
        "From the above two charts it is clear that the number of accidents are much more in third party compared to Employee which indicates that third party is more prone to accidents.\n",
        "\n",
        "Also, the accident type distribution among employees and third party is same as the overall accident distribution."
      ],
      "metadata": {
        "id": "3oMB0WRY88qq"
      }
    },
    {
      "cell_type": "markdown",
      "source": [
        "Based on the EDA done above, we can make following observations:\n",
        "\n",
        "1. Overall, there has not been a single case of most severe accident (VI) which indicates that the industries have taken appropriate measures to avoid the most severe accidents.\n",
        "\n",
        "2. The accident level distribution is very skewed where the least severe accidents are much more compared to more severe accidents which is also a good indication that industries have taken measures to prevent severe accidents, in general or we can say that the people have also taken right precautions to avoid severe accidents, in general.\n",
        "\n",
        "3. The distribution in males is much more compared to females, which is also expected given the nature of employment.\n",
        "\n",
        "4. There are more accidents in third party compared to employees which can indicate two things, either the third party people does not take enough precautions or the industries does not provide enough safety measures for third party people.\n",
        "\n",
        "5. The most number of accidents are from Country 1 which indicates that it is most prone to accidents and also it has more number of severe accidents compared to other countries. Also, Country 1 has most number of accidents in Mining sector whereas Country 2 has most in Metals sector. This indicates that Country 1 needs to take more safety measures in mining sector.\n",
        "\n",
        "6. The number of accidents have been more in 2016 and it reduced by half in 2017 indicating that some improvement has happened in the safety measures from 2016-2017"
      ],
      "metadata": {
        "id": "KtFadmi79TmJ"
      }
    },
    {
      "cell_type": "code",
      "source": [
        "if data.duplicated().sum() > 0:\n",
        "  print('Removing duplicate records')\n",
        "  data.drop_duplicates(inplace=True)"
      ],
      "metadata": {
        "id": "AYXhlD4sD5jw"
      },
      "execution_count": null,
      "outputs": []
    },
    {
      "cell_type": "code",
      "metadata": {
        "colab": {
          "base_uri": "https://localhost:8080/"
        },
        "id": "D-wl0tdUHbof",
        "outputId": "f70e5695-5d0b-4cf8-a01b-5442fb39770d"
      },
      "source": [
        "# Printing descriptions of a few accidents\n",
        "\n",
        "for i in range(0,10):\n",
        "  print(data['Description'][i])\n",
        "  print()"
      ],
      "execution_count": null,
      "outputs": [
        {
          "output_type": "stream",
          "name": "stdout",
          "text": [
            "While removing the drill rod of the Jumbo 08 for maintenance, the supervisor proceeds to loosen the support of the intermediate centralizer to facilitate the removal, seeing this the mechanic supports one end on the drill of the equipment to pull with both hands the bar and accelerate the removal from this, at this moment the bar slides from its point of support and tightens the fingers of the mechanic between the drilling bar and the beam of the jumbo.\n",
            "\n",
            "During the activation of a sodium sulphide pump, the piping was uncoupled and the sulfide solution was designed in the area to reach the maid. Immediately she made use of the emergency shower and was directed to the ambulatory doctor and later to the hospital. Note: of sulphide solution = 48 grams / liter.\n",
            "\n",
            "In the sub-station MILPO located at level +170 when the collaborator was doing the excavation work with a pick (hand tool), hitting a rock with the flat part of the beak, it bounces off hitting the steel tip of the safety shoe and then the metatarsal area of ​​the left foot of the collaborator causing the injury.\n",
            "\n",
            "Being 9:45 am. approximately in the Nv. 1880 CX-695 OB7, the personnel begins the task of unlocking the Soquet bolts of the BHB machine, when they were in the penultimate bolt they identified that the hexagonal head was worn, proceeding Mr. Cristóbal - Auxiliary assistant to climb to the platform to exert pressure with your hand on the \"DADO\" key, to prevent it from coming out of the bolt; in those moments two collaborators rotate with the lever in anti-clockwise direction, leaving the key of the bolt, hitting the palm of the left hand, causing the injury.\n",
            "\n",
            "Approximately at 11:45 a.m. in circumstances that the mechanics Anthony (group leader), Eduardo and Eric Fernández-injured-the three of the Company IMPROMEC, performed the removal of the pulley of the motor of the pump 3015 in the ZAF of Marcy. 27 cm / Length: 33 cm / Weight: 70 kg), as it was locked proceed to heating the pulley to loosen it, it comes out and falls from a distance of 1.06 meters high and hits the instep of the right foot of the worker, causing the injury described.\n",
            "\n",
            "During the unloading operation of the ustulado Bag there was a need to unclog the discharge mouth of the silo truck. In performing this procedure, there was a maneuver of unhooking the hose without the total depressurisation of the mouth, projecting ustulado powder in the collaborator caused irritation in the eyes.\n",
            "\n",
            "The collaborator reports that he was on street 09 holding in his left hand the volumetric balloon, when he slipped and when placing his hand on the ground the volumetric balloon ended up breaking caused a small wound in his left hand.\n",
            "\n",
            "At approximately 04:50 p.m., when the mechanic technician José of the Tecnomin verified the transmission belts of the HM-100 pump at the Acid plant, he proceeded to turn the pulley manually; unexpectedly at that instant the electrician supervisor Miguel of the EKA Mining grabs the transmission belts to verify their tension, at which point the finger traps.\n",
            "\n",
            "Employee was sitting in the resting area at level 326 (raise bore), when he suffered sudden illness, falling and suffering excoriation on the face.\n",
            "\n",
            "At the moment the forklift operator went to manipulate big bag of bioxide in section 70 and just in front of the ladder that leads to the area of ​​manual displacement, he splashed spent at the height of his forehead from a fissure in pipe G -069, subsequently spilling to his left eye. The collaborator went to the nearby eyewash for cleaning and immediately to the medical center.\n",
            "\n"
          ]
        }
      ]
    },
    {
      "cell_type": "code",
      "metadata": {
        "colab": {
          "base_uri": "https://localhost:8080/"
        },
        "id": "pr9x3NjmVm6H",
        "outputId": "0744a1e3-e6d7-4c21-b4b1-235cee67cd7c"
      },
      "source": [
        "nltk.download('stopwords')\n",
        "nltk.download('wordnet')\n",
        "stopWords = stopwords.words('english')"
      ],
      "execution_count": null,
      "outputs": [
        {
          "output_type": "stream",
          "name": "stdout",
          "text": [
            "[nltk_data] Downloading package stopwords to /root/nltk_data...\n",
            "[nltk_data]   Package stopwords is already up-to-date!\n",
            "[nltk_data] Downloading package wordnet to /root/nltk_data...\n",
            "[nltk_data]   Package wordnet is already up-to-date!\n"
          ]
        }
      ]
    },
    {
      "cell_type": "code",
      "metadata": {
        "id": "5Ei6FX7tVcJv"
      },
      "source": [
        "space=' '\n",
        "def cleanseText(text):\n",
        "  try:\n",
        "    text = re.sub('[^\\w\\s]+', space, text)\n",
        "    text = re.sub(r'\\s\\s+', space, text)\n",
        "    text = re.sub(r'^A-Za-z]', space, text)         \n",
        "    words = text.strip().lower().split()    \n",
        "    words = [w for w in words if len(w)>=1]\n",
        "    desc = space.join(words)\n",
        "    descWords = [word.lower() for word in desc.split() if word.lower() not in stopWords]\n",
        "    return space.join(descWords)\n",
        "  except:\n",
        "    print('Error occured during cleansing the text:', text)\n",
        "    return ''"
      ],
      "execution_count": null,
      "outputs": []
    },
    {
      "cell_type": "code",
      "metadata": {
        "id": "nn5ck3XvVhND"
      },
      "source": [
        "# Removing the stop words and cleansing the data to be later used for training the model.\n",
        "data['Description'] = data['Description'].apply(cleanseText)"
      ],
      "execution_count": null,
      "outputs": []
    },
    {
      "cell_type": "code",
      "metadata": {
        "id": "kqrpbnOGW8H9"
      },
      "source": [
        "# Expand the short forms.\n",
        "def expand(phrase):\n",
        "    # specific\n",
        "    phrase = re.sub(r\"won\\'t\", \"will not\", phrase)\n",
        "    phrase = re.sub(r\"can\\'t\", \"can not\", phrase)\n",
        "    phrase = re.sub(r\"don\\'t\", \"do not\", phrase)\n",
        "\n",
        "    # general\n",
        "    phrase = re.sub(r\"n\\'t\", \" not\", phrase)\n",
        "    phrase = re.sub(r\"\\'re\", \" are\", phrase)\n",
        "    phrase = re.sub(r\"\\'s\", \" is\", phrase)\n",
        "    phrase = re.sub(r\"\\'d\", \" would\", phrase)\n",
        "    phrase = re.sub(r\"\\'ll\", \" will\", phrase)\n",
        "    phrase = re.sub(r\"\\'t\", \" not\", phrase)\n",
        "    phrase = re.sub(r\"\\'ve\", \" have\", phrase)\n",
        "    phrase = re.sub(r\"\\'m\", \" am\", phrase)\n",
        "    phrase = re.sub(r\"[^A-Za-z]+\", \" \", phrase)\n",
        "    return phrase.lower()"
      ],
      "execution_count": null,
      "outputs": []
    },
    {
      "cell_type": "code",
      "metadata": {
        "id": "p2kSqVkKW_Y-"
      },
      "source": [
        "data['Description'] = data['Description'].apply(expand)"
      ],
      "execution_count": null,
      "outputs": []
    },
    {
      "cell_type": "code",
      "source": [
        "lemmatizer = WordNetLemmatizer()\n",
        "\n",
        "def lemma(text):\n",
        "  words = text.split()\n",
        "  text = [lemmatizer.lemmatize(word) for word in words if word not in string.punctuation]\n",
        "  return space.join(text)"
      ],
      "metadata": {
        "id": "p33nLITcJIxV"
      },
      "execution_count": null,
      "outputs": []
    },
    {
      "cell_type": "code",
      "source": [
        "data['Description'] = data['Description'].apply(lemma)"
      ],
      "metadata": {
        "id": "rZpdrGzOJpCH"
      },
      "execution_count": null,
      "outputs": []
    },
    {
      "cell_type": "code",
      "source": [
        "chk = data['Description'].apply(len)\n",
        "chk.sort_values()"
      ],
      "metadata": {
        "colab": {
          "base_uri": "https://localhost:8080/"
        },
        "id": "RZa-pRJqKFY8",
        "outputId": "1bf711ca-eeda-46ce-c217-1d20c1337258"
      },
      "execution_count": null,
      "outputs": [
        {
          "output_type": "execute_result",
          "data": {
            "text/plain": [
              "208     61\n",
              "250     62\n",
              "305     64\n",
              "275     65\n",
              "230     68\n",
              "      ... \n",
              "156    566\n",
              "371    572\n",
              "338    630\n",
              "79     639\n",
              "174    657\n",
              "Name: Description, Length: 425, dtype: int64"
            ]
          },
          "metadata": {},
          "execution_count": 28
        }
      ]
    },
    {
      "cell_type": "markdown",
      "source": [
        "After cleansing, the description has minimum of 61 and maximum of 657 characters"
      ],
      "metadata": {
        "id": "xGOF-MK4LHdJ"
      }
    },
    {
      "cell_type": "code",
      "source": [
        "# Creating word2vec model with 50 embeddings\n",
        "embeddings_index = {}\n",
        "f = open(parent_dir+'glove.6B.50d.txt')\n",
        "\n",
        "for line in f:\n",
        "    values = line.split(' ')\n",
        "    word = values[0]\n",
        "    coefs = np.asarray(values[1:], dtype='float32')\n",
        "    embeddings_index[word] = coefs\n",
        "f.close()"
      ],
      "metadata": {
        "id": "vt7nJUuDMQ6K"
      },
      "execution_count": null,
      "outputs": []
    },
    {
      "cell_type": "code",
      "source": [
        "embeddings_index.get('drill')"
      ],
      "metadata": {
        "colab": {
          "base_uri": "https://localhost:8080/"
        },
        "id": "P8MhPH6XMYdd",
        "outputId": "8243cb03-a986-4970-918a-0e967b89aa62"
      },
      "execution_count": null,
      "outputs": [
        {
          "output_type": "execute_result",
          "data": {
            "text/plain": [
              "array([-0.0055476, -0.39273  ,  0.15205  ,  0.4551   , -0.36954  ,\n",
              "       -0.40238  ,  0.36912  ,  0.747    ,  0.55792  , -0.83863  ,\n",
              "       -0.37462  , -0.20634  ,  0.40669  ,  1.1276   , -0.79788  ,\n",
              "       -0.24294  ,  0.27706  ,  1.0719   , -1.1724   , -0.61039  ,\n",
              "        0.54103  ,  0.18078  ,  0.202    , -1.0802   ,  0.58973  ,\n",
              "       -0.91807  , -0.0088915,  0.059115 ,  0.47291  , -0.655    ,\n",
              "        1.9677   , -0.56201  , -0.96587  ,  0.35787  ,  0.13509  ,\n",
              "        0.80648  ,  0.33995  , -0.36178  ,  0.32938  ,  0.1069   ,\n",
              "       -0.42603  , -0.75837  ,  0.019512 ,  0.41161  ,  0.94834  ,\n",
              "       -0.72586  ,  1.4135   ,  0.69039  , -0.87651  ,  0.18577  ],\n",
              "      dtype=float32)"
            ]
          },
          "metadata": {},
          "execution_count": 30
        }
      ]
    },
    {
      "cell_type": "code",
      "source": [
        "EMBEDDING_DIM = embeddings_index.get('drill').shape[0]"
      ],
      "metadata": {
        "id": "_jVBUOwKSsvC"
      },
      "execution_count": null,
      "outputs": []
    },
    {
      "cell_type": "code",
      "source": [
        "data['Accident Level'].value_counts()\n",
        "\n",
        "I = data[data['Accident Level']== 'I']\n",
        "II = data[data['Accident Level']== 'II']\n",
        "III = data[data['Accident Level']== 'III']\n",
        "IV = data[data['Accident Level']== 'IV']\n",
        "V = data[data['Accident Level']== 'V']\n",
        "\n",
        "\n",
        "max_accidents = len(I)\n",
        "I_scaled = resample(I, replace=False, n_samples=max_accidents, random_state=seed)\n",
        "II_scaled = resample(II, replace=True, n_samples=max_accidents, random_state=seed)\n",
        "III_scaled = resample(III, replace=True, n_samples=max_accidents, random_state=seed)\n",
        "IV_scaled = resample(IV, replace=True, n_samples=max_accidents, random_state=seed)\n",
        "V_scaled = resample(V, replace=True, n_samples=max_accidents, random_state=seed)\n",
        "\n",
        "data_new = pd.concat([I_scaled, II_scaled, III_scaled, IV_scaled, V_scaled])"
      ],
      "metadata": {
        "id": "4G_sOvdtaSSA"
      },
      "execution_count": null,
      "outputs": []
    },
    {
      "cell_type": "code",
      "source": [
        "X = data_new['Description']\n",
        "y = data_new['Accident Level']\n",
        "\n",
        "y = LabelEncoder().fit_transform(y).astype(np.int8)\n",
        "\n",
        "X_train, X_test, y_train, y_test = train_test_split(X, y, test_size=0.3, random_state=seed, stratify=y)"
      ],
      "metadata": {
        "id": "sI6FYA5WQTgA"
      },
      "execution_count": null,
      "outputs": []
    },
    {
      "cell_type": "code",
      "source": [
        "# Tokenizing and setting max length\n",
        "tokenizer = Tokenizer()\n",
        "\n",
        "tokenizer.fit_on_texts(X_train)\n",
        "\n",
        "train_token = tokenizer.texts_to_sequences(X_train)\n",
        "test_token = tokenizer.texts_to_sequences(X_test)\n",
        "\n",
        "max_len = 200\n",
        "train_padded = pad_sequences(train_token, maxlen=max_len, padding='post', truncating='post')\n",
        "test_padded = pad_sequences(test_token, maxlen=max_len, padding='post', truncating='post')"
      ],
      "metadata": {
        "id": "gQCYFTtqR_7Q"
      },
      "execution_count": null,
      "outputs": []
    },
    {
      "cell_type": "code",
      "source": [
        "# Printing the vocabulary size and creating embedding matrix\n",
        "embedding_matrix_row = len(tokenizer.word_index) + 1\n",
        "print('No of vocabs :', embedding_matrix_row)\n",
        "embedding_matrix = np.zeros((embedding_matrix_row, EMBEDDING_DIM))\n",
        "\n",
        "for word, i in tokenizer.word_index.items():\n",
        "  embedding_vector = embeddings_index.get(word)\n",
        "  if embedding_vector is not None:\n",
        "    embedding_matrix[i] = embedding_vector\n",
        "\n",
        "embedding_matrix.shape"
      ],
      "metadata": {
        "colab": {
          "base_uri": "https://localhost:8080/"
        },
        "id": "HgQesmgaST6u",
        "outputId": "57501d19-d5d4-48f5-da7a-d4afe4c74420"
      },
      "execution_count": null,
      "outputs": [
        {
          "output_type": "stream",
          "name": "stdout",
          "text": [
            "No of vocabs : 2517\n"
          ]
        },
        {
          "output_type": "execute_result",
          "data": {
            "text/plain": [
              "(2517, 50)"
            ]
          },
          "metadata": {},
          "execution_count": 35
        }
      ]
    },
    {
      "cell_type": "code",
      "source": [
        "# Running grid search with ML algorithms, printing the best params, best score, classification report\n",
        "def Model_Report(X_train, y_train, X_val, y_val):\n",
        "\n",
        "  models = ['LR', 'SVC', 'RF', 'ADA', 'ExTC', 'KNN', 'LGBM', 'XGB']\n",
        "\n",
        "  clfs = [\n",
        "          LogisticRegression(solver='liblinear', random_state=seed),\n",
        "          SVC(random_state=seed, probability=True),\n",
        "          RandomForestClassifier(n_jobs=10, random_state=seed),\n",
        "          AdaBoostClassifier(random_state=seed),\n",
        "          ExtraTreesClassifier(random_state=seed, n_jobs=10),\n",
        "          KNeighborsClassifier(n_jobs=10),\n",
        "          LGBMClassifier(n_jobs=10, random_state=seed),\n",
        "          XGBClassifier(n_jobs=10, random_state=seed)\n",
        "        ]\n",
        "\n",
        "  params = {\n",
        "          models[0]: {'penalty': ['l1', 'l2'], 'C': [0.1,1,10]},\n",
        "          models[1]: {'C': [1,10], 'gamma':[0.01,0.1,1]},\n",
        "          models[2]: {'n_estimators': [10, 100], 'max_depth': [10, 15]},\n",
        "          models[3]: {'n_estimators': [100,200], 'learning_rate': [0.1, 1]},\n",
        "          models[4]: {'n_estimators': [10, 100], 'max_depth': [10, 15]},\n",
        "          models[5]: {'n_neighbors': [2, 5, 8], 'weights': ['uniform', 'distance']},\n",
        "          models[6]: {'n_estimators': [100], 'learning_rate': [0.01, 0.1]},\n",
        "          models[7]: {'n_estimators': [100, 200], 'gamma': [0.01, 0.1]}\n",
        "\n",
        "      }\n",
        "\n",
        "  result = {}\n",
        "\n",
        "  for name, estimator in zip(models, clfs):\n",
        "    print('')\n",
        "    print('--'*50)\n",
        "    print(\"Running model: \" + name)\n",
        "\n",
        "    clf = GridSearchCV(estimator, params[name], cv=5)\n",
        "\n",
        "    clf.fit(X_train, y_train)\n",
        "\n",
        "    print(\"Best params: \" + str(clf.best_params_))\n",
        "    print(\"Best score: \" + str(round(clf.best_score_,3)))\n",
        "\n",
        "    y_pred = clf.predict(X_val)\n",
        "    acc = accuracy_score(y_val, y_pred)\n",
        "\n",
        "    df_report = classification_report(y_val, y_pred)\n",
        "    print(df_report)\n",
        "\n",
        "    clf_train_score = round(clf.best_score_,3)\n",
        "    clf_recall = round((metrics.recall_score(y_val, y_pred, average='weighted')), 3)   \n",
        "    clf_precision = round((metrics.precision_score(y_val, y_pred, average='weighted')), 3) \n",
        "    clf_f1score = round((metrics.f1_score(y_val, y_pred, average='weighted')),3)\n",
        "      \n",
        "    result[name] = [clf_train_score, acc, clf_recall, clf_precision, clf_f1score]\n",
        "\n",
        "  result_tab = pd.DataFrame(np.array(list(result.values()))[:,:],\n",
        "                          columns= ['Training Score', 'Accuracy', 'Recall', 'Precision', 'F1 score'],\n",
        "                        index= result.keys())\n",
        "\n",
        "  result_tab.index.name = 'Model_Name'\n",
        "\n",
        "  return result_tab, clf"
      ],
      "metadata": {
        "id": "KSjc7YFwRsOz"
      },
      "execution_count": null,
      "outputs": []
    },
    {
      "cell_type": "code",
      "source": [
        "# Train ML model, print classification report, summmarized table\n",
        "result, clf= Model_Report(train_padded, y_train, test_padded, y_test)\n",
        "print('--'*50)\n",
        "print()\n",
        "result"
      ],
      "metadata": {
        "colab": {
          "base_uri": "https://localhost:8080/",
          "height": 1000
        },
        "id": "x4lY-qnwR4mo",
        "outputId": "23f8f83a-d847-42b4-f205-017fa6e33a28"
      },
      "execution_count": null,
      "outputs": [
        {
          "output_type": "stream",
          "name": "stdout",
          "text": [
            "\n",
            "----------------------------------------------------------------------------------------------------\n",
            "Running model: LR\n",
            "Best params: {'C': 1, 'penalty': 'l1'}\n",
            "Best score: 0.747\n",
            "              precision    recall  f1-score   support\n",
            "\n",
            "           0       0.46      0.33      0.38        94\n",
            "           1       0.60      0.62      0.61        95\n",
            "           2       0.76      0.77      0.76        95\n",
            "           3       0.80      0.85      0.83        95\n",
            "           4       0.86      1.00      0.92        95\n",
            "\n",
            "    accuracy                           0.72       474\n",
            "   macro avg       0.70      0.71      0.70       474\n",
            "weighted avg       0.70      0.72      0.70       474\n",
            "\n",
            "\n",
            "----------------------------------------------------------------------------------------------------\n",
            "Running model: SVC\n",
            "Best params: {'C': 1, 'gamma': 0.01}\n",
            "Best score: 0.991\n",
            "              precision    recall  f1-score   support\n",
            "\n",
            "           0       0.94      1.00      0.97        94\n",
            "           1       1.00      0.92      0.96        95\n",
            "           2       1.00      1.00      1.00        95\n",
            "           3       0.98      1.00      0.99        95\n",
            "           4       1.00      1.00      1.00        95\n",
            "\n",
            "    accuracy                           0.98       474\n",
            "   macro avg       0.98      0.98      0.98       474\n",
            "weighted avg       0.98      0.98      0.98       474\n",
            "\n",
            "\n",
            "----------------------------------------------------------------------------------------------------\n",
            "Running model: RF\n",
            "Best params: {'max_depth': 15, 'n_estimators': 100}\n",
            "Best score: 0.986\n",
            "              precision    recall  f1-score   support\n",
            "\n",
            "           0       0.94      0.99      0.96        94\n",
            "           1       0.99      0.92      0.95        95\n",
            "           2       1.00      1.00      1.00        95\n",
            "           3       0.98      1.00      0.99        95\n",
            "           4       1.00      1.00      1.00        95\n",
            "\n",
            "    accuracy                           0.98       474\n",
            "   macro avg       0.98      0.98      0.98       474\n",
            "weighted avg       0.98      0.98      0.98       474\n",
            "\n",
            "\n",
            "----------------------------------------------------------------------------------------------------\n",
            "Running model: ADA\n",
            "Best params: {'learning_rate': 1, 'n_estimators': 200}\n",
            "Best score: 0.722\n",
            "              precision    recall  f1-score   support\n",
            "\n",
            "           0       0.56      0.52      0.54        94\n",
            "           1       0.60      0.59      0.60        95\n",
            "           2       0.58      0.67      0.62        95\n",
            "           3       0.74      0.68      0.71        95\n",
            "           4       1.00      1.00      1.00        95\n",
            "\n",
            "    accuracy                           0.69       474\n",
            "   macro avg       0.70      0.69      0.69       474\n",
            "weighted avg       0.70      0.69      0.69       474\n",
            "\n",
            "\n",
            "----------------------------------------------------------------------------------------------------\n",
            "Running model: ExTC\n",
            "Best params: {'max_depth': 15, 'n_estimators': 100}\n",
            "Best score: 0.987\n",
            "              precision    recall  f1-score   support\n",
            "\n",
            "           0       0.93      0.89      0.91        94\n",
            "           1       0.90      0.92      0.91        95\n",
            "           2       1.00      1.00      1.00        95\n",
            "           3       0.98      1.00      0.99        95\n",
            "           4       1.00      1.00      1.00        95\n",
            "\n",
            "    accuracy                           0.96       474\n",
            "   macro avg       0.96      0.96      0.96       474\n",
            "weighted avg       0.96      0.96      0.96       474\n",
            "\n",
            "\n",
            "----------------------------------------------------------------------------------------------------\n",
            "Running model: KNN\n",
            "Best params: {'n_neighbors': 2, 'weights': 'uniform'}\n",
            "Best score: 0.881\n",
            "              precision    recall  f1-score   support\n",
            "\n",
            "           0       0.87      0.43      0.57        94\n",
            "           1       0.81      0.92      0.86        95\n",
            "           2       0.88      1.00      0.94        95\n",
            "           3       0.88      1.00      0.94        95\n",
            "           4       0.90      1.00      0.95        95\n",
            "\n",
            "    accuracy                           0.87       474\n",
            "   macro avg       0.87      0.87      0.85       474\n",
            "weighted avg       0.87      0.87      0.85       474\n",
            "\n",
            "\n",
            "----------------------------------------------------------------------------------------------------\n",
            "Running model: LGBM\n",
            "Best params: {'learning_rate': 0.1, 'n_estimators': 100}\n",
            "Best score: 0.987\n",
            "              precision    recall  f1-score   support\n",
            "\n",
            "           0       0.93      0.80      0.86        94\n",
            "           1       0.92      0.92      0.92        95\n",
            "           2       0.96      1.00      0.98        95\n",
            "           3       0.94      1.00      0.97        95\n",
            "           4       0.97      1.00      0.98        95\n",
            "\n",
            "    accuracy                           0.94       474\n",
            "   macro avg       0.94      0.94      0.94       474\n",
            "weighted avg       0.94      0.94      0.94       474\n",
            "\n",
            "\n",
            "----------------------------------------------------------------------------------------------------\n",
            "Running model: XGB\n",
            "Best params: {'gamma': 0.01, 'n_estimators': 200}\n",
            "Best score: 0.983\n",
            "              precision    recall  f1-score   support\n",
            "\n",
            "           0       0.96      0.77      0.85        94\n",
            "           1       0.93      0.95      0.94        95\n",
            "           2       0.94      1.00      0.97        95\n",
            "           3       0.91      1.00      0.95        95\n",
            "           4       0.98      1.00      0.99        95\n",
            "\n",
            "    accuracy                           0.94       474\n",
            "   macro avg       0.94      0.94      0.94       474\n",
            "weighted avg       0.94      0.94      0.94       474\n",
            "\n",
            "----------------------------------------------------------------------------------------------------\n",
            "\n"
          ]
        },
        {
          "output_type": "execute_result",
          "data": {
            "text/html": [
              "\n",
              "  <div id=\"df-910c6875-7558-452c-a70c-aadd465283fd\">\n",
              "    <div class=\"colab-df-container\">\n",
              "      <div>\n",
              "<style scoped>\n",
              "    .dataframe tbody tr th:only-of-type {\n",
              "        vertical-align: middle;\n",
              "    }\n",
              "\n",
              "    .dataframe tbody tr th {\n",
              "        vertical-align: top;\n",
              "    }\n",
              "\n",
              "    .dataframe thead th {\n",
              "        text-align: right;\n",
              "    }\n",
              "</style>\n",
              "<table border=\"1\" class=\"dataframe\">\n",
              "  <thead>\n",
              "    <tr style=\"text-align: right;\">\n",
              "      <th></th>\n",
              "      <th>Training Score</th>\n",
              "      <th>Accuracy</th>\n",
              "      <th>Recall</th>\n",
              "      <th>Precision</th>\n",
              "      <th>F1 score</th>\n",
              "    </tr>\n",
              "    <tr>\n",
              "      <th>Model_Name</th>\n",
              "      <th></th>\n",
              "      <th></th>\n",
              "      <th></th>\n",
              "      <th></th>\n",
              "      <th></th>\n",
              "    </tr>\n",
              "  </thead>\n",
              "  <tbody>\n",
              "    <tr>\n",
              "      <th>LR</th>\n",
              "      <td>0.747</td>\n",
              "      <td>0.715190</td>\n",
              "      <td>0.715</td>\n",
              "      <td>0.696</td>\n",
              "      <td>0.702</td>\n",
              "    </tr>\n",
              "    <tr>\n",
              "      <th>SVC</th>\n",
              "      <td>0.991</td>\n",
              "      <td>0.983122</td>\n",
              "      <td>0.983</td>\n",
              "      <td>0.984</td>\n",
              "      <td>0.983</td>\n",
              "    </tr>\n",
              "    <tr>\n",
              "      <th>RF</th>\n",
              "      <td>0.986</td>\n",
              "      <td>0.981013</td>\n",
              "      <td>0.981</td>\n",
              "      <td>0.982</td>\n",
              "      <td>0.981</td>\n",
              "    </tr>\n",
              "    <tr>\n",
              "      <th>ADA</th>\n",
              "      <td>0.722</td>\n",
              "      <td>0.694093</td>\n",
              "      <td>0.694</td>\n",
              "      <td>0.696</td>\n",
              "      <td>0.694</td>\n",
              "    </tr>\n",
              "    <tr>\n",
              "      <th>ExTC</th>\n",
              "      <td>0.987</td>\n",
              "      <td>0.962025</td>\n",
              "      <td>0.962</td>\n",
              "      <td>0.962</td>\n",
              "      <td>0.962</td>\n",
              "    </tr>\n",
              "    <tr>\n",
              "      <th>KNN</th>\n",
              "      <td>0.881</td>\n",
              "      <td>0.869198</td>\n",
              "      <td>0.869</td>\n",
              "      <td>0.869</td>\n",
              "      <td>0.852</td>\n",
              "    </tr>\n",
              "    <tr>\n",
              "      <th>LGBM</th>\n",
              "      <td>0.987</td>\n",
              "      <td>0.943038</td>\n",
              "      <td>0.943</td>\n",
              "      <td>0.942</td>\n",
              "      <td>0.941</td>\n",
              "    </tr>\n",
              "    <tr>\n",
              "      <th>XGB</th>\n",
              "      <td>0.983</td>\n",
              "      <td>0.943038</td>\n",
              "      <td>0.943</td>\n",
              "      <td>0.944</td>\n",
              "      <td>0.941</td>\n",
              "    </tr>\n",
              "  </tbody>\n",
              "</table>\n",
              "</div>\n",
              "      <button class=\"colab-df-convert\" onclick=\"convertToInteractive('df-910c6875-7558-452c-a70c-aadd465283fd')\"\n",
              "              title=\"Convert this dataframe to an interactive table.\"\n",
              "              style=\"display:none;\">\n",
              "        \n",
              "  <svg xmlns=\"http://www.w3.org/2000/svg\" height=\"24px\"viewBox=\"0 0 24 24\"\n",
              "       width=\"24px\">\n",
              "    <path d=\"M0 0h24v24H0V0z\" fill=\"none\"/>\n",
              "    <path d=\"M18.56 5.44l.94 2.06.94-2.06 2.06-.94-2.06-.94-.94-2.06-.94 2.06-2.06.94zm-11 1L8.5 8.5l.94-2.06 2.06-.94-2.06-.94L8.5 2.5l-.94 2.06-2.06.94zm10 10l.94 2.06.94-2.06 2.06-.94-2.06-.94-.94-2.06-.94 2.06-2.06.94z\"/><path d=\"M17.41 7.96l-1.37-1.37c-.4-.4-.92-.59-1.43-.59-.52 0-1.04.2-1.43.59L10.3 9.45l-7.72 7.72c-.78.78-.78 2.05 0 2.83L4 21.41c.39.39.9.59 1.41.59.51 0 1.02-.2 1.41-.59l7.78-7.78 2.81-2.81c.8-.78.8-2.07 0-2.86zM5.41 20L4 18.59l7.72-7.72 1.47 1.35L5.41 20z\"/>\n",
              "  </svg>\n",
              "      </button>\n",
              "      \n",
              "  <style>\n",
              "    .colab-df-container {\n",
              "      display:flex;\n",
              "      flex-wrap:wrap;\n",
              "      gap: 12px;\n",
              "    }\n",
              "\n",
              "    .colab-df-convert {\n",
              "      background-color: #E8F0FE;\n",
              "      border: none;\n",
              "      border-radius: 50%;\n",
              "      cursor: pointer;\n",
              "      display: none;\n",
              "      fill: #1967D2;\n",
              "      height: 32px;\n",
              "      padding: 0 0 0 0;\n",
              "      width: 32px;\n",
              "    }\n",
              "\n",
              "    .colab-df-convert:hover {\n",
              "      background-color: #E2EBFA;\n",
              "      box-shadow: 0px 1px 2px rgba(60, 64, 67, 0.3), 0px 1px 3px 1px rgba(60, 64, 67, 0.15);\n",
              "      fill: #174EA6;\n",
              "    }\n",
              "\n",
              "    [theme=dark] .colab-df-convert {\n",
              "      background-color: #3B4455;\n",
              "      fill: #D2E3FC;\n",
              "    }\n",
              "\n",
              "    [theme=dark] .colab-df-convert:hover {\n",
              "      background-color: #434B5C;\n",
              "      box-shadow: 0px 1px 3px 1px rgba(0, 0, 0, 0.15);\n",
              "      filter: drop-shadow(0px 1px 2px rgba(0, 0, 0, 0.3));\n",
              "      fill: #FFFFFF;\n",
              "    }\n",
              "  </style>\n",
              "\n",
              "      <script>\n",
              "        const buttonEl =\n",
              "          document.querySelector('#df-910c6875-7558-452c-a70c-aadd465283fd button.colab-df-convert');\n",
              "        buttonEl.style.display =\n",
              "          google.colab.kernel.accessAllowed ? 'block' : 'none';\n",
              "\n",
              "        async function convertToInteractive(key) {\n",
              "          const element = document.querySelector('#df-910c6875-7558-452c-a70c-aadd465283fd');\n",
              "          const dataTable =\n",
              "            await google.colab.kernel.invokeFunction('convertToInteractive',\n",
              "                                                     [key], {});\n",
              "          if (!dataTable) return;\n",
              "\n",
              "          const docLinkHtml = 'Like what you see? Visit the ' +\n",
              "            '<a target=\"_blank\" href=https://colab.research.google.com/notebooks/data_table.ipynb>data table notebook</a>'\n",
              "            + ' to learn more about interactive tables.';\n",
              "          element.innerHTML = '';\n",
              "          dataTable['output_type'] = 'display_data';\n",
              "          await google.colab.output.renderOutput(dataTable, element);\n",
              "          const docLink = document.createElement('div');\n",
              "          docLink.innerHTML = docLinkHtml;\n",
              "          element.appendChild(docLink);\n",
              "        }\n",
              "      </script>\n",
              "    </div>\n",
              "  </div>\n",
              "  "
            ],
            "text/plain": [
              "            Training Score  Accuracy  Recall  Precision  F1 score\n",
              "Model_Name                                                       \n",
              "LR                   0.747  0.715190   0.715      0.696     0.702\n",
              "SVC                  0.991  0.983122   0.983      0.984     0.983\n",
              "RF                   0.986  0.981013   0.981      0.982     0.981\n",
              "ADA                  0.722  0.694093   0.694      0.696     0.694\n",
              "ExTC                 0.987  0.962025   0.962      0.962     0.962\n",
              "KNN                  0.881  0.869198   0.869      0.869     0.852\n",
              "LGBM                 0.987  0.943038   0.943      0.942     0.941\n",
              "XGB                  0.983  0.943038   0.943      0.944     0.941"
            ]
          },
          "metadata": {},
          "execution_count": 50
        }
      ]
    },
    {
      "cell_type": "code",
      "source": [
        "# Creating an SVC model with the best params and fitting to be pickled for later use.\n",
        "svcModel = SVC(random_state=seed, probability=True, C=1, gamma=0.01)\n",
        "svcModel.fit(train_padded, y_train)"
      ],
      "metadata": {
        "colab": {
          "base_uri": "https://localhost:8080/"
        },
        "id": "rp39waPwg7lg",
        "outputId": "d31736d5-0eb4-4b28-9836-fa07e79a6021"
      },
      "execution_count": null,
      "outputs": [
        {
          "output_type": "execute_result",
          "data": {
            "text/plain": [
              "SVC(C=1, gamma=0.01, probability=True, random_state=7)"
            ]
          },
          "metadata": {},
          "execution_count": 43
        }
      ]
    },
    {
      "cell_type": "code",
      "source": [
        "# Pickle the ML model for later use\n",
        "pickledModel = parent_dir+'Capstone_ML.sav'\n",
        "pickle.dump(svcModel, open(pickledModel, 'wb'))"
      ],
      "metadata": {
        "id": "xBEoWhNYZ_LL"
      },
      "execution_count": null,
      "outputs": []
    },
    {
      "cell_type": "code",
      "source": [
        "input = Input(shape=(max_len,), name='input')\n",
        "\n",
        "embedding = Embedding(input_dim=embedding_matrix_row,\n",
        "                      output_dim=EMBEDDING_DIM,\n",
        "                      weights= [embedding_matrix],\n",
        "                      trainable = False)(input)\n",
        "\n",
        "bidirectional = Bidirectional(LSTM(64, return_sequences=True))(embedding)\n",
        "\n",
        "timeDistributed = TimeDistributed(Dense(32, activation='relu'))(bidirectional)\n",
        "\n",
        "flatten = Flatten()(timeDistributed)\n",
        "\n",
        "dropout = Dropout(.4)(flatten)\n",
        "activation = Activation(\"relu\")(dropout)\n",
        "\n",
        "output = Dense(5, activation='softmax', name = \"output\")(activation)\n",
        "\n",
        "model = Model(inputs = input, outputs = output)\n",
        "\n",
        "model.compile(optimizer = \"adam\", loss = \"sparse_categorical_crossentropy\", metrics = [\"accuracy\"])\n",
        "\n",
        "model.summary()"
      ],
      "metadata": {
        "colab": {
          "base_uri": "https://localhost:8080/"
        },
        "id": "zM1M6QlESxXi",
        "outputId": "a201524f-08d2-4062-de1a-697c8f83b87a"
      },
      "execution_count": null,
      "outputs": [
        {
          "output_type": "stream",
          "name": "stdout",
          "text": [
            "Model: \"model_4\"\n",
            "_________________________________________________________________\n",
            " Layer (type)                Output Shape              Param #   \n",
            "=================================================================\n",
            " input (InputLayer)          [(None, 200)]             0         \n",
            "                                                                 \n",
            " embedding_4 (Embedding)     (None, 200, 50)           125850    \n",
            "                                                                 \n",
            " bidirectional_4 (Bidirectio  (None, 200, 128)         58880     \n",
            " nal)                                                            \n",
            "                                                                 \n",
            " time_distributed_4 (TimeDis  (None, 200, 32)          4128      \n",
            " tributed)                                                       \n",
            "                                                                 \n",
            " flatten_4 (Flatten)         (None, 6400)              0         \n",
            "                                                                 \n",
            " dropout_4 (Dropout)         (None, 6400)              0         \n",
            "                                                                 \n",
            " activation_4 (Activation)   (None, 6400)              0         \n",
            "                                                                 \n",
            " output (Dense)              (None, 5)                 32005     \n",
            "                                                                 \n",
            "=================================================================\n",
            "Total params: 220,863\n",
            "Trainable params: 95,013\n",
            "Non-trainable params: 125,850\n",
            "_________________________________________________________________\n"
          ]
        }
      ]
    },
    {
      "cell_type": "code",
      "source": [
        "# Check if trained model already exists, if it does, load the weights, otherwise train and plot the figure\n",
        "\n",
        "savedModel = parent_dir+'Capstone_NN_weights.h5'\n",
        "\n",
        "if os.path.isfile(savedModel):\n",
        "  model.load_weights(savedModel)\n",
        "else:\n",
        "  mc = ModelCheckpoint(\"model-cap.h5\", monitor=\"val_loss\", verbose=1, save_best_only=True, save_weights_only=True, mode=\"min\")\n",
        "  es = EarlyStopping(monitor=\"val_loss\", patience=5, mode=\"min\")\n",
        "  history = model.fit(train_padded, y_train, \n",
        "                    validation_data = (test_padded, y_test), \n",
        "                    epochs = 50,\n",
        "                    batch_size = 100,\n",
        "                    callbacks = [mc, es])\n",
        "  \n",
        "  plt.figure()\n",
        "  L = len(history.history[\"loss\"]) + 1\n",
        "  plt.plot(range(1, L), history.history[\"loss\"], \"bo-\", label = \"loss\")\n",
        "  plt.plot(range(1, L), history.history[\"accuracy\"], \"g*-\", label = \"accuracy\")\n",
        "  plt.plot(range(1, L), history.history[\"val_loss\"], \"y^-\", label = \"val_loss\")\n",
        "  plt.plot(range(1, L), history.history[\"val_accuracy\"], \"ro-\", label = \"val_accuracy\")\n",
        "  plt.legend()\n",
        "  plt.xlabel(\"epoch\")\n",
        "  plt.grid()\n",
        "  plt.show()\n",
        "\n",
        "  model.save(savedModel.replace('_weights', ''))\n",
        "  model.save_weights(savedModel)"
      ],
      "metadata": {
        "colab": {
          "base_uri": "https://localhost:8080/",
          "height": 1000
        },
        "id": "0lY_WSvRObiR",
        "outputId": "3bec08b1-9a48-4459-cd49-dc491ed23dcd"
      },
      "execution_count": null,
      "outputs": [
        {
          "output_type": "stream",
          "name": "stdout",
          "text": [
            "Epoch 1/50\n",
            "10/12 [========================>.....] - ETA: 0s - loss: 1.5089 - accuracy: 0.3920\n",
            "Epoch 00001: val_loss improved from inf to 1.29268, saving model to model-cap.h5\n",
            "12/12 [==============================] - 4s 104ms/step - loss: 1.4913 - accuracy: 0.4024 - val_loss: 1.2927 - val_accuracy: 0.5612\n",
            "Epoch 2/50\n",
            "10/12 [========================>.....] - ETA: 0s - loss: 1.1999 - accuracy: 0.5990\n",
            "Epoch 00002: val_loss improved from 1.29268 to 1.01567, saving model to model-cap.h5\n",
            "12/12 [==============================] - 0s 26ms/step - loss: 1.1914 - accuracy: 0.5986 - val_loss: 1.0157 - val_accuracy: 0.5802\n",
            "Epoch 3/50\n",
            "10/12 [========================>.....] - ETA: 0s - loss: 0.9785 - accuracy: 0.5970\n",
            "Epoch 00003: val_loss improved from 1.01567 to 0.83053, saving model to model-cap.h5\n",
            "12/12 [==============================] - 0s 27ms/step - loss: 0.9736 - accuracy: 0.5931 - val_loss: 0.8305 - val_accuracy: 0.7068\n",
            "Epoch 4/50\n",
            "10/12 [========================>.....] - ETA: 0s - loss: 0.7962 - accuracy: 0.7140\n",
            "Epoch 00004: val_loss improved from 0.83053 to 0.72198, saving model to model-cap.h5\n",
            "12/12 [==============================] - 0s 27ms/step - loss: 0.7855 - accuracy: 0.7170 - val_loss: 0.7220 - val_accuracy: 0.7574\n",
            "Epoch 5/50\n",
            "10/12 [========================>.....] - ETA: 0s - loss: 0.6495 - accuracy: 0.7570\n",
            "Epoch 00005: val_loss improved from 0.72198 to 0.59180, saving model to model-cap.h5\n",
            "12/12 [==============================] - 0s 27ms/step - loss: 0.6467 - accuracy: 0.7577 - val_loss: 0.5918 - val_accuracy: 0.7764\n",
            "Epoch 6/50\n",
            "10/12 [========================>.....] - ETA: 0s - loss: 0.5201 - accuracy: 0.8230\n",
            "Epoch 00006: val_loss improved from 0.59180 to 0.53589, saving model to model-cap.h5\n",
            "12/12 [==============================] - 0s 27ms/step - loss: 0.5156 - accuracy: 0.8246 - val_loss: 0.5359 - val_accuracy: 0.7932\n",
            "Epoch 7/50\n",
            "10/12 [========================>.....] - ETA: 0s - loss: 0.4616 - accuracy: 0.8260\n",
            "Epoch 00007: val_loss improved from 0.53589 to 0.39515, saving model to model-cap.h5\n",
            "12/12 [==============================] - 0s 27ms/step - loss: 0.4495 - accuracy: 0.8345 - val_loss: 0.3951 - val_accuracy: 0.8650\n",
            "Epoch 8/50\n",
            "10/12 [========================>.....] - ETA: 0s - loss: 0.3241 - accuracy: 0.8960\n",
            "Epoch 00008: val_loss improved from 0.39515 to 0.34890, saving model to model-cap.h5\n",
            "12/12 [==============================] - 0s 27ms/step - loss: 0.3257 - accuracy: 0.8933 - val_loss: 0.3489 - val_accuracy: 0.8755\n",
            "Epoch 9/50\n",
            "10/12 [========================>.....] - ETA: 0s - loss: 0.2225 - accuracy: 0.9320\n",
            "Epoch 00009: val_loss improved from 0.34890 to 0.27531, saving model to model-cap.h5\n",
            "12/12 [==============================] - 0s 27ms/step - loss: 0.2212 - accuracy: 0.9322 - val_loss: 0.2753 - val_accuracy: 0.8945\n",
            "Epoch 10/50\n",
            "10/12 [========================>.....] - ETA: 0s - loss: 0.1734 - accuracy: 0.9440\n",
            "Epoch 00010: val_loss did not improve from 0.27531\n",
            "12/12 [==============================] - 0s 25ms/step - loss: 0.1756 - accuracy: 0.9430 - val_loss: 0.3149 - val_accuracy: 0.8629\n",
            "Epoch 11/50\n",
            "10/12 [========================>.....] - ETA: 0s - loss: 0.2112 - accuracy: 0.9220\n",
            "Epoch 00011: val_loss improved from 0.27531 to 0.25227, saving model to model-cap.h5\n",
            "12/12 [==============================] - 0s 27ms/step - loss: 0.2087 - accuracy: 0.9268 - val_loss: 0.2523 - val_accuracy: 0.9135\n",
            "Epoch 12/50\n",
            "10/12 [========================>.....] - ETA: 0s - loss: 0.1416 - accuracy: 0.9580\n",
            "Epoch 00012: val_loss improved from 0.25227 to 0.23019, saving model to model-cap.h5\n",
            "12/12 [==============================] - 0s 26ms/step - loss: 0.1405 - accuracy: 0.9575 - val_loss: 0.2302 - val_accuracy: 0.9198\n",
            "Epoch 13/50\n",
            "10/12 [========================>.....] - ETA: 0s - loss: 0.1086 - accuracy: 0.9760\n",
            "Epoch 00013: val_loss improved from 0.23019 to 0.20053, saving model to model-cap.h5\n",
            "12/12 [==============================] - 0s 26ms/step - loss: 0.1058 - accuracy: 0.9774 - val_loss: 0.2005 - val_accuracy: 0.9262\n",
            "Epoch 14/50\n",
            "10/12 [========================>.....] - ETA: 0s - loss: 0.0823 - accuracy: 0.9800\n",
            "Epoch 00014: val_loss did not improve from 0.20053\n",
            "12/12 [==============================] - 0s 26ms/step - loss: 0.0800 - accuracy: 0.9810 - val_loss: 0.2021 - val_accuracy: 0.9304\n",
            "Epoch 15/50\n",
            "10/12 [========================>.....] - ETA: 0s - loss: 0.0665 - accuracy: 0.9860\n",
            "Epoch 00015: val_loss did not improve from 0.20053\n",
            "12/12 [==============================] - 0s 26ms/step - loss: 0.0651 - accuracy: 0.9864 - val_loss: 0.2138 - val_accuracy: 0.9198\n",
            "Epoch 16/50\n",
            "10/12 [========================>.....] - ETA: 0s - loss: 0.0794 - accuracy: 0.9740\n",
            "Epoch 00016: val_loss improved from 0.20053 to 0.19558, saving model to model-cap.h5\n",
            "12/12 [==============================] - 0s 27ms/step - loss: 0.0797 - accuracy: 0.9756 - val_loss: 0.1956 - val_accuracy: 0.9304\n",
            "Epoch 17/50\n",
            "10/12 [========================>.....] - ETA: 0s - loss: 0.0613 - accuracy: 0.9880\n",
            "Epoch 00017: val_loss did not improve from 0.19558\n",
            "12/12 [==============================] - 0s 25ms/step - loss: 0.0645 - accuracy: 0.9864 - val_loss: 0.2164 - val_accuracy: 0.9198\n",
            "Epoch 18/50\n",
            "10/12 [========================>.....] - ETA: 0s - loss: 0.1610 - accuracy: 0.9350\n",
            "Epoch 00018: val_loss did not improve from 0.19558\n",
            "12/12 [==============================] - 0s 26ms/step - loss: 0.1657 - accuracy: 0.9322 - val_loss: 0.2161 - val_accuracy: 0.9198\n",
            "Epoch 19/50\n",
            "10/12 [========================>.....] - ETA: 0s - loss: 0.0965 - accuracy: 0.9850\n",
            "Epoch 00019: val_loss did not improve from 0.19558\n",
            "12/12 [==============================] - 0s 26ms/step - loss: 0.0960 - accuracy: 0.9846 - val_loss: 0.2079 - val_accuracy: 0.9304\n",
            "Epoch 20/50\n",
            "10/12 [========================>.....] - ETA: 0s - loss: 0.0628 - accuracy: 0.9890\n",
            "Epoch 00020: val_loss improved from 0.19558 to 0.17078, saving model to model-cap.h5\n",
            "12/12 [==============================] - 0s 27ms/step - loss: 0.0619 - accuracy: 0.9892 - val_loss: 0.1708 - val_accuracy: 0.9494\n",
            "Epoch 21/50\n",
            "10/12 [========================>.....] - ETA: 0s - loss: 0.0432 - accuracy: 0.9930\n",
            "Epoch 00021: val_loss improved from 0.17078 to 0.16481, saving model to model-cap.h5\n",
            "12/12 [==============================] - 0s 27ms/step - loss: 0.0491 - accuracy: 0.9910 - val_loss: 0.1648 - val_accuracy: 0.9430\n",
            "Epoch 22/50\n",
            "10/12 [========================>.....] - ETA: 0s - loss: 0.0385 - accuracy: 0.9930\n",
            "Epoch 00022: val_loss did not improve from 0.16481\n",
            "12/12 [==============================] - 0s 26ms/step - loss: 0.0370 - accuracy: 0.9937 - val_loss: 0.2116 - val_accuracy: 0.9325\n",
            "Epoch 23/50\n",
            "12/12 [==============================] - ETA: 0s - loss: 0.0332 - accuracy: 0.9937\n",
            "Epoch 00023: val_loss did not improve from 0.16481\n",
            "12/12 [==============================] - 0s 27ms/step - loss: 0.0332 - accuracy: 0.9937 - val_loss: 0.1676 - val_accuracy: 0.9473\n",
            "Epoch 24/50\n",
            "10/12 [========================>.....] - ETA: 0s - loss: 0.0233 - accuracy: 0.9960\n",
            "Epoch 00024: val_loss did not improve from 0.16481\n",
            "12/12 [==============================] - 0s 26ms/step - loss: 0.0270 - accuracy: 0.9955 - val_loss: 0.1874 - val_accuracy: 0.9430\n",
            "Epoch 25/50\n",
            "10/12 [========================>.....] - ETA: 0s - loss: 0.0271 - accuracy: 0.9940\n",
            "Epoch 00025: val_loss did not improve from 0.16481\n",
            "12/12 [==============================] - 0s 27ms/step - loss: 0.0274 - accuracy: 0.9937 - val_loss: 0.1892 - val_accuracy: 0.9409\n",
            "Epoch 26/50\n",
            "10/12 [========================>.....] - ETA: 0s - loss: 0.0347 - accuracy: 0.9930\n",
            "Epoch 00026: val_loss did not improve from 0.16481\n",
            "12/12 [==============================] - 0s 25ms/step - loss: 0.0333 - accuracy: 0.9928 - val_loss: 0.1722 - val_accuracy: 0.9494\n"
          ]
        },
        {
          "output_type": "display_data",
          "data": {
            "image/png": "[encoded data removed]",
            "text/plain": [
              "<Figure size 1440x360 with 1 Axes>"
            ]
          },
          "metadata": {
            "needs_background": "light"
          }
        }
      ]
    },
    {
      "cell_type": "markdown",
      "source": [
        "Based on the above run, we can see that we have got 95%+ accuracy which seems to be good."
      ],
      "metadata": {
        "id": "7H1bnlLDFze9"
      }
    },
    {
      "cell_type": "markdown",
      "source": [
        "As we can see from the above runs, both ML models and NN models are performing really well and have good training/validation accuracy.\n",
        "\n",
        "\n",
        "Out of the two, we would prefer ML model, specifically either SVC or RF as those models are performing best among all the models."
      ],
      "metadata": {
        "id": "OmI2PwAFJhEW"
      }
    },
    {
      "cell_type": "markdown",
      "source": [
        "## **Creating a FLASK APP to predict accident severity**"
      ],
      "metadata": {
        "id": "l6sTiO-cERRT"
      }
    },
    {
      "cell_type": "code",
      "source": [
        "# This method processes the input and prepares it to be passed to the model for prediction.\n",
        "def prepareAndProcess(pred_text):\n",
        "  pred_text = cleanseText(pred_text)\n",
        "  pred_text = expand(pred_text)\n",
        "  pred_text = lemma(pred_text)\n",
        "  pred_token = tokenizer.texts_to_sequences([pred_text])\n",
        "  pred_padded = pad_sequences(pred_token, maxlen=max_len, padding='post', truncating='post')\n",
        "  return pred_padded"
      ],
      "metadata": {
        "id": "0j2e8IJ62ByR"
      },
      "execution_count": null,
      "outputs": []
    },
    {
      "cell_type": "code",
      "source": [
        "!pip install flask-ngrok\n",
        "!pip install flask-bootstrap\n",
        "!pip install pyngrok\n",
        "\n",
        "from flask_ngrok import run_with_ngrok\n",
        "from flask import Flask, render_template , request"
      ],
      "metadata": {
        "colab": {
          "base_uri": "https://localhost:8080/"
        },
        "id": "ez0NLkqT5zaa",
        "outputId": "1269783e-96d4-445f-d7e6-4f39f3e8e8b5"
      },
      "execution_count": null,
      "outputs": [
        {
          "output_type": "stream",
          "name": "stdout",
          "text": [
            "Requirement already satisfied: flask-ngrok in /usr/local/lib/python3.7/dist-packages (0.0.25)\n",
            "Requirement already satisfied: requests in /usr/local/lib/python3.7/dist-packages (from flask-ngrok) (2.23.0)\n",
            "Requirement already satisfied: Flask>=0.8 in /usr/local/lib/python3.7/dist-packages (from flask-ngrok) (1.1.4)\n",
            "Requirement already satisfied: Jinja2<3.0,>=2.10.1 in /usr/local/lib/python3.7/dist-packages (from Flask>=0.8->flask-ngrok) (2.11.3)\n",
            "Requirement already satisfied: Werkzeug<2.0,>=0.15 in /usr/local/lib/python3.7/dist-packages (from Flask>=0.8->flask-ngrok) (1.0.1)\n",
            "Requirement already satisfied: itsdangerous<2.0,>=0.24 in /usr/local/lib/python3.7/dist-packages (from Flask>=0.8->flask-ngrok) (1.1.0)\n",
            "Requirement already satisfied: click<8.0,>=5.1 in /usr/local/lib/python3.7/dist-packages (from Flask>=0.8->flask-ngrok) (7.1.2)\n",
            "Requirement already satisfied: MarkupSafe>=0.23 in /usr/local/lib/python3.7/dist-packages (from Jinja2<3.0,>=2.10.1->Flask>=0.8->flask-ngrok) (2.0.1)\n",
            "Requirement already satisfied: certifi>=2017.4.17 in /usr/local/lib/python3.7/dist-packages (from requests->flask-ngrok) (2021.10.8)\n",
            "Requirement already satisfied: urllib3!=1.25.0,!=1.25.1,<1.26,>=1.21.1 in /usr/local/lib/python3.7/dist-packages (from requests->flask-ngrok) (1.24.3)\n",
            "Requirement already satisfied: idna<3,>=2.5 in /usr/local/lib/python3.7/dist-packages (from requests->flask-ngrok) (2.10)\n",
            "Requirement already satisfied: chardet<4,>=3.0.2 in /usr/local/lib/python3.7/dist-packages (from requests->flask-ngrok) (3.0.4)\n",
            "Requirement already satisfied: flask-bootstrap in /usr/local/lib/python3.7/dist-packages (3.3.7.1)\n",
            "Requirement already satisfied: dominate in /usr/local/lib/python3.7/dist-packages (from flask-bootstrap) (2.6.0)\n",
            "Requirement already satisfied: visitor in /usr/local/lib/python3.7/dist-packages (from flask-bootstrap) (0.1.3)\n",
            "Requirement already satisfied: Flask>=0.8 in /usr/local/lib/python3.7/dist-packages (from flask-bootstrap) (1.1.4)\n",
            "Requirement already satisfied: click<8.0,>=5.1 in /usr/local/lib/python3.7/dist-packages (from Flask>=0.8->flask-bootstrap) (7.1.2)\n",
            "Requirement already satisfied: itsdangerous<2.0,>=0.24 in /usr/local/lib/python3.7/dist-packages (from Flask>=0.8->flask-bootstrap) (1.1.0)\n",
            "Requirement already satisfied: Jinja2<3.0,>=2.10.1 in /usr/local/lib/python3.7/dist-packages (from Flask>=0.8->flask-bootstrap) (2.11.3)\n",
            "Requirement already satisfied: Werkzeug<2.0,>=0.15 in /usr/local/lib/python3.7/dist-packages (from Flask>=0.8->flask-bootstrap) (1.0.1)\n",
            "Requirement already satisfied: MarkupSafe>=0.23 in /usr/local/lib/python3.7/dist-packages (from Jinja2<3.0,>=2.10.1->Flask>=0.8->flask-bootstrap) (2.0.1)\n",
            "Requirement already satisfied: pyngrok in /usr/local/lib/python3.7/dist-packages (5.1.0)\n",
            "Requirement already satisfied: PyYAML in /usr/local/lib/python3.7/dist-packages (from pyngrok) (3.13)\n"
          ]
        }
      ]
    },
    {
      "cell_type": "code",
      "source": [
        "# Sign-up to ngrok.com and replace XXXX with your auth token to open a tunnel to the locally deployed app.\n",
        "!ngrok authtoken XXXX"
      ],
      "metadata": {
        "colab": {
          "base_uri": "https://localhost:8080/"
        },
        "id": "egt1KGJl6AIU",
        "outputId": "9c3f0124-d4e0-479c-b1c8-e087d705b477"
      },
      "execution_count": null,
      "outputs": [
        {
          "output_type": "stream",
          "name": "stdout",
          "text": [
            "Authtoken saved to configuration file: /root/.ngrok2/ngrok.yml\n"
          ]
        }
      ]
    },
    {
      "cell_type": "code",
      "source": [
        "# This method takes in the input text and processes it to be passed to the model and then predict the outcome using SVC model.\n",
        "def predict(text):\n",
        "  pred_padded = prepareAndProcess(text)\n",
        "  svcModel = pickle.load(open(pickledModel, 'rb'))\n",
        "  prediction = svcModel.predict(pred_padded)[0]\n",
        "\n",
        "  if(prediction == 0):\n",
        "    return 'Predicted Accident Level: I'\n",
        "  elif(prediction == 1):\n",
        "    return 'Predicted Accident Level: II'\n",
        "  elif(prediction == 2):\n",
        "    return 'Predicted Accident Level: III'\n",
        "  elif(prediction == 3):\n",
        "    return 'Predicted Accident Level: IV'\n",
        "  elif(prediction == 4):\n",
        "    return 'Predicted Accident Level: V'"
      ],
      "metadata": {
        "id": "ZbM33S-C6F7v"
      },
      "execution_count": null,
      "outputs": []
    },
    {
      "cell_type": "code",
      "source": [
        "# Creating a flask app, loading the template and CSS from the below locations and running the app with ngrok\n",
        "\n",
        "app = Flask(__name__, template_folder=parent_dir+'templates')\n",
        "app.static_folder = parent_dir+'static'\n",
        "\n",
        "run_with_ngrok(app)\n",
        "@app.route(\"/\")\n",
        "def home():\n",
        "    return render_template(\"index.html\")\n",
        "\n",
        "@app.route(\"/get\")\n",
        "def get_bot_response():\n",
        "    userText = request.args.get('msg')\n",
        "    return predict(userText)\n",
        "\n",
        "if __name__ == '__main__':\n",
        "   app.run()"
      ],
      "metadata": {
        "colab": {
          "base_uri": "https://localhost:8080/"
        },
        "id": "hVifs9156FOH",
        "outputId": "c579df75-d4a8-4680-da54-b79971ebb6c0"
      },
      "execution_count": null,
      "outputs": [
        {
          "output_type": "stream",
          "name": "stdout",
          "text": [
            " * Serving Flask app \"__main__\" (lazy loading)\n",
            " * Environment: production\n",
            "\u001b[31m   WARNING: This is a development server. Do not use it in a production deployment.\u001b[0m\n",
            "\u001b[2m   Use a production WSGI server instead.\u001b[0m\n",
            " * Debug mode: off\n"
          ]
        },
        {
          "output_type": "stream",
          "name": "stderr",
          "text": [
            " * Running on http://127.0.0.1:5000/ (Press CTRL+C to quit)\n"
          ]
        },
        {
          "output_type": "stream",
          "name": "stdout",
          "text": [
            " * Running on http://302d-35-187-152-57.ngrok.io\n",
            " * Traffic stats available on http://127.0.0.1:4040\n"
          ]
        },
        {
          "output_type": "stream",
          "name": "stderr",
          "text": [
            "127.0.0.1 - - [03/Jan/2022 13:14:40] \"\u001b[37mGET / HTTP/1.1\u001b[0m\" 200 -\n",
            "127.0.0.1 - - [03/Jan/2022 13:14:41] \"\u001b[37mGET /static/styles/style.css HTTP/1.1\u001b[0m\" 200 -\n",
            "127.0.0.1 - - [03/Jan/2022 13:14:42] \"\u001b[33mGET /favicon.ico HTTP/1.1\u001b[0m\" 404 -\n",
            "127.0.0.1 - - [03/Jan/2022 13:14:44] \"\u001b[37mGET /get?msg=While%20removing%20the%20drill%20rod%20of%20the%20Jumbo%2008%20for%20maintenance%2C%20the%20supervisor%20proceeds%20to%20loosen%20the%20support%20of%20the%20intermediate%20centralizer%20to%20facilitate%20the%20removal%2C%20seeing%20this%20the%20mechanic%20supports%20one%20end%20on%20the%20drill%20of%20the%20equipment%20to%20pull%20with%20both%20hands%20the%20bar%20and%20accelerate%20the%20removal%20from%20this%2C%20at%20this%20moment%20the%20bar%20slides%20from%20its%20point%20of%20support%20and%20tightens%20the%20fingers%20of%20the%20mechanic%20between%20the%20drilling%20bar%20and%20the%20beam%20of%20the%20jumbo. HTTP/1.1\u001b[0m\" 200 -\n"
          ]
        }
      ]
    }
  ]
}