{
  "nbformat": 4,
  "nbformat_minor": 0,
  "metadata": {
    "colab": {
      "name": "Capstone project.ipynb",
      "provenance": [],
      "collapsed_sections": []
    },
    "kernelspec": {
      "display_name": "Python 3",
      "name": "python3"
    },
    "language_info": {
      "name": "python"
    }
  },
  "cells": [
    {
      "cell_type": "code",
      "metadata": {
        "colab": {
          "base_uri": "https://localhost:8080/"
        },
        "id": "TImF03D2I1Bq",
        "outputId": "6ee51387-e19e-480c-99d4-fe68734fa44e"
      },
      "source": [
        "from google.colab import drive\n",
        "drive.mount('/content/drive')"
      ],
      "execution_count": 13,
      "outputs": [
        {
          "output_type": "stream",
          "name": "stdout",
          "text": [
            "Drive already mounted at /content/drive; to attempt to forcibly remount, call drive.mount(\"/content/drive\", force_remount=True).\n"
          ]
        }
      ]
    },
    {
      "cell_type": "code",
      "metadata": {
        "id": "PQdf5AwfJ7YD"
      },
      "source": [
        "import pandas as pd\n",
        "import warnings\n",
        "warnings.filterwarnings(\"ignore\")"
      ],
      "execution_count": 14,
      "outputs": []
    },
    {
      "cell_type": "code",
      "metadata": {
        "id": "q7J0E8qMJ8jW"
      },
      "source": [
        "file_path = '/content/drive/My Drive/Colab Notebooks/capstone_nlp_2.csv'\n",
        "df_safety_org = pd.read_csv(file_path)"
      ],
      "execution_count": 15,
      "outputs": []
    },
    {
      "cell_type": "code",
      "metadata": {
        "colab": {
          "base_uri": "https://localhost:8080/",
          "height": 554
        },
        "id": "AjKMoCB2KXyG",
        "outputId": "95589ca2-041c-4e86-a2ed-31f093ba672f"
      },
      "source": [
        "df_safety_org.head(10)"
      ],
      "execution_count": 16,
      "outputs": [
        {
          "output_type": "execute_result",
          "data": {
            "text/html": [
              "<div>\n",
              "<style scoped>\n",
              "    .dataframe tbody tr th:only-of-type {\n",
              "        vertical-align: middle;\n",
              "    }\n",
              "\n",
              "    .dataframe tbody tr th {\n",
              "        vertical-align: top;\n",
              "    }\n",
              "\n",
              "    .dataframe thead th {\n",
              "        text-align: right;\n",
              "    }\n",
              "</style>\n",
              "<table border=\"1\" class=\"dataframe\">\n",
              "  <thead>\n",
              "    <tr style=\"text-align: right;\">\n",
              "      <th></th>\n",
              "      <th>Unnamed: 0</th>\n",
              "      <th>Data</th>\n",
              "      <th>Countries</th>\n",
              "      <th>Local</th>\n",
              "      <th>Industry Sector</th>\n",
              "      <th>Accident Level</th>\n",
              "      <th>Potential Accident Level</th>\n",
              "      <th>Genre</th>\n",
              "      <th>Employee or Third Party</th>\n",
              "      <th>Critical Risk</th>\n",
              "      <th>Description</th>\n",
              "    </tr>\n",
              "  </thead>\n",
              "  <tbody>\n",
              "    <tr>\n",
              "      <th>0</th>\n",
              "      <td>0</td>\n",
              "      <td>2016-01-01 00:00:00</td>\n",
              "      <td>Country_01</td>\n",
              "      <td>Local_01</td>\n",
              "      <td>Mining</td>\n",
              "      <td>I</td>\n",
              "      <td>IV</td>\n",
              "      <td>Male</td>\n",
              "      <td>Third Party</td>\n",
              "      <td>Pressed</td>\n",
              "      <td>While removing the drill rod of the Jumbo 08 f...</td>\n",
              "    </tr>\n",
              "    <tr>\n",
              "      <th>1</th>\n",
              "      <td>1</td>\n",
              "      <td>2016-01-02 00:00:00</td>\n",
              "      <td>Country_02</td>\n",
              "      <td>Local_02</td>\n",
              "      <td>Mining</td>\n",
              "      <td>I</td>\n",
              "      <td>IV</td>\n",
              "      <td>Male</td>\n",
              "      <td>Employee</td>\n",
              "      <td>Pressurized Systems</td>\n",
              "      <td>During the activation of a sodium sulphide pum...</td>\n",
              "    </tr>\n",
              "    <tr>\n",
              "      <th>2</th>\n",
              "      <td>2</td>\n",
              "      <td>2016-01-06 00:00:00</td>\n",
              "      <td>Country_01</td>\n",
              "      <td>Local_03</td>\n",
              "      <td>Mining</td>\n",
              "      <td>I</td>\n",
              "      <td>III</td>\n",
              "      <td>Male</td>\n",
              "      <td>Third Party (Remote)</td>\n",
              "      <td>Manual Tools</td>\n",
              "      <td>In the sub-station MILPO located at level +170...</td>\n",
              "    </tr>\n",
              "    <tr>\n",
              "      <th>3</th>\n",
              "      <td>3</td>\n",
              "      <td>2016-01-08 00:00:00</td>\n",
              "      <td>Country_01</td>\n",
              "      <td>Local_04</td>\n",
              "      <td>Mining</td>\n",
              "      <td>I</td>\n",
              "      <td>I</td>\n",
              "      <td>Male</td>\n",
              "      <td>Third Party</td>\n",
              "      <td>Others</td>\n",
              "      <td>Being 9:45 am. approximately in the Nv. 1880 C...</td>\n",
              "    </tr>\n",
              "    <tr>\n",
              "      <th>4</th>\n",
              "      <td>4</td>\n",
              "      <td>2016-01-10 00:00:00</td>\n",
              "      <td>Country_01</td>\n",
              "      <td>Local_04</td>\n",
              "      <td>Mining</td>\n",
              "      <td>IV</td>\n",
              "      <td>IV</td>\n",
              "      <td>Male</td>\n",
              "      <td>Third Party</td>\n",
              "      <td>Others</td>\n",
              "      <td>Approximately at 11:45 a.m. in circumstances t...</td>\n",
              "    </tr>\n",
              "    <tr>\n",
              "      <th>5</th>\n",
              "      <td>5</td>\n",
              "      <td>2016-01-12 00:00:00</td>\n",
              "      <td>Country_02</td>\n",
              "      <td>Local_05</td>\n",
              "      <td>Metals</td>\n",
              "      <td>I</td>\n",
              "      <td>III</td>\n",
              "      <td>Male</td>\n",
              "      <td>Third Party (Remote)</td>\n",
              "      <td>Pressurized Systems</td>\n",
              "      <td>During the unloading operation of the ustulado...</td>\n",
              "    </tr>\n",
              "    <tr>\n",
              "      <th>6</th>\n",
              "      <td>6</td>\n",
              "      <td>2016-01-16 00:00:00</td>\n",
              "      <td>Country_02</td>\n",
              "      <td>Local_05</td>\n",
              "      <td>Metals</td>\n",
              "      <td>I</td>\n",
              "      <td>III</td>\n",
              "      <td>Male</td>\n",
              "      <td>Employee</td>\n",
              "      <td>Fall prevention (same level)</td>\n",
              "      <td>The collaborator reports that he was on street...</td>\n",
              "    </tr>\n",
              "    <tr>\n",
              "      <th>7</th>\n",
              "      <td>7</td>\n",
              "      <td>2016-01-17 00:00:00</td>\n",
              "      <td>Country_01</td>\n",
              "      <td>Local_04</td>\n",
              "      <td>Mining</td>\n",
              "      <td>I</td>\n",
              "      <td>III</td>\n",
              "      <td>Male</td>\n",
              "      <td>Third Party</td>\n",
              "      <td>Pressed</td>\n",
              "      <td>At approximately 04:50 p.m., when the mechanic...</td>\n",
              "    </tr>\n",
              "    <tr>\n",
              "      <th>8</th>\n",
              "      <td>8</td>\n",
              "      <td>2016-01-19 00:00:00</td>\n",
              "      <td>Country_02</td>\n",
              "      <td>Local_02</td>\n",
              "      <td>Mining</td>\n",
              "      <td>I</td>\n",
              "      <td>IV</td>\n",
              "      <td>Male</td>\n",
              "      <td>Third Party (Remote)</td>\n",
              "      <td>Others</td>\n",
              "      <td>Employee was sitting in the resting area at le...</td>\n",
              "    </tr>\n",
              "    <tr>\n",
              "      <th>9</th>\n",
              "      <td>9</td>\n",
              "      <td>2016-01-26 00:00:00</td>\n",
              "      <td>Country_01</td>\n",
              "      <td>Local_06</td>\n",
              "      <td>Metals</td>\n",
              "      <td>I</td>\n",
              "      <td>II</td>\n",
              "      <td>Male</td>\n",
              "      <td>Third Party</td>\n",
              "      <td>Chemical substances</td>\n",
              "      <td>At the moment the forklift operator went to ma...</td>\n",
              "    </tr>\n",
              "  </tbody>\n",
              "</table>\n",
              "</div>"
            ],
            "text/plain": [
              "   Unnamed: 0  ...                                        Description\n",
              "0           0  ...  While removing the drill rod of the Jumbo 08 f...\n",
              "1           1  ...  During the activation of a sodium sulphide pum...\n",
              "2           2  ...  In the sub-station MILPO located at level +170...\n",
              "3           3  ...  Being 9:45 am. approximately in the Nv. 1880 C...\n",
              "4           4  ...  Approximately at 11:45 a.m. in circumstances t...\n",
              "5           5  ...  During the unloading operation of the ustulado...\n",
              "6           6  ...  The collaborator reports that he was on street...\n",
              "7           7  ...  At approximately 04:50 p.m., when the mechanic...\n",
              "8           8  ...  Employee was sitting in the resting area at le...\n",
              "9           9  ...  At the moment the forklift operator went to ma...\n",
              "\n",
              "[10 rows x 11 columns]"
            ]
          },
          "metadata": {},
          "execution_count": 16
        }
      ]
    },
    {
      "cell_type": "code",
      "metadata": {
        "colab": {
          "base_uri": "https://localhost:8080/"
        },
        "id": "WZLuwIdF6KI5",
        "outputId": "2f1bbe65-beae-48d9-b5d8-0dae903ab677"
      },
      "source": [
        "df_safety_org.info()"
      ],
      "execution_count": 17,
      "outputs": [
        {
          "output_type": "stream",
          "name": "stdout",
          "text": [
            "<class 'pandas.core.frame.DataFrame'>\n",
            "RangeIndex: 425 entries, 0 to 424\n",
            "Data columns (total 11 columns):\n",
            " #   Column                    Non-Null Count  Dtype \n",
            "---  ------                    --------------  ----- \n",
            " 0   Unnamed: 0                425 non-null    int64 \n",
            " 1   Data                      425 non-null    object\n",
            " 2   Countries                 425 non-null    object\n",
            " 3   Local                     425 non-null    object\n",
            " 4   Industry Sector           425 non-null    object\n",
            " 5   Accident Level            425 non-null    object\n",
            " 6   Potential Accident Level  425 non-null    object\n",
            " 7   Genre                     425 non-null    object\n",
            " 8   Employee or Third Party   425 non-null    object\n",
            " 9   Critical Risk             425 non-null    object\n",
            " 10  Description               425 non-null    object\n",
            "dtypes: int64(1), object(10)\n",
            "memory usage: 36.6+ KB\n"
          ]
        }
      ]
    },
    {
      "cell_type": "code",
      "metadata": {
        "colab": {
          "base_uri": "https://localhost:8080/"
        },
        "id": "eKJPSva5o0JD",
        "outputId": "eff5f073-7cee-401e-93f9-1995962de76d"
      },
      "source": [
        "df_safety_org['Accident Level'].unique()"
      ],
      "execution_count": 18,
      "outputs": [
        {
          "output_type": "execute_result",
          "data": {
            "text/plain": [
              "array(['I', 'IV', 'III', 'II', 'V'], dtype=object)"
            ]
          },
          "metadata": {},
          "execution_count": 18
        }
      ]
    },
    {
      "cell_type": "code",
      "metadata": {
        "id": "3mMHRjjh6-XG"
      },
      "source": [
        "import calendar\n",
        "\n",
        "df_safety_org['year'] = pd.DatetimeIndex(df_safety_org['Data']).year\n",
        "df_safety_org['month'] = pd.DatetimeIndex(df_safety_org['Data']).month\n",
        "df_safety_org['day'] = pd.DatetimeIndex(df_safety_org['Data']).day\n",
        "\n",
        "\n",
        "df_safety_org['month'] = df_safety_org['month'].apply(lambda x: calendar.month_name[x])\n",
        "\n",
        "df_safety_org.drop(['Unnamed: 0', 'Data'] , axis=1, inplace=True)"
      ],
      "execution_count": 19,
      "outputs": []
    },
    {
      "cell_type": "code",
      "metadata": {
        "colab": {
          "base_uri": "https://localhost:8080/",
          "height": 206
        },
        "id": "EV819wW07RKs",
        "outputId": "26a643b0-f7cd-4039-ebc3-595c65388286"
      },
      "source": [
        "df_safety_org.head(5)"
      ],
      "execution_count": 20,
      "outputs": [
        {
          "output_type": "execute_result",
          "data": {
            "text/html": [
              "<div>\n",
              "<style scoped>\n",
              "    .dataframe tbody tr th:only-of-type {\n",
              "        vertical-align: middle;\n",
              "    }\n",
              "\n",
              "    .dataframe tbody tr th {\n",
              "        vertical-align: top;\n",
              "    }\n",
              "\n",
              "    .dataframe thead th {\n",
              "        text-align: right;\n",
              "    }\n",
              "</style>\n",
              "<table border=\"1\" class=\"dataframe\">\n",
              "  <thead>\n",
              "    <tr style=\"text-align: right;\">\n",
              "      <th></th>\n",
              "      <th>Countries</th>\n",
              "      <th>Local</th>\n",
              "      <th>Industry Sector</th>\n",
              "      <th>Accident Level</th>\n",
              "      <th>Potential Accident Level</th>\n",
              "      <th>Genre</th>\n",
              "      <th>Employee or Third Party</th>\n",
              "      <th>Critical Risk</th>\n",
              "      <th>Description</th>\n",
              "      <th>year</th>\n",
              "      <th>month</th>\n",
              "      <th>day</th>\n",
              "    </tr>\n",
              "  </thead>\n",
              "  <tbody>\n",
              "    <tr>\n",
              "      <th>0</th>\n",
              "      <td>Country_01</td>\n",
              "      <td>Local_01</td>\n",
              "      <td>Mining</td>\n",
              "      <td>I</td>\n",
              "      <td>IV</td>\n",
              "      <td>Male</td>\n",
              "      <td>Third Party</td>\n",
              "      <td>Pressed</td>\n",
              "      <td>While removing the drill rod of the Jumbo 08 f...</td>\n",
              "      <td>2016</td>\n",
              "      <td>January</td>\n",
              "      <td>1</td>\n",
              "    </tr>\n",
              "    <tr>\n",
              "      <th>1</th>\n",
              "      <td>Country_02</td>\n",
              "      <td>Local_02</td>\n",
              "      <td>Mining</td>\n",
              "      <td>I</td>\n",
              "      <td>IV</td>\n",
              "      <td>Male</td>\n",
              "      <td>Employee</td>\n",
              "      <td>Pressurized Systems</td>\n",
              "      <td>During the activation of a sodium sulphide pum...</td>\n",
              "      <td>2016</td>\n",
              "      <td>January</td>\n",
              "      <td>2</td>\n",
              "    </tr>\n",
              "    <tr>\n",
              "      <th>2</th>\n",
              "      <td>Country_01</td>\n",
              "      <td>Local_03</td>\n",
              "      <td>Mining</td>\n",
              "      <td>I</td>\n",
              "      <td>III</td>\n",
              "      <td>Male</td>\n",
              "      <td>Third Party (Remote)</td>\n",
              "      <td>Manual Tools</td>\n",
              "      <td>In the sub-station MILPO located at level +170...</td>\n",
              "      <td>2016</td>\n",
              "      <td>January</td>\n",
              "      <td>6</td>\n",
              "    </tr>\n",
              "    <tr>\n",
              "      <th>3</th>\n",
              "      <td>Country_01</td>\n",
              "      <td>Local_04</td>\n",
              "      <td>Mining</td>\n",
              "      <td>I</td>\n",
              "      <td>I</td>\n",
              "      <td>Male</td>\n",
              "      <td>Third Party</td>\n",
              "      <td>Others</td>\n",
              "      <td>Being 9:45 am. approximately in the Nv. 1880 C...</td>\n",
              "      <td>2016</td>\n",
              "      <td>January</td>\n",
              "      <td>8</td>\n",
              "    </tr>\n",
              "    <tr>\n",
              "      <th>4</th>\n",
              "      <td>Country_01</td>\n",
              "      <td>Local_04</td>\n",
              "      <td>Mining</td>\n",
              "      <td>IV</td>\n",
              "      <td>IV</td>\n",
              "      <td>Male</td>\n",
              "      <td>Third Party</td>\n",
              "      <td>Others</td>\n",
              "      <td>Approximately at 11:45 a.m. in circumstances t...</td>\n",
              "      <td>2016</td>\n",
              "      <td>January</td>\n",
              "      <td>10</td>\n",
              "    </tr>\n",
              "  </tbody>\n",
              "</table>\n",
              "</div>"
            ],
            "text/plain": [
              "    Countries     Local Industry Sector  ...  year    month day\n",
              "0  Country_01  Local_01          Mining  ...  2016  January   1\n",
              "1  Country_02  Local_02          Mining  ...  2016  January   2\n",
              "2  Country_01  Local_03          Mining  ...  2016  January   6\n",
              "3  Country_01  Local_04          Mining  ...  2016  January   8\n",
              "4  Country_01  Local_04          Mining  ...  2016  January  10\n",
              "\n",
              "[5 rows x 12 columns]"
            ]
          },
          "metadata": {},
          "execution_count": 20
        }
      ]
    },
    {
      "cell_type": "code",
      "metadata": {
        "colab": {
          "base_uri": "https://localhost:8080/",
          "height": 338
        },
        "id": "paxGxKNK8IZ7",
        "outputId": "8006fd89-d84b-4365-c7a1-57cfd5ab76cd"
      },
      "source": [
        "df_safety_org[df_safety_org.duplicated()]"
      ],
      "execution_count": 21,
      "outputs": [
        {
          "output_type": "execute_result",
          "data": {
            "text/html": [
              "<div>\n",
              "<style scoped>\n",
              "    .dataframe tbody tr th:only-of-type {\n",
              "        vertical-align: middle;\n",
              "    }\n",
              "\n",
              "    .dataframe tbody tr th {\n",
              "        vertical-align: top;\n",
              "    }\n",
              "\n",
              "    .dataframe thead th {\n",
              "        text-align: right;\n",
              "    }\n",
              "</style>\n",
              "<table border=\"1\" class=\"dataframe\">\n",
              "  <thead>\n",
              "    <tr style=\"text-align: right;\">\n",
              "      <th></th>\n",
              "      <th>Countries</th>\n",
              "      <th>Local</th>\n",
              "      <th>Industry Sector</th>\n",
              "      <th>Accident Level</th>\n",
              "      <th>Potential Accident Level</th>\n",
              "      <th>Genre</th>\n",
              "      <th>Employee or Third Party</th>\n",
              "      <th>Critical Risk</th>\n",
              "      <th>Description</th>\n",
              "      <th>year</th>\n",
              "      <th>month</th>\n",
              "      <th>day</th>\n",
              "    </tr>\n",
              "  </thead>\n",
              "  <tbody>\n",
              "    <tr>\n",
              "      <th>77</th>\n",
              "      <td>Country_01</td>\n",
              "      <td>Local_01</td>\n",
              "      <td>Mining</td>\n",
              "      <td>I</td>\n",
              "      <td>V</td>\n",
              "      <td>Male</td>\n",
              "      <td>Third Party (Remote)</td>\n",
              "      <td>Others</td>\n",
              "      <td>In circumstances that two workers of the Abrat...</td>\n",
              "      <td>2016</td>\n",
              "      <td>April</td>\n",
              "      <td>1</td>\n",
              "    </tr>\n",
              "    <tr>\n",
              "      <th>262</th>\n",
              "      <td>Country_01</td>\n",
              "      <td>Local_03</td>\n",
              "      <td>Mining</td>\n",
              "      <td>I</td>\n",
              "      <td>IV</td>\n",
              "      <td>Male</td>\n",
              "      <td>Employee</td>\n",
              "      <td>Others</td>\n",
              "      <td>During the activity of chuteo of ore in hopper...</td>\n",
              "      <td>2016</td>\n",
              "      <td>December</td>\n",
              "      <td>1</td>\n",
              "    </tr>\n",
              "    <tr>\n",
              "      <th>303</th>\n",
              "      <td>Country_02</td>\n",
              "      <td>Local_02</td>\n",
              "      <td>Mining</td>\n",
              "      <td>I</td>\n",
              "      <td>I</td>\n",
              "      <td>Male</td>\n",
              "      <td>Third Party (Remote)</td>\n",
              "      <td>Others</td>\n",
              "      <td>Employees engaged in the removal of material f...</td>\n",
              "      <td>2017</td>\n",
              "      <td>January</td>\n",
              "      <td>21</td>\n",
              "    </tr>\n",
              "    <tr>\n",
              "      <th>345</th>\n",
              "      <td>Country_03</td>\n",
              "      <td>Local_10</td>\n",
              "      <td>Others</td>\n",
              "      <td>I</td>\n",
              "      <td>I</td>\n",
              "      <td>Male</td>\n",
              "      <td>Third Party</td>\n",
              "      <td>Venomous Animals</td>\n",
              "      <td>On 02/03/17 during the soil sampling in the re...</td>\n",
              "      <td>2017</td>\n",
              "      <td>March</td>\n",
              "      <td>2</td>\n",
              "    </tr>\n",
              "    <tr>\n",
              "      <th>346</th>\n",
              "      <td>Country_03</td>\n",
              "      <td>Local_10</td>\n",
              "      <td>Others</td>\n",
              "      <td>I</td>\n",
              "      <td>I</td>\n",
              "      <td>Male</td>\n",
              "      <td>Third Party</td>\n",
              "      <td>Venomous Animals</td>\n",
              "      <td>On 02/03/17 during the soil sampling in the re...</td>\n",
              "      <td>2017</td>\n",
              "      <td>March</td>\n",
              "      <td>2</td>\n",
              "    </tr>\n",
              "    <tr>\n",
              "      <th>355</th>\n",
              "      <td>Country_03</td>\n",
              "      <td>Local_10</td>\n",
              "      <td>Others</td>\n",
              "      <td>I</td>\n",
              "      <td>I</td>\n",
              "      <td>Male</td>\n",
              "      <td>Third Party</td>\n",
              "      <td>Venomous Animals</td>\n",
              "      <td>Team of the VMS Project performed soil collect...</td>\n",
              "      <td>2017</td>\n",
              "      <td>March</td>\n",
              "      <td>15</td>\n",
              "    </tr>\n",
              "    <tr>\n",
              "      <th>397</th>\n",
              "      <td>Country_01</td>\n",
              "      <td>Local_04</td>\n",
              "      <td>Mining</td>\n",
              "      <td>I</td>\n",
              "      <td>IV</td>\n",
              "      <td>Male</td>\n",
              "      <td>Third Party</td>\n",
              "      <td>Projection of fragments</td>\n",
              "      <td>In moments when the 02 collaborators carried o...</td>\n",
              "      <td>2017</td>\n",
              "      <td>May</td>\n",
              "      <td>23</td>\n",
              "    </tr>\n",
              "  </tbody>\n",
              "</table>\n",
              "</div>"
            ],
            "text/plain": [
              "      Countries     Local Industry Sector  ...  year     month day\n",
              "77   Country_01  Local_01          Mining  ...  2016     April   1\n",
              "262  Country_01  Local_03          Mining  ...  2016  December   1\n",
              "303  Country_02  Local_02          Mining  ...  2017   January  21\n",
              "345  Country_03  Local_10          Others  ...  2017     March   2\n",
              "346  Country_03  Local_10          Others  ...  2017     March   2\n",
              "355  Country_03  Local_10          Others  ...  2017     March  15\n",
              "397  Country_01  Local_04          Mining  ...  2017       May  23\n",
              "\n",
              "[7 rows x 12 columns]"
            ]
          },
          "metadata": {},
          "execution_count": 21
        }
      ]
    },
    {
      "cell_type": "code",
      "metadata": {
        "id": "B8elFuLz8or0"
      },
      "source": [
        "df_safety_org.drop_duplicates(inplace=True)"
      ],
      "execution_count": 22,
      "outputs": []
    },
    {
      "cell_type": "code",
      "metadata": {
        "colab": {
          "base_uri": "https://localhost:8080/"
        },
        "id": "eTa5SSZx84Rl",
        "outputId": "38fa2883-8bff-44c9-a9c9-403bc8cf7bd0"
      },
      "source": [
        "df_safety_org.info()"
      ],
      "execution_count": 23,
      "outputs": [
        {
          "output_type": "stream",
          "name": "stdout",
          "text": [
            "<class 'pandas.core.frame.DataFrame'>\n",
            "Int64Index: 418 entries, 0 to 424\n",
            "Data columns (total 12 columns):\n",
            " #   Column                    Non-Null Count  Dtype \n",
            "---  ------                    --------------  ----- \n",
            " 0   Countries                 418 non-null    object\n",
            " 1   Local                     418 non-null    object\n",
            " 2   Industry Sector           418 non-null    object\n",
            " 3   Accident Level            418 non-null    object\n",
            " 4   Potential Accident Level  418 non-null    object\n",
            " 5   Genre                     418 non-null    object\n",
            " 6   Employee or Third Party   418 non-null    object\n",
            " 7   Critical Risk             418 non-null    object\n",
            " 8   Description               418 non-null    object\n",
            " 9   year                      418 non-null    int64 \n",
            " 10  month                     418 non-null    object\n",
            " 11  day                       418 non-null    int64 \n",
            "dtypes: int64(2), object(10)\n",
            "memory usage: 42.5+ KB\n"
          ]
        }
      ]
    },
    {
      "cell_type": "code",
      "metadata": {
        "colab": {
          "base_uri": "https://localhost:8080/",
          "height": 679
        },
        "id": "crciuKVvFX4r",
        "outputId": "ab9833a4-b0e8-40dc-cdf6-d8810c23eac5"
      },
      "source": [
        "import matplotlib.pyplot as plt\n",
        "import seaborn as sns\n",
        "\n",
        "print(df_safety_org['Countries'].value_counts())\n",
        "plt.figure(figsize=(20,10))\n",
        "\n",
        "plt.subplot(1,2,1)\n",
        "sns.countplot(data=df_safety_org, x='Countries', palette='YlOrRd')\n",
        "\n",
        "plt.subplot(1,2,2)\n",
        "sns.countplot(data=df_safety_org, x='Countries', hue='Accident Level', palette='YlGnBu')\n",
        "plt.show()"
      ],
      "execution_count": 24,
      "outputs": [
        {
          "output_type": "stream",
          "name": "stdout",
          "text": [
            "Country_01    248\n",
            "Country_02    129\n",
            "Country_03     41\n",
            "Name: Countries, dtype: int64\n"
          ]
        },
        {
          "output_type": "display_data",
          "data": {
            "image/png": "[encoded data removed]",
            "text/plain": [
              "<Figure size 1440x720 with 2 Axes>"
            ]
          },
          "metadata": {
            "needs_background": "light"
          }
        }
      ]
    },
    {
      "cell_type": "code",
      "metadata": {
        "colab": {
          "base_uri": "https://localhost:8080/",
          "height": 639
        },
        "id": "bWYM6x0TKxLo",
        "outputId": "e8039b38-c58a-4c78-b276-1850c7708e88"
      },
      "source": [
        "fig, (ax1, ax2) = plt.subplots(ncols=2, figsize=(25, 10))\n",
        "\n",
        "df_sector = pd.DataFrame(df_safety_org['Industry Sector'].value_counts()).reset_index()\n",
        "df_sector.columns = ['Sector', 'count']\n",
        "\n",
        "colors = ['lightskyblue', 'red', 'gold']\n",
        "labels = df_sector['Sector'].unique()\n",
        "sector_count = df_sector['Sector'].nunique()\n",
        "\n",
        "ax1.pie(df_sector['count'], labels = labels, colors=colors, explode=[0.05]*sector_count, autopct='%.0f%%')\n",
        "ax1.set_title('Industry Sector')\n",
        "ax1.legend(labels, loc = 'upper right')\n",
        "\n",
        "sns.countplot(data=df_safety_org, x='Industry Sector', hue='Accident Level', palette='PuBuGn')\n"
      ],
      "execution_count": 25,
      "outputs": [
        {
          "output_type": "execute_result",
          "data": {
            "text/plain": [
              "<matplotlib.axes._subplots.AxesSubplot at 0x7f24d07294d0>"
            ]
          },
          "metadata": {},
          "execution_count": 25
        },
        {
          "output_type": "display_data",
          "data": {
            "image/png": "[encoded data removed]",
            "text/plain": [
              "<Figure size 1800x720 with 2 Axes>"
            ]
          },
          "metadata": {
            "needs_background": "light"
          }
        }
      ]
    },
    {
      "cell_type": "code",
      "metadata": {
        "colab": {
          "base_uri": "https://localhost:8080/",
          "height": 497
        },
        "id": "dd3VMgb6PBiz",
        "outputId": "7baa2691-90eb-4048-f969-901b22d150a7"
      },
      "source": [
        "plt.figure(figsize=(25, 8))\n",
        "\n",
        "plt.subplot(1,2,1)\n",
        "\n",
        "sns.countplot(data=df_safety_org, x='month', palette='plasma')\n",
        "\n",
        "df_safety_org['month'].value_counts()[df_safety_org['month'].unique()].plot(kind='line', marker='o', color='red', ms=10)\n",
        "\n",
        "plt.subplot(1,2,2)\n",
        "sns.countplot(data=df_safety_org, x='year', hue='Accident Level', palette='autumn')\n",
        "\n",
        "plt.show()"
      ],
      "execution_count": 26,
      "outputs": [
        {
          "output_type": "display_data",
          "data": {
            "image/png": "[encoded data removed]",
            "text/plain": [
              "<Figure size 1800x576 with 2 Axes>"
            ]
          },
          "metadata": {
            "needs_background": "light"
          }
        }
      ]
    },
    {
      "cell_type": "code",
      "metadata": {
        "colab": {
          "base_uri": "https://localhost:8080/",
          "height": 552
        },
        "id": "02KoMCvMmkEa",
        "outputId": "69f56aa5-0f0a-4d5b-d9b8-21612104049c"
      },
      "source": [
        "print(df_safety_org['Genre'].value_counts())\n",
        "\n",
        "plt.figure(figsize=(15, 8))\n",
        "sns.countplot(data=df_safety_org, x='Genre', hue='Accident Level', palette='viridis')\n",
        "plt.show()"
      ],
      "execution_count": 27,
      "outputs": [
        {
          "output_type": "stream",
          "name": "stdout",
          "text": [
            "Male      396\n",
            "Female     22\n",
            "Name: Genre, dtype: int64\n"
          ]
        },
        {
          "output_type": "display_data",
          "data": {
            "image/png": "[encoded data removed]",
            "text/plain": [
              "<Figure size 1080x576 with 1 Axes>"
            ]
          },
          "metadata": {
            "needs_background": "light"
          }
        }
      ]
    },
    {
      "cell_type": "code",
      "metadata": {
        "colab": {
          "base_uri": "https://localhost:8080/",
          "height": 714
        },
        "id": "_nVXH04ineJV",
        "outputId": "250d77e2-85da-4dba-d21f-6fc42b7b5a30"
      },
      "source": [
        "df_risk = pd.DataFrame(df_safety_org['Critical Risk'].value_counts()).reset_index()\n",
        "df_risk.columns = ['Risk', 'count']\n",
        "\n",
        "plt.figure(figsize=(20, 12))\n",
        "\n",
        "plt.subplot(1,2,1)\n",
        "sns.barplot(data=df_risk, x='count', y='Risk')\n",
        "\n",
        "plt.subplot(1,2,2)\n",
        "sns.countplot(data=df_safety_org, x='Employee or Third Party', hue='Accident Level', palette='coolwarm')\n",
        "\n",
        "plt.show()"
      ],
      "execution_count": 28,
      "outputs": [
        {
          "output_type": "display_data",
          "data": {
            "image/png": "[encoded data removed]",
            "text/plain": [
              "<Figure size 1440x864 with 2 Axes>"
            ]
          },
          "metadata": {
            "needs_background": "light"
          }
        }
      ]
    },
    {
      "cell_type": "code",
      "metadata": {
        "colab": {
          "base_uri": "https://localhost:8080/",
          "height": 780
        },
        "id": "NnPmLF1ersNp",
        "outputId": "31d27a79-5ab8-4c36-eb4f-667422b6eb63"
      },
      "source": [
        "fig, (ax1) = plt.subplots(ncols=1, figsize=(12, 10))\n",
        "\n",
        "df_acc_level = pd.DataFrame(df_safety_org['Accident Level'].value_counts()).reset_index()\n",
        "df_acc_level.columns = ['Acc Level', 'count']\n",
        "\n",
        "colors = ['gold', 'red', '#FBCFCD', '#F5F5DC', 'green']\n",
        "labels = df_acc_level['Acc Level'].unique()\n",
        "sector_count = df_acc_level['Acc Level'].nunique()\n",
        "\n",
        "ax1.pie(df_acc_level['count'], labels = labels, colors=colors, explode=[0.05]*sector_count, autopct='%.0f%%')\n",
        "ax1.set_title('Accident Level')\n",
        "ax1.legend(labels, loc = 'upper right')\n",
        "\n",
        "df_acc_level"
      ],
      "execution_count": 29,
      "outputs": [
        {
          "output_type": "execute_result",
          "data": {
            "text/html": [
              "<div>\n",
              "<style scoped>\n",
              "    .dataframe tbody tr th:only-of-type {\n",
              "        vertical-align: middle;\n",
              "    }\n",
              "\n",
              "    .dataframe tbody tr th {\n",
              "        vertical-align: top;\n",
              "    }\n",
              "\n",
              "    .dataframe thead th {\n",
              "        text-align: right;\n",
              "    }\n",
              "</style>\n",
              "<table border=\"1\" class=\"dataframe\">\n",
              "  <thead>\n",
              "    <tr style=\"text-align: right;\">\n",
              "      <th></th>\n",
              "      <th>Acc Level</th>\n",
              "      <th>count</th>\n",
              "    </tr>\n",
              "  </thead>\n",
              "  <tbody>\n",
              "    <tr>\n",
              "      <th>0</th>\n",
              "      <td>I</td>\n",
              "      <td>309</td>\n",
              "    </tr>\n",
              "    <tr>\n",
              "      <th>1</th>\n",
              "      <td>II</td>\n",
              "      <td>40</td>\n",
              "    </tr>\n",
              "    <tr>\n",
              "      <th>2</th>\n",
              "      <td>III</td>\n",
              "      <td>31</td>\n",
              "    </tr>\n",
              "    <tr>\n",
              "      <th>3</th>\n",
              "      <td>IV</td>\n",
              "      <td>30</td>\n",
              "    </tr>\n",
              "    <tr>\n",
              "      <th>4</th>\n",
              "      <td>V</td>\n",
              "      <td>8</td>\n",
              "    </tr>\n",
              "  </tbody>\n",
              "</table>\n",
              "</div>"
            ],
            "text/plain": [
              "  Acc Level  count\n",
              "0         I    309\n",
              "1        II     40\n",
              "2       III     31\n",
              "3        IV     30\n",
              "4         V      8"
            ]
          },
          "metadata": {},
          "execution_count": 29
        },
        {
          "output_type": "display_data",
          "data": {
            "image/png": "[encoded data removed]",
            "text/plain": [
              "<Figure size 864x720 with 1 Axes>"
            ]
          },
          "metadata": {}
        }
      ]
    },
    {
      "cell_type": "markdown",
      "metadata": {
        "id": "qFv7Evcg19CB"
      },
      "source": [
        "### Findings\n",
        "\n",
        "Country_01 has the maximum accidents, most of the accidents are low severe, Country_01 has more cases of severe accidents\n",
        "\n",
        "Mining sector has the most accident cases 57%, also Mining has registered more cases of severe accidents\n",
        "\n",
        "Most of the accidents have been reported during the first half of the year i.e. from Jan to June. Also 2016 regsitered most of the cases.\n",
        "\n",
        "Most of the accidents have been reported by males. Severe accidents were not reported by the females\n",
        "\n",
        "The accidents reported were the cases where the risks coming are not known.\n",
        "\n",
        "Both Employees and Third party workers have been affected equally with the accidents. Remote users are not much affected with the incidents.\n",
        "\n",
        "There are very low accidents of severe consequences, Most of the accidents reported (74%) are low risk."
      ]
    },
    {
      "cell_type": "code",
      "metadata": {
        "id": "KoKeSJSOwRv4"
      },
      "source": [
        "from nltk.corpus import stopwords\n",
        "from nltk.stem import WordNetLemmatizer\n",
        "import nltk\n",
        "import numpy as np\n",
        "import pandas as pd\n",
        "import re, string\n",
        "from sklearn.feature_extraction.text import CountVectorizer, TfidfVectorizer\n",
        "from sklearn.linear_model import LogisticRegression \n",
        "from sklearn.metrics import accuracy_score, classification_report\n",
        "from sklearn.model_selection import train_test_split\n",
        "from sklearn.preprocessing import LabelEncoder"
      ],
      "execution_count": 30,
      "outputs": []
    },
    {
      "cell_type": "code",
      "metadata": {
        "colab": {
          "base_uri": "https://localhost:8080/"
        },
        "id": "0RBCgAlLwMbV",
        "outputId": "77de6a2a-0e9c-41b3-8d5e-223ebf5da191"
      },
      "source": [
        "nltk.download('stopwords')\n",
        "nltk.download('wordnet')"
      ],
      "execution_count": 31,
      "outputs": [
        {
          "output_type": "stream",
          "name": "stdout",
          "text": [
            "[nltk_data] Downloading package stopwords to /root/nltk_data...\n",
            "[nltk_data]   Unzipping corpora/stopwords.zip.\n",
            "[nltk_data] Downloading package wordnet to /root/nltk_data...\n",
            "[nltk_data]   Unzipping corpora/wordnet.zip.\n"
          ]
        },
        {
          "output_type": "execute_result",
          "data": {
            "text/plain": [
              "True"
            ]
          },
          "metadata": {},
          "execution_count": 31
        }
      ]
    },
    {
      "cell_type": "code",
      "metadata": {
        "id": "obNNtAAuwI7C"
      },
      "source": [
        "sw = stopwords.words('english')\n",
        "def clean_str(description):\n",
        "  \"\"\"\n",
        "  String cleaning before vectorization\n",
        "  \"\"\"\n",
        "  try:\n",
        "    description = re.sub('[^\\w\\s]+', \" \", description)\n",
        "    description = re.sub(r\"\\s\\s+\", \" \", description)\n",
        "    description = re.sub(r\"[^A-Za-z]\", \" \", description)         \n",
        "    words = description.strip().lower().split()    \n",
        "    words = [w for w in words if len(w)>=1]\n",
        "    sentence = \" \".join(words)\n",
        "    final_sentence = [word.lower() for word in sentence.split() if word.lower() not in sw]\n",
        "    return \" \".join(final_sentence)\n",
        "  except:\n",
        "    print('Exception happened!!!!')\n",
        "    return \"\""
      ],
      "execution_count": 32,
      "outputs": []
    },
    {
      "cell_type": "code",
      "metadata": {
        "id": "2ou0SuQ3xCfN"
      },
      "source": [
        "lemmatizer = WordNetLemmatizer()\n",
        "def lemmafunction(description):\n",
        "  description = [lemmatizer.lemmatize(word)for word in description.split()]\n",
        "  return \" \".join(description)"
      ],
      "execution_count": 33,
      "outputs": []
    },
    {
      "cell_type": "code",
      "metadata": {
        "id": "41RweP-lyxBa"
      },
      "source": [
        "df_safety_org['Desc_Clean'] = df_safety_org['Description']\n",
        "df_safety_org['Desc_Clean'] = df_safety_org['Desc_Clean'].apply(clean_str)\n",
        "df_safety_org['Desc_Clean'] = df_safety_org['Desc_Clean'].apply(lemmafunction)"
      ],
      "execution_count": 34,
      "outputs": []
    },
    {
      "cell_type": "code",
      "metadata": {
        "colab": {
          "base_uri": "https://localhost:8080/",
          "height": 310
        },
        "id": "Df-gIi8kzH0K",
        "outputId": "4951bb94-6fc9-462f-d01f-f8f9b1479148"
      },
      "source": [
        "df_safety_org.head(5)"
      ],
      "execution_count": 35,
      "outputs": [
        {
          "output_type": "execute_result",
          "data": {
            "text/html": [
              "<div>\n",
              "<style scoped>\n",
              "    .dataframe tbody tr th:only-of-type {\n",
              "        vertical-align: middle;\n",
              "    }\n",
              "\n",
              "    .dataframe tbody tr th {\n",
              "        vertical-align: top;\n",
              "    }\n",
              "\n",
              "    .dataframe thead th {\n",
              "        text-align: right;\n",
              "    }\n",
              "</style>\n",
              "<table border=\"1\" class=\"dataframe\">\n",
              "  <thead>\n",
              "    <tr style=\"text-align: right;\">\n",
              "      <th></th>\n",
              "      <th>Countries</th>\n",
              "      <th>Local</th>\n",
              "      <th>Industry Sector</th>\n",
              "      <th>Accident Level</th>\n",
              "      <th>Potential Accident Level</th>\n",
              "      <th>Genre</th>\n",
              "      <th>Employee or Third Party</th>\n",
              "      <th>Critical Risk</th>\n",
              "      <th>Description</th>\n",
              "      <th>year</th>\n",
              "      <th>month</th>\n",
              "      <th>day</th>\n",
              "      <th>Desc_Clean</th>\n",
              "    </tr>\n",
              "  </thead>\n",
              "  <tbody>\n",
              "    <tr>\n",
              "      <th>0</th>\n",
              "      <td>Country_01</td>\n",
              "      <td>Local_01</td>\n",
              "      <td>Mining</td>\n",
              "      <td>I</td>\n",
              "      <td>IV</td>\n",
              "      <td>Male</td>\n",
              "      <td>Third Party</td>\n",
              "      <td>Pressed</td>\n",
              "      <td>While removing the drill rod of the Jumbo 08 f...</td>\n",
              "      <td>2016</td>\n",
              "      <td>January</td>\n",
              "      <td>1</td>\n",
              "      <td>removing drill rod jumbo maintenance superviso...</td>\n",
              "    </tr>\n",
              "    <tr>\n",
              "      <th>1</th>\n",
              "      <td>Country_02</td>\n",
              "      <td>Local_02</td>\n",
              "      <td>Mining</td>\n",
              "      <td>I</td>\n",
              "      <td>IV</td>\n",
              "      <td>Male</td>\n",
              "      <td>Employee</td>\n",
              "      <td>Pressurized Systems</td>\n",
              "      <td>During the activation of a sodium sulphide pum...</td>\n",
              "      <td>2016</td>\n",
              "      <td>January</td>\n",
              "      <td>2</td>\n",
              "      <td>activation sodium sulphide pump piping uncoupl...</td>\n",
              "    </tr>\n",
              "    <tr>\n",
              "      <th>2</th>\n",
              "      <td>Country_01</td>\n",
              "      <td>Local_03</td>\n",
              "      <td>Mining</td>\n",
              "      <td>I</td>\n",
              "      <td>III</td>\n",
              "      <td>Male</td>\n",
              "      <td>Third Party (Remote)</td>\n",
              "      <td>Manual Tools</td>\n",
              "      <td>In the sub-station MILPO located at level +170...</td>\n",
              "      <td>2016</td>\n",
              "      <td>January</td>\n",
              "      <td>6</td>\n",
              "      <td>sub station milpo located level collaborator e...</td>\n",
              "    </tr>\n",
              "    <tr>\n",
              "      <th>3</th>\n",
              "      <td>Country_01</td>\n",
              "      <td>Local_04</td>\n",
              "      <td>Mining</td>\n",
              "      <td>I</td>\n",
              "      <td>I</td>\n",
              "      <td>Male</td>\n",
              "      <td>Third Party</td>\n",
              "      <td>Others</td>\n",
              "      <td>Being 9:45 am. approximately in the Nv. 1880 C...</td>\n",
              "      <td>2016</td>\n",
              "      <td>January</td>\n",
              "      <td>8</td>\n",
              "      <td>approximately nv cx ob personnel begin task un...</td>\n",
              "    </tr>\n",
              "    <tr>\n",
              "      <th>4</th>\n",
              "      <td>Country_01</td>\n",
              "      <td>Local_04</td>\n",
              "      <td>Mining</td>\n",
              "      <td>IV</td>\n",
              "      <td>IV</td>\n",
              "      <td>Male</td>\n",
              "      <td>Third Party</td>\n",
              "      <td>Others</td>\n",
              "      <td>Approximately at 11:45 a.m. in circumstances t...</td>\n",
              "      <td>2016</td>\n",
              "      <td>January</td>\n",
              "      <td>10</td>\n",
              "      <td>approximately circumstance mechanic anthony gr...</td>\n",
              "    </tr>\n",
              "  </tbody>\n",
              "</table>\n",
              "</div>"
            ],
            "text/plain": [
              "    Countries     Local  ... day                                         Desc_Clean\n",
              "0  Country_01  Local_01  ...   1  removing drill rod jumbo maintenance superviso...\n",
              "1  Country_02  Local_02  ...   2  activation sodium sulphide pump piping uncoupl...\n",
              "2  Country_01  Local_03  ...   6  sub station milpo located level collaborator e...\n",
              "3  Country_01  Local_04  ...   8  approximately nv cx ob personnel begin task un...\n",
              "4  Country_01  Local_04  ...  10  approximately circumstance mechanic anthony gr...\n",
              "\n",
              "[5 rows x 13 columns]"
            ]
          },
          "metadata": {},
          "execution_count": 35
        }
      ]
    },
    {
      "cell_type": "code",
      "metadata": {
        "id": "u_SNvL80fz4f"
      },
      "source": [
        "df_safety_org['Accident Level'] = LabelEncoder().fit_transform(df_safety_org['Accident Level']).astype(np.int8)"
      ],
      "execution_count": 36,
      "outputs": []
    },
    {
      "cell_type": "code",
      "metadata": {
        "colab": {
          "base_uri": "https://localhost:8080/"
        },
        "id": "75zNhxlB0IPI",
        "outputId": "80c57a01-0326-4e21-e841-a13749990cec"
      },
      "source": [
        "max_len = max(df_safety_org['Description'].apply(len))\n",
        "print(\"Max length of the description :\",max_len)\n",
        "\n",
        "min_len = min(df_safety_org['Description'].apply(len))\n",
        "print(\"Min length of the description :\",min_len)"
      ],
      "execution_count": 37,
      "outputs": [
        {
          "output_type": "stream",
          "name": "stdout",
          "text": [
            "Max length of the description : 1029\n",
            "Min length of the description : 94\n"
          ]
        }
      ]
    },
    {
      "cell_type": "code",
      "metadata": {
        "colab": {
          "base_uri": "https://localhost:8080/"
        },
        "id": "Lg9ldA0E0t1W",
        "outputId": "bc58b58a-49d9-4f55-e94d-e5a705786066"
      },
      "source": [
        "max_len = max(df_safety_org['Desc_Clean'].apply(len))\n",
        "print(\"Max length of the cleaned description :\", max_len)\n",
        "\n",
        "min_len = min(df_safety_org['Desc_Clean'].apply(len))\n",
        "print(\"Min length of the cleaned description :\", min_len)"
      ],
      "execution_count": 38,
      "outputs": [
        {
          "output_type": "stream",
          "name": "stdout",
          "text": [
            "Max length of the cleaned description : 657\n",
            "Min length of the cleaned description : 61\n"
          ]
        }
      ]
    },
    {
      "cell_type": "code",
      "metadata": {
        "colab": {
          "base_uri": "https://localhost:8080/"
        },
        "id": "09JJEdHI03qF",
        "outputId": "06ce1bb0-90ff-4aff-98eb-34f81bbda706"
      },
      "source": [
        "from gensim.test.utils import get_tmpfile\n",
        "from gensim.scripts.glove2word2vec import glove2word2vec\n",
        "\n",
        "glove_file = '/content/drive/My Drive/Colab Notebooks/glove.6B.100d.txt'\n",
        "output_file = get_tmpfile('glove_embedd_output.txt')\n",
        "\n",
        "glove2word2vec(glove_file, output_file)"
      ],
      "execution_count": 39,
      "outputs": [
        {
          "output_type": "execute_result",
          "data": {
            "text/plain": [
              "(400000, 100)"
            ]
          },
          "metadata": {},
          "execution_count": 39
        }
      ]
    },
    {
      "cell_type": "code",
      "metadata": {
        "id": "BUBOv2hVCAf5"
      },
      "source": [
        "from gensim.models import KeyedVectors\n",
        "\n",
        "word_model = KeyedVectors.load_word2vec_format(output_file, binary=False)"
      ],
      "execution_count": 40,
      "outputs": []
    },
    {
      "cell_type": "code",
      "metadata": {
        "colab": {
          "base_uri": "https://localhost:8080/"
        },
        "id": "-3t52FdhCtnJ",
        "outputId": "17fafb1d-9f53-494a-fb53-76b1e023fa79"
      },
      "source": [
        "word_model.get_vector('mechanic')"
      ],
      "execution_count": 41,
      "outputs": [
        {
          "output_type": "execute_result",
          "data": {
            "text/plain": [
              "array([ 0.092167 , -0.019761 ,  0.1813   , -0.50002  ,  0.058457 ,\n",
              "       -0.58594  ,  0.48234  ,  0.2431   ,  0.074173 ,  0.58317  ,\n",
              "       -0.12075  , -0.66516  ,  0.38314  , -0.2446   , -0.16116  ,\n",
              "       -0.26394  ,  0.33944  , -0.29907  ,  0.032936 ,  0.76142  ,\n",
              "       -0.071226 ,  0.20826  ,  0.35741  , -0.83341  ,  0.52941  ,\n",
              "       -0.67963  , -0.9745   , -0.39467  , -0.081891 ,  0.18699  ,\n",
              "       -0.93819  ,  0.52726  , -0.5678   , -0.1547   , -0.29825  ,\n",
              "        0.62389  , -0.3733   , -0.16246  ,  1.4281   , -0.37095  ,\n",
              "        0.020044 ,  0.1696   ,  0.62212  , -0.43805  , -0.36631  ,\n",
              "        0.58691  , -0.47203  ,  0.010555 ,  0.093671 , -0.15955  ,\n",
              "       -0.62805  , -0.58127  , -0.30387  ,  0.8791   ,  0.45412  ,\n",
              "        0.16492  , -0.43138  , -0.0033008,  0.8786   ,  0.8076   ,\n",
              "        0.75746  ,  0.068688 ,  0.08175  ,  0.60248  , -0.25404  ,\n",
              "       -0.18585  ,  0.50407  , -0.27367  , -0.45843  ,  0.65639  ,\n",
              "       -0.65284  ,  0.13322  , -0.28345  , -0.12066  ,  0.29284  ,\n",
              "       -0.0048897,  0.9532   ,  0.059093 , -0.33417  , -0.30051  ,\n",
              "       -0.14563  , -0.050825 ,  0.068796 , -0.36855  , -0.24938  ,\n",
              "        0.25144  , -0.055576 , -0.10691  , -0.59013  , -0.51452  ,\n",
              "        0.098763 , -0.0077841,  0.67562  ,  0.35162  ,  0.28043  ,\n",
              "        0.28957  ,  0.49104  , -0.42394  ,  0.26333  , -0.82537  ],\n",
              "      dtype=float32)"
            ]
          },
          "metadata": {},
          "execution_count": 41
        }
      ]
    },
    {
      "cell_type": "code",
      "metadata": {
        "id": "613n0PbkIeA7"
      },
      "source": [
        "class Word2VecVectorizer:\n",
        "\n",
        "  def __init__(self, model):\n",
        "    self.word_model = model\n",
        "\n",
        "  def transform(self, data):\n",
        "    word_v = self.word_model.get_vector('king')\n",
        "\n",
        "    X = np.zeros((len(data), word_v.shape[0]))\n",
        "    emptycount = 0\n",
        "    n = 0\n",
        "    for sentence in data:\n",
        "      vec = []\n",
        "      tokens = sentence.split()\n",
        "      for word in tokens:\n",
        "        try:\n",
        "          embedding = self.word_model.get_vector(word)\n",
        "          vec.append(embedding)\n",
        "        except KeyError:\n",
        "          pass\n",
        "      if(len(vec) > 0):\n",
        "        vec = np.array(vec)\n",
        "        X[n] = vec.sum(axis=0)\n",
        "      else:\n",
        "        emptycount += 1\n",
        "      n += 1\n",
        "    print(\"Numer of samples with no words found: %s / %s\" % (emptycount, len(data)))\n",
        "    \n",
        "    return X/np.linalg.norm(X)\n",
        "\n",
        "  def fit_transform(self, data):\n",
        "    return self.transform(data)\n"
      ],
      "execution_count": 42,
      "outputs": []
    },
    {
      "cell_type": "code",
      "metadata": {
        "colab": {
          "base_uri": "https://localhost:8080/"
        },
        "id": "vthXH_zAVDA1",
        "outputId": "ea0aa5b3-c65a-4964-f4a9-7a60baae3910"
      },
      "source": [
        "train_data = df_safety_org['Desc_Clean']\n",
        "\n",
        "wordVectorizer = Word2VecVectorizer(word_model)\n",
        "train_data = wordVectorizer.fit_transform(train_data)"
      ],
      "execution_count": 43,
      "outputs": [
        {
          "output_type": "stream",
          "name": "stdout",
          "text": [
            "Numer of samples with no words found: 0 / 418\n"
          ]
        }
      ]
    },
    {
      "cell_type": "code",
      "metadata": {
        "colab": {
          "base_uri": "https://localhost:8080/"
        },
        "id": "SmDYV01E4lcj",
        "outputId": "22e8ebb6-0f38-4792-e839-130e827dd99a"
      },
      "source": [
        "df_safety_org['Accident Level'].value_counts()"
      ],
      "execution_count": 44,
      "outputs": [
        {
          "output_type": "execute_result",
          "data": {
            "text/plain": [
              "0    309\n",
              "1     40\n",
              "2     31\n",
              "3     30\n",
              "4      8\n",
              "Name: Accident Level, dtype: int64"
            ]
          },
          "metadata": {},
          "execution_count": 44
        }
      ]
    },
    {
      "cell_type": "code",
      "metadata": {
        "id": "jrsH_stEmoiT"
      },
      "source": [
        "X = train_data\n",
        "y = df_safety_org['Accident Level']"
      ],
      "execution_count": 45,
      "outputs": []
    },
    {
      "cell_type": "code",
      "metadata": {
        "id": "9r2eI3ZQmjhK"
      },
      "source": [
        "X_train, X_test, y_train, y_test = train_test_split(X, y, test_size=0.2, random_state=10, stratify=y)"
      ],
      "execution_count": 46,
      "outputs": []
    },
    {
      "cell_type": "code",
      "metadata": {
        "colab": {
          "base_uri": "https://localhost:8080/"
        },
        "id": "4d-TqwBPV3la",
        "outputId": "0cad4542-f5c4-45e5-b057-8c5620104f15"
      },
      "source": [
        "X_train.shape"
      ],
      "execution_count": 47,
      "outputs": [
        {
          "output_type": "execute_result",
          "data": {
            "text/plain": [
              "(334, 100)"
            ]
          },
          "metadata": {},
          "execution_count": 47
        }
      ]
    },
    {
      "cell_type": "code",
      "metadata": {
        "id": "hRD-NXYF6uHo"
      },
      "source": [
        "y_train.reset_index(drop=True, inplace=True)"
      ],
      "execution_count": 48,
      "outputs": []
    },
    {
      "cell_type": "code",
      "metadata": {
        "colab": {
          "base_uri": "https://localhost:8080/",
          "height": 273
        },
        "id": "0MwiCXc0grO-",
        "outputId": "02df32af-be39-4dd7-fc23-4c4f3f9232ab"
      },
      "source": [
        "df_unscaled = pd.concat([pd.DataFrame(X_train), y_train], axis=1, ignore_index=True)\n",
        "df_unscaled.columns = [*df_unscaled.columns[:-1], 'Accident Level']\n",
        "df_unscaled.head(5)"
      ],
      "execution_count": 49,
      "outputs": [
        {
          "output_type": "execute_result",
          "data": {
            "text/html": [
              "<div>\n",
              "<style scoped>\n",
              "    .dataframe tbody tr th:only-of-type {\n",
              "        vertical-align: middle;\n",
              "    }\n",
              "\n",
              "    .dataframe tbody tr th {\n",
              "        vertical-align: top;\n",
              "    }\n",
              "\n",
              "    .dataframe thead th {\n",
              "        text-align: right;\n",
              "    }\n",
              "</style>\n",
              "<table border=\"1\" class=\"dataframe\">\n",
              "  <thead>\n",
              "    <tr style=\"text-align: right;\">\n",
              "      <th></th>\n",
              "      <th>0</th>\n",
              "      <th>1</th>\n",
              "      <th>2</th>\n",
              "      <th>3</th>\n",
              "      <th>4</th>\n",
              "      <th>5</th>\n",
              "      <th>6</th>\n",
              "      <th>7</th>\n",
              "      <th>8</th>\n",
              "      <th>9</th>\n",
              "      <th>10</th>\n",
              "      <th>11</th>\n",
              "      <th>12</th>\n",
              "      <th>13</th>\n",
              "      <th>14</th>\n",
              "      <th>15</th>\n",
              "      <th>16</th>\n",
              "      <th>17</th>\n",
              "      <th>18</th>\n",
              "      <th>19</th>\n",
              "      <th>20</th>\n",
              "      <th>21</th>\n",
              "      <th>22</th>\n",
              "      <th>23</th>\n",
              "      <th>24</th>\n",
              "      <th>25</th>\n",
              "      <th>26</th>\n",
              "      <th>27</th>\n",
              "      <th>28</th>\n",
              "      <th>29</th>\n",
              "      <th>30</th>\n",
              "      <th>31</th>\n",
              "      <th>32</th>\n",
              "      <th>33</th>\n",
              "      <th>34</th>\n",
              "      <th>35</th>\n",
              "      <th>36</th>\n",
              "      <th>37</th>\n",
              "      <th>38</th>\n",
              "      <th>39</th>\n",
              "      <th>...</th>\n",
              "      <th>61</th>\n",
              "      <th>62</th>\n",
              "      <th>63</th>\n",
              "      <th>64</th>\n",
              "      <th>65</th>\n",
              "      <th>66</th>\n",
              "      <th>67</th>\n",
              "      <th>68</th>\n",
              "      <th>69</th>\n",
              "      <th>70</th>\n",
              "      <th>71</th>\n",
              "      <th>72</th>\n",
              "      <th>73</th>\n",
              "      <th>74</th>\n",
              "      <th>75</th>\n",
              "      <th>76</th>\n",
              "      <th>77</th>\n",
              "      <th>78</th>\n",
              "      <th>79</th>\n",
              "      <th>80</th>\n",
              "      <th>81</th>\n",
              "      <th>82</th>\n",
              "      <th>83</th>\n",
              "      <th>84</th>\n",
              "      <th>85</th>\n",
              "      <th>86</th>\n",
              "      <th>87</th>\n",
              "      <th>88</th>\n",
              "      <th>89</th>\n",
              "      <th>90</th>\n",
              "      <th>91</th>\n",
              "      <th>92</th>\n",
              "      <th>93</th>\n",
              "      <th>94</th>\n",
              "      <th>95</th>\n",
              "      <th>96</th>\n",
              "      <th>97</th>\n",
              "      <th>98</th>\n",
              "      <th>99</th>\n",
              "      <th>Accident Level</th>\n",
              "    </tr>\n",
              "  </thead>\n",
              "  <tbody>\n",
              "    <tr>\n",
              "      <th>0</th>\n",
              "      <td>-0.000912</td>\n",
              "      <td>0.000309</td>\n",
              "      <td>0.004592</td>\n",
              "      <td>-0.000118</td>\n",
              "      <td>-0.000924</td>\n",
              "      <td>-0.000877</td>\n",
              "      <td>-0.001819</td>\n",
              "      <td>0.008326</td>\n",
              "      <td>0.002574</td>\n",
              "      <td>0.002026</td>\n",
              "      <td>0.005393</td>\n",
              "      <td>-0.002358</td>\n",
              "      <td>0.004331</td>\n",
              "      <td>0.000916</td>\n",
              "      <td>0.002397</td>\n",
              "      <td>-0.003678</td>\n",
              "      <td>-0.002167</td>\n",
              "      <td>0.001914</td>\n",
              "      <td>-0.003616</td>\n",
              "      <td>-0.001429</td>\n",
              "      <td>0.002210</td>\n",
              "      <td>0.002215</td>\n",
              "      <td>0.002054</td>\n",
              "      <td>-0.002776</td>\n",
              "      <td>0.006832</td>\n",
              "      <td>-0.002214</td>\n",
              "      <td>-0.006379</td>\n",
              "      <td>-0.004911</td>\n",
              "      <td>0.000493</td>\n",
              "      <td>-0.000295</td>\n",
              "      <td>-0.002434</td>\n",
              "      <td>0.002378</td>\n",
              "      <td>-0.000587</td>\n",
              "      <td>0.003236</td>\n",
              "      <td>0.002263</td>\n",
              "      <td>0.002369</td>\n",
              "      <td>-0.001681</td>\n",
              "      <td>-0.001180</td>\n",
              "      <td>0.004622</td>\n",
              "      <td>-0.001149</td>\n",
              "      <td>...</td>\n",
              "      <td>0.007089</td>\n",
              "      <td>0.000643</td>\n",
              "      <td>0.007778</td>\n",
              "      <td>0.006559</td>\n",
              "      <td>0.001063</td>\n",
              "      <td>0.005014</td>\n",
              "      <td>-0.003121</td>\n",
              "      <td>0.000124</td>\n",
              "      <td>-0.002264</td>\n",
              "      <td>-0.005011</td>\n",
              "      <td>-0.002437</td>\n",
              "      <td>0.002363</td>\n",
              "      <td>-0.004746</td>\n",
              "      <td>0.006909</td>\n",
              "      <td>0.000870</td>\n",
              "      <td>0.003838</td>\n",
              "      <td>0.001346</td>\n",
              "      <td>-0.004558</td>\n",
              "      <td>-0.000147</td>\n",
              "      <td>0.007854</td>\n",
              "      <td>0.000802</td>\n",
              "      <td>-0.006459</td>\n",
              "      <td>0.000910</td>\n",
              "      <td>-0.016493</td>\n",
              "      <td>-0.001111</td>\n",
              "      <td>0.003004</td>\n",
              "      <td>-0.002025</td>\n",
              "      <td>-0.004367</td>\n",
              "      <td>-0.001373</td>\n",
              "      <td>0.000576</td>\n",
              "      <td>0.000665</td>\n",
              "      <td>0.001478</td>\n",
              "      <td>0.003509</td>\n",
              "      <td>-0.002849</td>\n",
              "      <td>0.001828</td>\n",
              "      <td>0.000454</td>\n",
              "      <td>-0.000565</td>\n",
              "      <td>0.012244</td>\n",
              "      <td>-0.002991</td>\n",
              "      <td>0</td>\n",
              "    </tr>\n",
              "    <tr>\n",
              "      <th>1</th>\n",
              "      <td>-0.002544</td>\n",
              "      <td>0.003882</td>\n",
              "      <td>0.000272</td>\n",
              "      <td>-0.002541</td>\n",
              "      <td>0.000740</td>\n",
              "      <td>0.002268</td>\n",
              "      <td>-0.000470</td>\n",
              "      <td>0.005305</td>\n",
              "      <td>-0.000997</td>\n",
              "      <td>0.002353</td>\n",
              "      <td>0.001675</td>\n",
              "      <td>-0.001238</td>\n",
              "      <td>0.004534</td>\n",
              "      <td>0.002483</td>\n",
              "      <td>0.001619</td>\n",
              "      <td>-0.002067</td>\n",
              "      <td>0.001726</td>\n",
              "      <td>0.002722</td>\n",
              "      <td>-0.000342</td>\n",
              "      <td>-0.003483</td>\n",
              "      <td>0.000865</td>\n",
              "      <td>0.000456</td>\n",
              "      <td>0.000480</td>\n",
              "      <td>-0.000828</td>\n",
              "      <td>0.004216</td>\n",
              "      <td>-0.000381</td>\n",
              "      <td>-0.003409</td>\n",
              "      <td>-0.004361</td>\n",
              "      <td>0.001901</td>\n",
              "      <td>-0.003855</td>\n",
              "      <td>-0.001544</td>\n",
              "      <td>0.003263</td>\n",
              "      <td>-0.003336</td>\n",
              "      <td>-0.001335</td>\n",
              "      <td>-0.000312</td>\n",
              "      <td>0.000985</td>\n",
              "      <td>-0.003090</td>\n",
              "      <td>-0.001488</td>\n",
              "      <td>-0.000120</td>\n",
              "      <td>0.000169</td>\n",
              "      <td>...</td>\n",
              "      <td>0.010491</td>\n",
              "      <td>-0.004520</td>\n",
              "      <td>0.003387</td>\n",
              "      <td>0.009747</td>\n",
              "      <td>0.000109</td>\n",
              "      <td>0.008121</td>\n",
              "      <td>-0.001660</td>\n",
              "      <td>-0.002371</td>\n",
              "      <td>-0.005683</td>\n",
              "      <td>-0.000255</td>\n",
              "      <td>0.001616</td>\n",
              "      <td>0.001638</td>\n",
              "      <td>-0.000410</td>\n",
              "      <td>0.004758</td>\n",
              "      <td>0.000278</td>\n",
              "      <td>-0.003085</td>\n",
              "      <td>-0.000406</td>\n",
              "      <td>-0.005351</td>\n",
              "      <td>0.001946</td>\n",
              "      <td>0.007970</td>\n",
              "      <td>0.001476</td>\n",
              "      <td>-0.007779</td>\n",
              "      <td>0.003677</td>\n",
              "      <td>-0.015323</td>\n",
              "      <td>-0.002563</td>\n",
              "      <td>0.002160</td>\n",
              "      <td>0.001130</td>\n",
              "      <td>-0.001794</td>\n",
              "      <td>-0.002614</td>\n",
              "      <td>-0.001180</td>\n",
              "      <td>-0.003460</td>\n",
              "      <td>-0.000668</td>\n",
              "      <td>-0.001515</td>\n",
              "      <td>-0.002302</td>\n",
              "      <td>-0.000584</td>\n",
              "      <td>-0.001073</td>\n",
              "      <td>-0.003135</td>\n",
              "      <td>0.006839</td>\n",
              "      <td>-0.001795</td>\n",
              "      <td>0</td>\n",
              "    </tr>\n",
              "    <tr>\n",
              "      <th>2</th>\n",
              "      <td>-0.000374</td>\n",
              "      <td>-0.000748</td>\n",
              "      <td>0.001692</td>\n",
              "      <td>-0.001164</td>\n",
              "      <td>0.001946</td>\n",
              "      <td>-0.001315</td>\n",
              "      <td>0.000306</td>\n",
              "      <td>0.000905</td>\n",
              "      <td>-0.000902</td>\n",
              "      <td>0.001255</td>\n",
              "      <td>-0.000396</td>\n",
              "      <td>0.000503</td>\n",
              "      <td>0.000472</td>\n",
              "      <td>0.001942</td>\n",
              "      <td>0.000793</td>\n",
              "      <td>-0.001407</td>\n",
              "      <td>-0.000416</td>\n",
              "      <td>0.000088</td>\n",
              "      <td>-0.000308</td>\n",
              "      <td>-0.000944</td>\n",
              "      <td>0.002051</td>\n",
              "      <td>-0.001766</td>\n",
              "      <td>0.000257</td>\n",
              "      <td>-0.000283</td>\n",
              "      <td>0.001806</td>\n",
              "      <td>-0.000281</td>\n",
              "      <td>-0.000514</td>\n",
              "      <td>-0.002681</td>\n",
              "      <td>0.001132</td>\n",
              "      <td>0.000189</td>\n",
              "      <td>-0.000827</td>\n",
              "      <td>0.002301</td>\n",
              "      <td>-0.001145</td>\n",
              "      <td>0.000909</td>\n",
              "      <td>-0.000505</td>\n",
              "      <td>0.000294</td>\n",
              "      <td>0.000348</td>\n",
              "      <td>0.000221</td>\n",
              "      <td>0.000358</td>\n",
              "      <td>0.001403</td>\n",
              "      <td>...</td>\n",
              "      <td>0.003401</td>\n",
              "      <td>-0.000821</td>\n",
              "      <td>0.001319</td>\n",
              "      <td>0.004454</td>\n",
              "      <td>0.001070</td>\n",
              "      <td>0.002974</td>\n",
              "      <td>0.000198</td>\n",
              "      <td>0.002366</td>\n",
              "      <td>0.000028</td>\n",
              "      <td>0.000680</td>\n",
              "      <td>-0.000646</td>\n",
              "      <td>0.000575</td>\n",
              "      <td>-0.001349</td>\n",
              "      <td>0.001171</td>\n",
              "      <td>0.000025</td>\n",
              "      <td>0.000034</td>\n",
              "      <td>-0.000224</td>\n",
              "      <td>-0.002977</td>\n",
              "      <td>0.000540</td>\n",
              "      <td>0.003675</td>\n",
              "      <td>0.000610</td>\n",
              "      <td>-0.004055</td>\n",
              "      <td>0.001383</td>\n",
              "      <td>-0.006572</td>\n",
              "      <td>-0.001075</td>\n",
              "      <td>0.002344</td>\n",
              "      <td>-0.000942</td>\n",
              "      <td>0.000781</td>\n",
              "      <td>-0.000795</td>\n",
              "      <td>-0.000318</td>\n",
              "      <td>0.000121</td>\n",
              "      <td>-0.000939</td>\n",
              "      <td>-0.000400</td>\n",
              "      <td>-0.002825</td>\n",
              "      <td>0.000527</td>\n",
              "      <td>0.001016</td>\n",
              "      <td>-0.001794</td>\n",
              "      <td>0.005360</td>\n",
              "      <td>-0.002761</td>\n",
              "      <td>0</td>\n",
              "    </tr>\n",
              "    <tr>\n",
              "      <th>3</th>\n",
              "      <td>-0.002256</td>\n",
              "      <td>0.001217</td>\n",
              "      <td>0.001353</td>\n",
              "      <td>-0.000905</td>\n",
              "      <td>0.001084</td>\n",
              "      <td>0.000211</td>\n",
              "      <td>-0.001263</td>\n",
              "      <td>0.001803</td>\n",
              "      <td>-0.000115</td>\n",
              "      <td>0.000587</td>\n",
              "      <td>-0.000986</td>\n",
              "      <td>0.001778</td>\n",
              "      <td>0.002462</td>\n",
              "      <td>0.003157</td>\n",
              "      <td>0.001725</td>\n",
              "      <td>-0.001335</td>\n",
              "      <td>-0.000348</td>\n",
              "      <td>-0.000806</td>\n",
              "      <td>0.000513</td>\n",
              "      <td>-0.002264</td>\n",
              "      <td>0.000840</td>\n",
              "      <td>0.000581</td>\n",
              "      <td>-0.000369</td>\n",
              "      <td>0.001772</td>\n",
              "      <td>0.003896</td>\n",
              "      <td>0.001533</td>\n",
              "      <td>-0.002267</td>\n",
              "      <td>-0.003868</td>\n",
              "      <td>0.000673</td>\n",
              "      <td>-0.000859</td>\n",
              "      <td>0.001470</td>\n",
              "      <td>0.002873</td>\n",
              "      <td>0.000879</td>\n",
              "      <td>-0.001703</td>\n",
              "      <td>-0.000146</td>\n",
              "      <td>0.000182</td>\n",
              "      <td>-0.001186</td>\n",
              "      <td>0.000575</td>\n",
              "      <td>0.000381</td>\n",
              "      <td>0.003224</td>\n",
              "      <td>...</td>\n",
              "      <td>0.005940</td>\n",
              "      <td>-0.001016</td>\n",
              "      <td>0.002566</td>\n",
              "      <td>0.003451</td>\n",
              "      <td>-0.000476</td>\n",
              "      <td>0.001780</td>\n",
              "      <td>0.000603</td>\n",
              "      <td>0.002499</td>\n",
              "      <td>-0.001934</td>\n",
              "      <td>-0.000954</td>\n",
              "      <td>0.000086</td>\n",
              "      <td>0.001295</td>\n",
              "      <td>-0.001711</td>\n",
              "      <td>0.001013</td>\n",
              "      <td>-0.001225</td>\n",
              "      <td>-0.000726</td>\n",
              "      <td>0.000962</td>\n",
              "      <td>-0.001193</td>\n",
              "      <td>0.000481</td>\n",
              "      <td>0.003987</td>\n",
              "      <td>-0.000541</td>\n",
              "      <td>-0.005640</td>\n",
              "      <td>-0.000077</td>\n",
              "      <td>-0.006415</td>\n",
              "      <td>-0.002467</td>\n",
              "      <td>0.001917</td>\n",
              "      <td>0.001768</td>\n",
              "      <td>0.000121</td>\n",
              "      <td>0.001143</td>\n",
              "      <td>0.000157</td>\n",
              "      <td>-0.001397</td>\n",
              "      <td>-0.001793</td>\n",
              "      <td>0.001322</td>\n",
              "      <td>-0.002131</td>\n",
              "      <td>-0.000793</td>\n",
              "      <td>0.000072</td>\n",
              "      <td>-0.001591</td>\n",
              "      <td>0.006021</td>\n",
              "      <td>-0.001923</td>\n",
              "      <td>0</td>\n",
              "    </tr>\n",
              "    <tr>\n",
              "      <th>4</th>\n",
              "      <td>-0.002934</td>\n",
              "      <td>0.002218</td>\n",
              "      <td>-0.000137</td>\n",
              "      <td>-0.004740</td>\n",
              "      <td>-0.002729</td>\n",
              "      <td>0.001050</td>\n",
              "      <td>-0.000211</td>\n",
              "      <td>0.002174</td>\n",
              "      <td>0.002219</td>\n",
              "      <td>0.002801</td>\n",
              "      <td>0.001443</td>\n",
              "      <td>0.000536</td>\n",
              "      <td>0.003488</td>\n",
              "      <td>0.000837</td>\n",
              "      <td>0.002498</td>\n",
              "      <td>-0.000443</td>\n",
              "      <td>-0.000029</td>\n",
              "      <td>-0.000440</td>\n",
              "      <td>0.001262</td>\n",
              "      <td>-0.004699</td>\n",
              "      <td>0.001810</td>\n",
              "      <td>0.000617</td>\n",
              "      <td>-0.000171</td>\n",
              "      <td>-0.000074</td>\n",
              "      <td>0.007148</td>\n",
              "      <td>0.002037</td>\n",
              "      <td>-0.005280</td>\n",
              "      <td>-0.002748</td>\n",
              "      <td>0.001562</td>\n",
              "      <td>-0.001326</td>\n",
              "      <td>0.000334</td>\n",
              "      <td>0.002174</td>\n",
              "      <td>-0.000208</td>\n",
              "      <td>0.000890</td>\n",
              "      <td>-0.001499</td>\n",
              "      <td>0.000133</td>\n",
              "      <td>0.000187</td>\n",
              "      <td>0.000940</td>\n",
              "      <td>0.002681</td>\n",
              "      <td>-0.000296</td>\n",
              "      <td>...</td>\n",
              "      <td>0.004916</td>\n",
              "      <td>-0.000843</td>\n",
              "      <td>0.007096</td>\n",
              "      <td>0.006336</td>\n",
              "      <td>0.000855</td>\n",
              "      <td>0.005285</td>\n",
              "      <td>-0.003335</td>\n",
              "      <td>-0.001770</td>\n",
              "      <td>-0.003887</td>\n",
              "      <td>-0.002089</td>\n",
              "      <td>-0.000799</td>\n",
              "      <td>0.002810</td>\n",
              "      <td>-0.002197</td>\n",
              "      <td>0.003309</td>\n",
              "      <td>-0.000400</td>\n",
              "      <td>0.000856</td>\n",
              "      <td>0.001633</td>\n",
              "      <td>-0.002650</td>\n",
              "      <td>0.003621</td>\n",
              "      <td>0.005139</td>\n",
              "      <td>0.001533</td>\n",
              "      <td>-0.007575</td>\n",
              "      <td>0.001659</td>\n",
              "      <td>-0.009992</td>\n",
              "      <td>-0.002353</td>\n",
              "      <td>0.003797</td>\n",
              "      <td>0.001975</td>\n",
              "      <td>-0.003002</td>\n",
              "      <td>-0.003229</td>\n",
              "      <td>-0.000599</td>\n",
              "      <td>-0.001134</td>\n",
              "      <td>0.000144</td>\n",
              "      <td>0.000331</td>\n",
              "      <td>0.000138</td>\n",
              "      <td>-0.001034</td>\n",
              "      <td>0.000226</td>\n",
              "      <td>-0.002920</td>\n",
              "      <td>0.008080</td>\n",
              "      <td>-0.001537</td>\n",
              "      <td>3</td>\n",
              "    </tr>\n",
              "  </tbody>\n",
              "</table>\n",
              "<p>5 rows × 101 columns</p>\n",
              "</div>"
            ],
            "text/plain": [
              "          0         1         2  ...        98        99  Accident Level\n",
              "0 -0.000912  0.000309  0.004592  ...  0.012244 -0.002991               0\n",
              "1 -0.002544  0.003882  0.000272  ...  0.006839 -0.001795               0\n",
              "2 -0.000374 -0.000748  0.001692  ...  0.005360 -0.002761               0\n",
              "3 -0.002256  0.001217  0.001353  ...  0.006021 -0.001923               0\n",
              "4 -0.002934  0.002218 -0.000137  ...  0.008080 -0.001537               3\n",
              "\n",
              "[5 rows x 101 columns]"
            ]
          },
          "metadata": {},
          "execution_count": 49
        }
      ]
    },
    {
      "cell_type": "code",
      "metadata": {
        "colab": {
          "base_uri": "https://localhost:8080/"
        },
        "id": "0CA0d9OqiX9p",
        "outputId": "38e6ed60-f53f-469a-91ac-0f7d14812e91"
      },
      "source": [
        "from sklearn.utils import resample\n",
        "\n",
        "accident_lvl_0 = df_unscaled[df_unscaled['Accident Level'] == 0]\n",
        "accident_lvl_1 = df_unscaled[df_unscaled['Accident Level'] == 1]\n",
        "accident_lvl_2 = df_unscaled[df_unscaled['Accident Level'] == 2]\n",
        "accident_lvl_3 = df_unscaled[df_unscaled['Accident Level'] == 3]\n",
        "accident_lvl_4 = df_unscaled[df_unscaled['Accident Level'] == 4]\n",
        "\n",
        "\n",
        "df_accident_lvl_1_upscaled = resample(accident_lvl_1, replace=True, n_samples=len(accident_lvl_0), random_state=1)\n",
        "df_accident_lvl_2_upscaled = resample(accident_lvl_2, replace=True, n_samples=len(accident_lvl_0), random_state=1)\n",
        "df_accident_lvl_3_upscaled = resample(accident_lvl_3, replace=True, n_samples=len(accident_lvl_0), random_state=1)\n",
        "df_accident_lvl_4_upscaled = resample(accident_lvl_4, replace=True, n_samples=len(accident_lvl_0), random_state=1)\n",
        "\n",
        "\n",
        "df_upscale = pd.concat([accident_lvl_0, df_accident_lvl_1_upscaled, df_accident_lvl_2_upscaled, df_accident_lvl_3_upscaled, df_accident_lvl_4_upscaled])\n",
        "\n",
        "df_upscale['Accident Level'].value_counts()"
      ],
      "execution_count": 50,
      "outputs": [
        {
          "output_type": "execute_result",
          "data": {
            "text/plain": [
              "4    247\n",
              "3    247\n",
              "2    247\n",
              "1    247\n",
              "0    247\n",
              "Name: Accident Level, dtype: int64"
            ]
          },
          "metadata": {},
          "execution_count": 50
        }
      ]
    },
    {
      "cell_type": "code",
      "metadata": {
        "id": "AuTJVrukwUx8"
      },
      "source": [
        "X_train = df_upscale.drop(['Accident Level'], axis=1)\n",
        "y_train = df_upscale['Accident Level']"
      ],
      "execution_count": 51,
      "outputs": []
    },
    {
      "cell_type": "code",
      "metadata": {
        "colab": {
          "base_uri": "https://localhost:8080/",
          "height": 334
        },
        "id": "iJmZ7ObgwjWE",
        "outputId": "b8a7ff2f-9ddf-4f8b-b8de-ca833cd3fb08"
      },
      "source": [
        "from sklearn.decomposition import PCA\n",
        "from sklearn.preprocessing import StandardScaler\n",
        "\n",
        "scaler = StandardScaler()\n",
        "X_train_scaled = scaler.fit_transform(X_train)\n",
        "\n",
        "pca = PCA(n_components=X_train.shape[1])\n",
        "\n",
        "pca.fit(X_train_scaled)\n",
        "\n",
        "\n",
        "plt.figure(figsize=(15, 5))\n",
        "plt.subplot(1,2,1)\n",
        "plt.bar(list(range(1, X_train.shape[1]+1)), pca.explained_variance_ratio_, alpha=0.5, align='center')\n",
        "plt.ylabel('Variation explained')\n",
        "plt.xlabel('eigen Value')\n",
        "\n",
        "plt.subplot(1,2,2)\n",
        "plt.step(list(range(1,X_train.shape[1]+1)),np.cumsum(pca.explained_variance_ratio_), where='mid')\n",
        "plt.ylabel('Cum of variation explained')\n",
        "plt.xlabel('eigen Value')\n",
        "plt.show()\n"
      ],
      "execution_count": 52,
      "outputs": [
        {
          "output_type": "display_data",
          "data": {
            "image/png": "[encoded data removed]",
            "text/plain": [
              "<Figure size 1080x360 with 2 Axes>"
            ]
          },
          "metadata": {
            "needs_background": "light"
          }
        }
      ]
    },
    {
      "cell_type": "code",
      "metadata": {
        "id": "3spz4mQT0Myl"
      },
      "source": [
        "from sklearn.pipeline import Pipeline\n",
        "\n",
        "pca = PCA(n_components=40)\n",
        "scaler = StandardScaler()\n",
        "\n",
        "pipeline = Pipeline([\n",
        "      ('scaler', scaler),\n",
        "      ('pca', pca)\n",
        "      ])\n",
        "\n",
        "X_train_pca = pipeline.fit_transform(X_train)\n",
        "X_test_pca = pipeline.fit_transform(X_test)"
      ],
      "execution_count": 53,
      "outputs": []
    },
    {
      "cell_type": "code",
      "metadata": {
        "colab": {
          "base_uri": "https://localhost:8080/"
        },
        "id": "ho7TWuJwxvCt",
        "outputId": "655ee5f5-30be-4680-fab3-982c31a87046"
      },
      "source": [
        "!pip install mlflow --quiet\n",
        "!pip install pyngrok --quiet\n",
        "\n",
        "get_ipython().system_raw(\"mlflow ui --port 5000 &\")\n",
        "\n",
        "from pyngrok import ngrok\n",
        "\n",
        "# Terminate open tunnels if exist\n",
        "ngrok.kill()\n",
        "\n",
        "NGROK_AUTH_TOKEN = \"\"\n",
        "ngrok.set_auth_token(NGROK_AUTH_TOKEN)\n",
        "\n",
        "ngrok_tunnel = ngrok.connect(addr=\"5000\", proto=\"http\", bind_tls=True)\n",
        "print(\"MLflow Tracking UI:\", ngrok_tunnel.public_url)"
      ],
      "execution_count": 56,
      "outputs": [
        {
          "output_type": "stream",
          "name": "stdout",
          "text": [
            "\u001b[K     |████████████████████████████████| 15.5 MB 5.1 MB/s \n",
            "\u001b[K     |████████████████████████████████| 180 kB 57.8 MB/s \n",
            "\u001b[K     |████████████████████████████████| 79 kB 7.1 MB/s \n",
            "\u001b[K     |████████████████████████████████| 1.1 MB 60.6 MB/s \n",
            "\u001b[K     |████████████████████████████████| 146 kB 43.0 MB/s \n",
            "\u001b[K     |████████████████████████████████| 596 kB 58.2 MB/s \n",
            "\u001b[K     |████████████████████████████████| 58 kB 5.8 MB/s \n",
            "\u001b[K     |████████████████████████████████| 75 kB 4.2 MB/s \n",
            "\u001b[K     |████████████████████████████████| 52 kB 1.4 MB/s \n",
            "\u001b[K     |████████████████████████████████| 63 kB 1.8 MB/s \n",
            "\u001b[?25h  Building wheel for alembic (setup.py) ... \u001b[?25l\u001b[?25hdone\n",
            "  Building wheel for databricks-cli (setup.py) ... \u001b[?25l\u001b[?25hdone\n",
            "MLflow Tracking UI: https://9cf2-34-73-238-113.ngrok.io\n"
          ]
        }
      ]
    },
    {
      "cell_type": "code",
      "metadata": {
        "id": "9JriEAhK1hUh"
      },
      "source": [
        "from sklearn.svm import SVC\n",
        "from sklearn.ensemble import RandomForestClassifier, AdaBoostClassifier, ExtraTreesClassifier\n",
        "from sklearn.neighbors import KNeighborsClassifier\n",
        "from sklearn.linear_model import LogisticRegression\n",
        "from lightgbm import LGBMClassifier\n",
        "from xgboost import XGBClassifier\n",
        "from sklearn.metrics import confusion_matrix,classification_report\n",
        "from sklearn.model_selection import GridSearchCV\n",
        "from sklearn import metrics\n",
        "\n",
        "import mlflow\n",
        "\n",
        "def Model_Report(X_train, y_train, X_val, y_val):\n",
        "\n",
        "  models = ['LR', 'SVC', 'RF', 'ADA', 'ExTC', 'KNN', 'LGBM', 'XGB']\n",
        "\n",
        "  clfs = [\n",
        "          LogisticRegression(random_state=1),\n",
        "          SVC(random_state=1, probability=True),\n",
        "          RandomForestClassifier(n_jobs=10, random_state=1),\n",
        "          AdaBoostClassifier(random_state=1),\n",
        "          ExtraTreesClassifier(random_state=1, n_jobs=10),\n",
        "          KNeighborsClassifier(n_jobs=10),\n",
        "          LGBMClassifier(n_jobs=10, random_state=1),\n",
        "          XGBClassifier(n_jobs=10, random_state=1)\n",
        "        ]\n",
        "\n",
        "  params = {\n",
        "          models[0]: {'penalty': ['l1', 'l2'], 'C': [0.1,1,10]},\n",
        "          models[1]: {'C': [1,10], 'gamma':[0.01,0.1,1]},\n",
        "          models[2]: {'n_estimators': [10, 100], 'max_depth': [10, 15]},\n",
        "          models[3]: {'n_estimators': [100,200], 'learning_rate': [0.1, 1]},\n",
        "          models[4]: {'n_estimators': [10, 100], 'max_depth': [10, 15]},\n",
        "          models[5]: {'n_neighbors': [2, 5, 8], 'weights': ['uniform', 'distance']},\n",
        "          models[6]: {'n_estimators': [100], 'learning_rate': [0.01, 0.1]},\n",
        "          models[7]: {'n_estimators': [100, 200], 'gamma': [0.01, 0.1]}\n",
        "\n",
        "      }\n",
        "\n",
        "  result = {}\n",
        "\n",
        "  for name, estimator in zip(models, clfs):\n",
        "    print('')\n",
        "    print(\"Performing : \" + name)\n",
        "\n",
        "    clf = GridSearchCV(estimator, params[name], cv=5)\n",
        "\n",
        "    with mlflow.start_run(run_name=\"MLflow Captstone Project\"):\n",
        "\n",
        "      clf.fit(X_train, y_train)\n",
        "\n",
        "      print(\"best params: \" + str(clf.best_params_))\n",
        "      print(\"best scores: \" + str(round(clf.best_score_,3)))\n",
        "\n",
        "      for key, value in clf.best_params_.items():\n",
        "        mlflow.log_param(key, value)\n",
        "\n",
        "      y_pred = clf.predict(X_val)\n",
        "      acc = accuracy_score(y_val, y_pred)\n",
        "\n",
        "      df_report = classification_report(y_val, y_pred)\n",
        "      print(df_report)\n",
        "\n",
        "      clf_train_score = round(clf.best_score_,3)\n",
        "      clf_recall = round((metrics.recall_score(y_val, y_pred, average='weighted')), 3)   \n",
        "      clf_precision = round((metrics.precision_score(y_val, y_pred, average='weighted')), 3) \n",
        "      clf_f1score = round((metrics.f1_score(y_val, y_pred, average='weighted')),3)\n",
        "\n",
        "      mlflow.log_metric('Training Score', clf_train_score)\n",
        "      mlflow.log_metric('Accuracy', acc)\n",
        "      mlflow.log_metric('Recall', clf_recall)\n",
        "      mlflow.log_metric('Precision', clf_precision)\n",
        "      mlflow.log_metric('F1 score', clf_f1score)\n",
        "      mlflow.sklearn.log_model(clf.estimator, 'model')\n",
        "      \n",
        "    result[name] = [clf_train_score, acc, clf_recall, clf_precision, clf_f1score]\n",
        "\n",
        "  result_tab = pd.DataFrame(np.array(list(result.values()))[:,:],    # make a dataframe out of the metrics from result dictionary \n",
        "                          columns= ['Training Score', 'Accuracy', 'Recall', 'Precision', 'F1 score'],\n",
        "                        index= result.keys())   # use the model names as index\n",
        "\n",
        "  result_tab.index.name = 'Model'\n",
        "\n",
        "  return result_tab, clf"
      ],
      "execution_count": 57,
      "outputs": []
    },
    {
      "cell_type": "code",
      "metadata": {
        "colab": {
          "base_uri": "https://localhost:8080/",
          "height": 1000
        },
        "id": "8P2DYuWd5d6d",
        "outputId": "b9240e57-d7d0-411f-d2e2-cc1bce3ec531"
      },
      "source": [
        "result, clf= Model_Report(X_train_pca, y_train, X_test_pca, y_test)\n",
        "result"
      ],
      "execution_count": 58,
      "outputs": [
        {
          "output_type": "stream",
          "name": "stdout",
          "text": [
            "\n",
            "Performing : LR\n",
            "best params: {'C': 10, 'penalty': 'l2'}\n",
            "best scores: 0.802\n",
            "              precision    recall  f1-score   support\n",
            "\n",
            "           0       0.76      0.26      0.39        62\n",
            "           1       0.17      0.50      0.25         8\n",
            "           2       0.00      0.00      0.00         6\n",
            "           3       0.15      0.33      0.21         6\n",
            "           4       0.10      0.50      0.17         2\n",
            "\n",
            "    accuracy                           0.27        84\n",
            "   macro avg       0.24      0.32      0.20        84\n",
            "weighted avg       0.59      0.27      0.33        84\n",
            "\n",
            "\n",
            "Performing : SVC\n",
            "best params: {'C': 1, 'gamma': 1}\n",
            "best scores: 0.987\n",
            "              precision    recall  f1-score   support\n",
            "\n",
            "           0       0.74      1.00      0.85        62\n",
            "           1       0.00      0.00      0.00         8\n",
            "           2       0.00      0.00      0.00         6\n",
            "           3       0.00      0.00      0.00         6\n",
            "           4       0.00      0.00      0.00         2\n",
            "\n",
            "    accuracy                           0.74        84\n",
            "   macro avg       0.15      0.20      0.17        84\n",
            "weighted avg       0.54      0.74      0.63        84\n",
            "\n",
            "\n",
            "Performing : RF\n",
            "best params: {'max_depth': 15, 'n_estimators': 100}\n",
            "best scores: 0.984\n",
            "              precision    recall  f1-score   support\n",
            "\n",
            "           0       0.74      1.00      0.85        62\n",
            "           1       0.00      0.00      0.00         8\n",
            "           2       0.00      0.00      0.00         6\n",
            "           3       0.00      0.00      0.00         6\n",
            "           4       0.00      0.00      0.00         2\n",
            "\n",
            "    accuracy                           0.74        84\n",
            "   macro avg       0.15      0.20      0.17        84\n",
            "weighted avg       0.54      0.74      0.63        84\n",
            "\n",
            "\n",
            "Performing : ADA\n",
            "best params: {'learning_rate': 1, 'n_estimators': 100}\n",
            "best scores: 0.354\n",
            "              precision    recall  f1-score   support\n",
            "\n",
            "           0       0.50      0.05      0.09        62\n",
            "           1       0.09      0.38      0.14         8\n",
            "           2       0.00      0.00      0.00         6\n",
            "           3       0.06      0.33      0.11         6\n",
            "           4       0.00      0.00      0.00         2\n",
            "\n",
            "    accuracy                           0.10        84\n",
            "   macro avg       0.13      0.15      0.07        84\n",
            "weighted avg       0.38      0.10      0.09        84\n",
            "\n",
            "\n",
            "Performing : ExTC\n",
            "best params: {'max_depth': 15, 'n_estimators': 100}\n",
            "best scores: 0.987\n",
            "              precision    recall  f1-score   support\n",
            "\n",
            "           0       0.74      1.00      0.85        62\n",
            "           1       0.00      0.00      0.00         8\n",
            "           2       0.00      0.00      0.00         6\n",
            "           3       0.00      0.00      0.00         6\n",
            "           4       0.00      0.00      0.00         2\n",
            "\n",
            "    accuracy                           0.74        84\n",
            "   macro avg       0.15      0.20      0.17        84\n",
            "weighted avg       0.54      0.74      0.63        84\n",
            "\n",
            "\n",
            "Performing : KNN\n",
            "best params: {'n_neighbors': 2, 'weights': 'distance'}\n",
            "best scores: 0.945\n",
            "              precision    recall  f1-score   support\n",
            "\n",
            "           0       0.74      0.82      0.78        62\n",
            "           1       0.17      0.12      0.14         8\n",
            "           2       0.00      0.00      0.00         6\n",
            "           3       0.33      0.17      0.22         6\n",
            "           4       0.00      0.00      0.00         2\n",
            "\n",
            "    accuracy                           0.63        84\n",
            "   macro avg       0.25      0.22      0.23        84\n",
            "weighted avg       0.59      0.63      0.60        84\n",
            "\n",
            "\n",
            "Performing : LGBM\n",
            "best params: {'learning_rate': 0.1, 'n_estimators': 100}\n",
            "best scores: 0.972\n",
            "              precision    recall  f1-score   support\n",
            "\n",
            "           0       0.72      0.85      0.78        62\n",
            "           1       0.00      0.00      0.00         8\n",
            "           2       0.00      0.00      0.00         6\n",
            "           3       0.00      0.00      0.00         6\n",
            "           4       0.00      0.00      0.00         2\n",
            "\n",
            "    accuracy                           0.63        84\n",
            "   macro avg       0.14      0.17      0.16        84\n",
            "weighted avg       0.53      0.63      0.58        84\n",
            "\n",
            "\n",
            "Performing : XGB\n",
            "best params: {'gamma': 0.01, 'n_estimators': 200}\n",
            "best scores: 0.97\n",
            "              precision    recall  f1-score   support\n",
            "\n",
            "           0       0.73      0.74      0.74        62\n",
            "           1       0.14      0.12      0.13         8\n",
            "           2       0.25      0.17      0.20         6\n",
            "           3       0.00      0.00      0.00         6\n",
            "           4       0.00      0.00      0.00         2\n",
            "\n",
            "    accuracy                           0.57        84\n",
            "   macro avg       0.22      0.21      0.21        84\n",
            "weighted avg       0.57      0.57      0.57        84\n",
            "\n"
          ]
        },
        {
          "output_type": "execute_result",
          "data": {
            "text/html": [
              "<div>\n",
              "<style scoped>\n",
              "    .dataframe tbody tr th:only-of-type {\n",
              "        vertical-align: middle;\n",
              "    }\n",
              "\n",
              "    .dataframe tbody tr th {\n",
              "        vertical-align: top;\n",
              "    }\n",
              "\n",
              "    .dataframe thead th {\n",
              "        text-align: right;\n",
              "    }\n",
              "</style>\n",
              "<table border=\"1\" class=\"dataframe\">\n",
              "  <thead>\n",
              "    <tr style=\"text-align: right;\">\n",
              "      <th></th>\n",
              "      <th>Training Score</th>\n",
              "      <th>Accuracy</th>\n",
              "      <th>Recall</th>\n",
              "      <th>Precision</th>\n",
              "      <th>F1 score</th>\n",
              "    </tr>\n",
              "    <tr>\n",
              "      <th>Model</th>\n",
              "      <th></th>\n",
              "      <th></th>\n",
              "      <th></th>\n",
              "      <th></th>\n",
              "      <th></th>\n",
              "    </tr>\n",
              "  </thead>\n",
              "  <tbody>\n",
              "    <tr>\n",
              "      <th>LR</th>\n",
              "      <td>0.802</td>\n",
              "      <td>0.273810</td>\n",
              "      <td>0.274</td>\n",
              "      <td>0.592</td>\n",
              "      <td>0.327</td>\n",
              "    </tr>\n",
              "    <tr>\n",
              "      <th>SVC</th>\n",
              "      <td>0.987</td>\n",
              "      <td>0.738095</td>\n",
              "      <td>0.738</td>\n",
              "      <td>0.545</td>\n",
              "      <td>0.627</td>\n",
              "    </tr>\n",
              "    <tr>\n",
              "      <th>RF</th>\n",
              "      <td>0.984</td>\n",
              "      <td>0.738095</td>\n",
              "      <td>0.738</td>\n",
              "      <td>0.545</td>\n",
              "      <td>0.627</td>\n",
              "    </tr>\n",
              "    <tr>\n",
              "      <th>ADA</th>\n",
              "      <td>0.354</td>\n",
              "      <td>0.095238</td>\n",
              "      <td>0.095</td>\n",
              "      <td>0.382</td>\n",
              "      <td>0.086</td>\n",
              "    </tr>\n",
              "    <tr>\n",
              "      <th>ExTC</th>\n",
              "      <td>0.987</td>\n",
              "      <td>0.738095</td>\n",
              "      <td>0.738</td>\n",
              "      <td>0.545</td>\n",
              "      <td>0.627</td>\n",
              "    </tr>\n",
              "    <tr>\n",
              "      <th>KNN</th>\n",
              "      <td>0.945</td>\n",
              "      <td>0.630952</td>\n",
              "      <td>0.631</td>\n",
              "      <td>0.585</td>\n",
              "      <td>0.604</td>\n",
              "    </tr>\n",
              "    <tr>\n",
              "      <th>LGBM</th>\n",
              "      <td>0.972</td>\n",
              "      <td>0.630952</td>\n",
              "      <td>0.631</td>\n",
              "      <td>0.529</td>\n",
              "      <td>0.575</td>\n",
              "    </tr>\n",
              "    <tr>\n",
              "      <th>XGB</th>\n",
              "      <td>0.970</td>\n",
              "      <td>0.571429</td>\n",
              "      <td>0.571</td>\n",
              "      <td>0.570</td>\n",
              "      <td>0.570</td>\n",
              "    </tr>\n",
              "  </tbody>\n",
              "</table>\n",
              "</div>"
            ],
            "text/plain": [
              "       Training Score  Accuracy  Recall  Precision  F1 score\n",
              "Model                                                       \n",
              "LR              0.802  0.273810   0.274      0.592     0.327\n",
              "SVC             0.987  0.738095   0.738      0.545     0.627\n",
              "RF              0.984  0.738095   0.738      0.545     0.627\n",
              "ADA             0.354  0.095238   0.095      0.382     0.086\n",
              "ExTC            0.987  0.738095   0.738      0.545     0.627\n",
              "KNN             0.945  0.630952   0.631      0.585     0.604\n",
              "LGBM            0.972  0.630952   0.631      0.529     0.575\n",
              "XGB             0.970  0.571429   0.571      0.570     0.570"
            ]
          },
          "metadata": {},
          "execution_count": 58
        }
      ]
    },
    {
      "cell_type": "code",
      "metadata": {
        "id": "HLmgSb-99Jdr"
      },
      "source": [
        "X = train_data\n",
        "y = df_safety_org['Accident Level']\n",
        "\n",
        "X_train_NN, X_test_NN, y_train_NN, y_test_NN = train_test_split(X, y, test_size=0.2, random_state=10, stratify=y)"
      ],
      "execution_count": 138,
      "outputs": []
    },
    {
      "cell_type": "code",
      "metadata": {
        "id": "pOqdIrgJ946h"
      },
      "source": [
        "from tensorflow.keras.utils import to_categorical\n",
        "\n",
        "classes = y_train_NN.nunique()\n",
        "\n",
        "y_train_NN = to_categorical(y_train_NN, num_classes=classes)\n",
        "y_test_NN = to_categorical(y_test_NN, num_classes=classes)"
      ],
      "execution_count": 143,
      "outputs": []
    },
    {
      "cell_type": "code",
      "metadata": {
        "id": "JlQ9Huyb8eKj"
      },
      "source": [
        "from tensorflow.keras.models import Sequential\n",
        "from tensorflow.keras.layers import Dense, Dropout, Activation, BatchNormalization\n",
        "from tensorflow.keras.callbacks import EarlyStopping, ReduceLROnPlateau, ModelCheckpoint\n",
        "from tensorflow.keras.optimizers import SGD, Adam\n",
        "\n",
        "def getNN_model(X_train, y_train, X_test, y_test, trace):\n",
        "\n",
        "  es = EarlyStopping(monitor='val_loss', mode='min', patience=7, min_delta=1E-3)\n",
        "  mc = ModelCheckpoint('accident_model_NN.h5', monitor='val_accuracy', mode='max', save_best_only=True)\n",
        "  rlrp = ReduceLROnPlateau(monitor='val_loss', factor=0.0001, patience=5, min_delta=1E-4)\n",
        "\n",
        "  model = Sequential()\n",
        "\n",
        "  model.add(Dense(20, input_dim=X_train.shape[1], activation='relu', kernel_initializer='he_uniform'))\n",
        "  model.add(Dropout(0.2))\n",
        "  model.add(BatchNormalization())\n",
        "  model.add(Dense(15, activation='relu', kernel_initializer='he_uniform'))\n",
        "  model.add(BatchNormalization())\n",
        "  model.add(Dense(10, activation='relu', kernel_initializer='he_uniform'))\n",
        "  model.add(Dropout(0.5))\n",
        "  model.add(BatchNormalization())\n",
        "  model.add(Dense(classes, activation='softmax'))\n",
        "\n",
        "  opt = Adam(lr=0.001)\n",
        "  model.compile(loss='categorical_crossentropy', optimizer=opt, metrics=['accuracy'])\n",
        "\n",
        "  print(model.summary())\n",
        "  history = model.fit(X_train, y_train, epochs=100, batch_size=8, verbose=trace, validation_data=(X_test, y_test), callbacks=[ec, mc, rlrp])\n",
        "\n",
        "  train_score = model.evaluate(X_train, y_train, verbose=trace)\n",
        "  test_score = model.evaluate(X_test, y_test, verbose=trace)\n",
        "\n",
        "  plt.figure(figsize=(15,7))\n",
        "  plt.subplot(1,2,1)\n",
        "  plt.plot(history.history['loss'])\n",
        "  plt.plot(history.history['val_loss'])\n",
        "  plt.title('model loss')\n",
        "  plt.ylabel('loss')\n",
        "  plt.xlabel('epoch')\n",
        "  plt.legend(['train', 'test'], loc='upper left')\n",
        "\n",
        "  plt.subplot(1,2,2)\n",
        "  plt.plot(history.history['accuracy'])\n",
        "  plt.plot(history.history['val_accuracy'])\n",
        "  plt.title('model accuracy')\n",
        "  plt.ylabel('accuracy')\n",
        "  plt.xlabel('epoch')\n",
        "  plt.legend(['train', 'test'], loc='upper left')\n",
        "  \n",
        "  plt.show()\n",
        "\n",
        "  print('************ Summary ************')\n",
        "  print(f'Train data - Loss : {round(train_score[0],3)} , Accuracy : {round(train_score[1],3)}')\n",
        "  print(f'Test data - Loss : {round(test_score[0],3)} , Accuracy : {round(test_score[1],3)}')\n",
        "  y_pred = (np.asarray(model.predict(X_test))).round()\n",
        "  model_recall = round((metrics.recall_score(y_test, y_pred, average='weighted')), 3)\n",
        "  print(f'Recall : {model_recall}')\n",
        "  model_precision = round((metrics.precision_score(y_test, y_pred, average='weighted')), 3)\n",
        "  print(f'Precision : {model_precision}')\n",
        "  model_f1score = round((metrics.f1_score(y_test, y_pred, average='weighted')),3)\n",
        "  print(f'F1 score : {model_f1score}')\n",
        "\n",
        "  return model\n"
      ],
      "execution_count": 145,
      "outputs": []
    },
    {
      "cell_type": "code",
      "metadata": {
        "colab": {
          "base_uri": "https://localhost:8080/",
          "height": 1000
        },
        "id": "W4iz0ovSIYLB",
        "outputId": "c8f4c798-ec61-44d5-aa97-f4d9b761aeac"
      },
      "source": [
        "getNN_model(X_train_NN, y_train_NN, X_test_NN, y_test_NN, False)"
      ],
      "execution_count": 146,
      "outputs": [
        {
          "output_type": "stream",
          "name": "stdout",
          "text": [
            "Model: \"sequential_26\"\n",
            "_________________________________________________________________\n",
            " Layer (type)                Output Shape              Param #   \n",
            "=================================================================\n",
            " dense_69 (Dense)            (None, 20)                2020      \n",
            "                                                                 \n",
            " dropout_46 (Dropout)        (None, 20)                0         \n",
            "                                                                 \n",
            " batch_normalization_46 (Bat  (None, 20)               80        \n",
            " chNormalization)                                                \n",
            "                                                                 \n",
            " dense_70 (Dense)            (None, 15)                315       \n",
            "                                                                 \n",
            " batch_normalization_47 (Bat  (None, 15)               60        \n",
            " chNormalization)                                                \n",
            "                                                                 \n",
            " dense_71 (Dense)            (None, 10)                160       \n",
            "                                                                 \n",
            " dropout_47 (Dropout)        (None, 10)                0         \n",
            "                                                                 \n",
            " batch_normalization_48 (Bat  (None, 10)               40        \n",
            " chNormalization)                                                \n",
            "                                                                 \n",
            " dense_72 (Dense)            (None, 5)                 55        \n",
            "                                                                 \n",
            "=================================================================\n",
            "Total params: 2,730\n",
            "Trainable params: 2,640\n",
            "Non-trainable params: 90\n",
            "_________________________________________________________________\n",
            "None\n"
          ]
        },
        {
          "output_type": "display_data",
          "data": {
            "image/png": "[encoded data removed]",
            "text/plain": [
              "<Figure size 1080x504 with 2 Axes>"
            ]
          },
          "metadata": {
            "needs_background": "light"
          }
        },
        {
          "output_type": "stream",
          "name": "stdout",
          "text": [
            "************ Summary ************\n",
            "Train data - Loss : 0.903 , Accuracy : 0.74\n",
            "Test data - Loss : 0.931 , Accuracy : 0.738\n",
            "Recall : 0.738\n",
            "Precision : 0.545\n",
            "F1 score : 0.627\n"
          ]
        }
      ]
    },
    {
      "cell_type": "code",
      "metadata": {
        "id": "fhn2o2viQMX7"
      },
      "source": [
        ""
      ],
      "execution_count": null,
      "outputs": []
    }
  ]
}