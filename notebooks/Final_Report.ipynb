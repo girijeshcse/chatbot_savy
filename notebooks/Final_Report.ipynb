{
  "cells": [
    {
      "cell_type": "markdown",
      "metadata": {
        "id": "view-in-github",
        "colab_type": "text"
      },
      "source": [
        "<a href=\"https://colab.research.google.com/github/girijeshcse/chatbot_savy/blob/main/notebooks/Final_Report.ipynb\" target=\"_parent\"><img src=\"https://colab.research.google.com/assets/colab-badge.svg\" alt=\"Open In Colab\"/></a>"
      ]
    },
    {
      "cell_type": "markdown",
      "metadata": {
        "id": "HXLhjuJ7bnNC"
      },
      "source": [
        "# **Summary of problem statement, data and findings**"
      ]
    },
    {
      "cell_type": "markdown",
      "metadata": {
        "id": "DzToqTZfQTvj"
      },
      "source": [
        "## **Abstract**"
      ]
    },
    {
      "cell_type": "markdown",
      "metadata": {
        "id": "ut0pROIxQXnB"
      },
      "source": [
        "Industrial accidents have been critical for the past several decades. It is an urgent need for industries/companies around the globe to understand why employees still suffer some injuries/accidents in plants. But after analysing the data there is a potential gap in accessing the safety risk measures.\n",
        "\n",
        "By analysing the provided dataset, we aim to:\n",
        "\n",
        "\n",
        "1.   Bridge the existing gap in the risk assessment \n",
        "2.   Find the hidden patterns in the dataset to get insights into accidental incidents \n",
        "3. Predict the real-time accident severity, given the accident description. So that appropriate measure can be taken\n",
        "\n"
      ]
    },
    {
      "cell_type": "markdown",
      "metadata": {
        "id": "ZH8_x7NvQbQH"
      },
      "source": [
        "## **Data**\n",
        "\n",
        "This The database is basically records of accidents from 12 different plants in 03 different countries which every line in the data is an\n",
        "occurrence of an accident.\n",
        "\n",
        "**Columns description:**\n",
        "1.   **Data:** timestamp or time/date information\n",
        "2.   **Countries:** which country the accident occurred (anonymised)\n",
        "3.   **Local:** the city where the manufacturing plant is located (anonymised)\n",
        "4. **Industry sector:** which sector the plant belongs to\n",
        "5. **Accident level:** from I to VI, it registers how severe was the accident (I means not severe but VI means very severe)\n",
        "6. **Potential Accident Level:** Depending on the Accident Level, the database also registers how severe the accident could have been (due to other factors\n",
        "involved in the accident)\n",
        "7. **Gender:** if the person is male of female\n",
        "8. **Employee or Third Party:** if the injured person is an employee or a third party\n",
        "9. **Critical Risk:** some description of the risk involved in the accident\n",
        "10. **Description:** Detailed description of how the accident happened.\n",
        "\n",
        "**Link to download the dataset:** https://drive.google.com/file/d/1_GmrRP1S2OIa02KlfOBNkYa8uxazGbfE/view?usp=sharing\n",
        "\n",
        "**Original dataset link:** https://www.kaggle.com/ihmstefanini/industrial-safety-and-health-analytics-database\n"
      ]
    },
    {
      "cell_type": "markdown",
      "metadata": {
        "id": "V6ZymbWEQd9r"
      },
      "source": [
        "## **Findings**\n",
        "\n",
        "\n",
        "*  There is an extra column **Unnamed: 0** which is not needed\n",
        "*   There are a total of **425** records and there is huge imbalance in target distribution:\n",
        " -  Without handling target imbalance model performance would be **very poor**\n",
        "  -  Though there is target imbalance the quality of the data is **good**\n",
        "  -  **No null** values in the dataset\n",
        "  \n",
        "* Some of the columns **Data**, and **Genre** are not properly named. But they are close enough to understand what they mean!\n",
        "\n"
      ]
    },
    {
      "cell_type": "code",
      "execution_count": 1,
      "metadata": {
        "id": "atFCdAFdxNuk"
      },
      "outputs": [],
      "source": [
        "import pandas as pd\n",
        "import numpy as np\n",
        "from google.colab import drive\n",
        "\n",
        "import warnings\n",
        "warnings.filterwarnings(\"ignore\")\n",
        "\n",
        "import seaborn as sns\n",
        "import matplotlib.pyplot as plt\n",
        "\n",
        "from nltk.corpus import stopwords\n",
        "import nltk\n",
        "from nltk.stem import WordNetLemmatizer\n",
        "import re, string\n",
        "\n",
        "from tensorflow.keras.preprocessing.text import Tokenizer\n",
        "from keras.preprocessing.sequence import pad_sequences\n",
        "from tensorflow.keras.layers import Dense, Dropout,LSTM,Embedding, Bidirectional, Flatten, Activation, TimeDistributed\n",
        "from tensorflow.keras.callbacks import ModelCheckpoint, EarlyStopping\n",
        "from tensorflow.keras import Input, Model\n",
        "\n",
        "from sklearn.metrics import accuracy_score, classification_report\n",
        "from sklearn.model_selection import train_test_split\n",
        "from sklearn.preprocessing import LabelEncoder\n",
        "from sklearn.svm import SVC\n",
        "from sklearn.ensemble import RandomForestClassifier, AdaBoostClassifier, ExtraTreesClassifier\n",
        "from sklearn.neighbors import KNeighborsClassifier\n",
        "from sklearn.linear_model import LogisticRegression\n",
        "from lightgbm import LGBMClassifier\n",
        "from xgboost import XGBClassifier\n",
        "from sklearn.model_selection import GridSearchCV\n",
        "from sklearn import metrics\n",
        "\n",
        "from sklearn.utils import resample\n",
        "import pickle\n",
        "import os"
      ]
    },
    {
      "cell_type": "code",
      "execution_count": 2,
      "metadata": {
        "colab": {
          "base_uri": "https://localhost:8080/"
        },
        "id": "HqnqEiynzgvx",
        "outputId": "5a7b8756-7383-409e-8874-5d0d3001c5a4"
      },
      "outputs": [
        {
          "output_type": "stream",
          "name": "stdout",
          "text": [
            "Mounted at /content/gdrive/\n"
          ]
        }
      ],
      "source": [
        "drive.mount('/content/gdrive/')\n",
        "parent_dir = '/content/gdrive/MyDrive/Colab Notebooks/Capstone/'"
      ]
    },
    {
      "cell_type": "code",
      "execution_count": 3,
      "metadata": {
        "id": "vs-UCU4DR07I"
      },
      "outputs": [],
      "source": [
        "seed = 7"
      ]
    },
    {
      "cell_type": "code",
      "execution_count": 4,
      "metadata": {
        "id": "k3s6gjtwzztn"
      },
      "outputs": [],
      "source": [
        "data = pd.read_csv(parent_dir+'Data Set - industrial_safety_and_health_database_with_accidents_description.csv')"
      ]
    },
    {
      "cell_type": "code",
      "execution_count": 5,
      "metadata": {
        "colab": {
          "base_uri": "https://localhost:8080/",
          "height": 597
        },
        "id": "gcrUeLX80kMh",
        "outputId": "8df3d2e8-8502-4a3a-df8d-6fdbad2d9f97"
      },
      "outputs": [
        {
          "output_type": "execute_result",
          "data": {
            "text/html": [
              "\n",
              "  <div id=\"df-6707beee-3e5c-452c-ab24-a0c6a9e6e7f2\">\n",
              "    <div class=\"colab-df-container\">\n",
              "      <div>\n",
              "<style scoped>\n",
              "    .dataframe tbody tr th:only-of-type {\n",
              "        vertical-align: middle;\n",
              "    }\n",
              "\n",
              "    .dataframe tbody tr th {\n",
              "        vertical-align: top;\n",
              "    }\n",
              "\n",
              "    .dataframe thead th {\n",
              "        text-align: right;\n",
              "    }\n",
              "</style>\n",
              "<table border=\"1\" class=\"dataframe\">\n",
              "  <thead>\n",
              "    <tr style=\"text-align: right;\">\n",
              "      <th></th>\n",
              "      <th>Unnamed: 0</th>\n",
              "      <th>Data</th>\n",
              "      <th>Countries</th>\n",
              "      <th>Local</th>\n",
              "      <th>Industry Sector</th>\n",
              "      <th>Accident Level</th>\n",
              "      <th>Potential Accident Level</th>\n",
              "      <th>Genre</th>\n",
              "      <th>Employee or Third Party</th>\n",
              "      <th>Critical Risk</th>\n",
              "      <th>Description</th>\n",
              "    </tr>\n",
              "  </thead>\n",
              "  <tbody>\n",
              "    <tr>\n",
              "      <th>0</th>\n",
              "      <td>0</td>\n",
              "      <td>2016-01-01 00:00:00</td>\n",
              "      <td>Country_01</td>\n",
              "      <td>Local_01</td>\n",
              "      <td>Mining</td>\n",
              "      <td>I</td>\n",
              "      <td>IV</td>\n",
              "      <td>Male</td>\n",
              "      <td>Third Party</td>\n",
              "      <td>Pressed</td>\n",
              "      <td>While removing the drill rod of the Jumbo 08 f...</td>\n",
              "    </tr>\n",
              "    <tr>\n",
              "      <th>1</th>\n",
              "      <td>1</td>\n",
              "      <td>2016-01-02 00:00:00</td>\n",
              "      <td>Country_02</td>\n",
              "      <td>Local_02</td>\n",
              "      <td>Mining</td>\n",
              "      <td>I</td>\n",
              "      <td>IV</td>\n",
              "      <td>Male</td>\n",
              "      <td>Employee</td>\n",
              "      <td>Pressurized Systems</td>\n",
              "      <td>During the activation of a sodium sulphide pum...</td>\n",
              "    </tr>\n",
              "    <tr>\n",
              "      <th>2</th>\n",
              "      <td>2</td>\n",
              "      <td>2016-01-06 00:00:00</td>\n",
              "      <td>Country_01</td>\n",
              "      <td>Local_03</td>\n",
              "      <td>Mining</td>\n",
              "      <td>I</td>\n",
              "      <td>III</td>\n",
              "      <td>Male</td>\n",
              "      <td>Third Party (Remote)</td>\n",
              "      <td>Manual Tools</td>\n",
              "      <td>In the sub-station MILPO located at level +170...</td>\n",
              "    </tr>\n",
              "    <tr>\n",
              "      <th>3</th>\n",
              "      <td>3</td>\n",
              "      <td>2016-01-08 00:00:00</td>\n",
              "      <td>Country_01</td>\n",
              "      <td>Local_04</td>\n",
              "      <td>Mining</td>\n",
              "      <td>I</td>\n",
              "      <td>I</td>\n",
              "      <td>Male</td>\n",
              "      <td>Third Party</td>\n",
              "      <td>Others</td>\n",
              "      <td>Being 9:45 am. approximately in the Nv. 1880 C...</td>\n",
              "    </tr>\n",
              "    <tr>\n",
              "      <th>4</th>\n",
              "      <td>4</td>\n",
              "      <td>2016-01-10 00:00:00</td>\n",
              "      <td>Country_01</td>\n",
              "      <td>Local_04</td>\n",
              "      <td>Mining</td>\n",
              "      <td>IV</td>\n",
              "      <td>IV</td>\n",
              "      <td>Male</td>\n",
              "      <td>Third Party</td>\n",
              "      <td>Others</td>\n",
              "      <td>Approximately at 11:45 a.m. in circumstances t...</td>\n",
              "    </tr>\n",
              "    <tr>\n",
              "      <th>5</th>\n",
              "      <td>5</td>\n",
              "      <td>2016-01-12 00:00:00</td>\n",
              "      <td>Country_02</td>\n",
              "      <td>Local_05</td>\n",
              "      <td>Metals</td>\n",
              "      <td>I</td>\n",
              "      <td>III</td>\n",
              "      <td>Male</td>\n",
              "      <td>Third Party (Remote)</td>\n",
              "      <td>Pressurized Systems</td>\n",
              "      <td>During the unloading operation of the ustulado...</td>\n",
              "    </tr>\n",
              "    <tr>\n",
              "      <th>6</th>\n",
              "      <td>6</td>\n",
              "      <td>2016-01-16 00:00:00</td>\n",
              "      <td>Country_02</td>\n",
              "      <td>Local_05</td>\n",
              "      <td>Metals</td>\n",
              "      <td>I</td>\n",
              "      <td>III</td>\n",
              "      <td>Male</td>\n",
              "      <td>Employee</td>\n",
              "      <td>Fall prevention (same level)</td>\n",
              "      <td>The collaborator reports that he was on street...</td>\n",
              "    </tr>\n",
              "    <tr>\n",
              "      <th>7</th>\n",
              "      <td>7</td>\n",
              "      <td>2016-01-17 00:00:00</td>\n",
              "      <td>Country_01</td>\n",
              "      <td>Local_04</td>\n",
              "      <td>Mining</td>\n",
              "      <td>I</td>\n",
              "      <td>III</td>\n",
              "      <td>Male</td>\n",
              "      <td>Third Party</td>\n",
              "      <td>Pressed</td>\n",
              "      <td>At approximately 04:50 p.m., when the mechanic...</td>\n",
              "    </tr>\n",
              "    <tr>\n",
              "      <th>8</th>\n",
              "      <td>8</td>\n",
              "      <td>2016-01-19 00:00:00</td>\n",
              "      <td>Country_02</td>\n",
              "      <td>Local_02</td>\n",
              "      <td>Mining</td>\n",
              "      <td>I</td>\n",
              "      <td>IV</td>\n",
              "      <td>Male</td>\n",
              "      <td>Third Party (Remote)</td>\n",
              "      <td>Others</td>\n",
              "      <td>Employee was sitting in the resting area at le...</td>\n",
              "    </tr>\n",
              "    <tr>\n",
              "      <th>9</th>\n",
              "      <td>9</td>\n",
              "      <td>2016-01-26 00:00:00</td>\n",
              "      <td>Country_01</td>\n",
              "      <td>Local_06</td>\n",
              "      <td>Metals</td>\n",
              "      <td>I</td>\n",
              "      <td>II</td>\n",
              "      <td>Male</td>\n",
              "      <td>Third Party</td>\n",
              "      <td>Chemical substances</td>\n",
              "      <td>At the moment the forklift operator went to ma...</td>\n",
              "    </tr>\n",
              "  </tbody>\n",
              "</table>\n",
              "</div>\n",
              "      <button class=\"colab-df-convert\" onclick=\"convertToInteractive('df-6707beee-3e5c-452c-ab24-a0c6a9e6e7f2')\"\n",
              "              title=\"Convert this dataframe to an interactive table.\"\n",
              "              style=\"display:none;\">\n",
              "        \n",
              "  <svg xmlns=\"http://www.w3.org/2000/svg\" height=\"24px\"viewBox=\"0 0 24 24\"\n",
              "       width=\"24px\">\n",
              "    <path d=\"M0 0h24v24H0V0z\" fill=\"none\"/>\n",
              "    <path d=\"M18.56 5.44l.94 2.06.94-2.06 2.06-.94-2.06-.94-.94-2.06-.94 2.06-2.06.94zm-11 1L8.5 8.5l.94-2.06 2.06-.94-2.06-.94L8.5 2.5l-.94 2.06-2.06.94zm10 10l.94 2.06.94-2.06 2.06-.94-2.06-.94-.94-2.06-.94 2.06-2.06.94z\"/><path d=\"M17.41 7.96l-1.37-1.37c-.4-.4-.92-.59-1.43-.59-.52 0-1.04.2-1.43.59L10.3 9.45l-7.72 7.72c-.78.78-.78 2.05 0 2.83L4 21.41c.39.39.9.59 1.41.59.51 0 1.02-.2 1.41-.59l7.78-7.78 2.81-2.81c.8-.78.8-2.07 0-2.86zM5.41 20L4 18.59l7.72-7.72 1.47 1.35L5.41 20z\"/>\n",
              "  </svg>\n",
              "      </button>\n",
              "      \n",
              "  <style>\n",
              "    .colab-df-container {\n",
              "      display:flex;\n",
              "      flex-wrap:wrap;\n",
              "      gap: 12px;\n",
              "    }\n",
              "\n",
              "    .colab-df-convert {\n",
              "      background-color: #E8F0FE;\n",
              "      border: none;\n",
              "      border-radius: 50%;\n",
              "      cursor: pointer;\n",
              "      display: none;\n",
              "      fill: #1967D2;\n",
              "      height: 32px;\n",
              "      padding: 0 0 0 0;\n",
              "      width: 32px;\n",
              "    }\n",
              "\n",
              "    .colab-df-convert:hover {\n",
              "      background-color: #E2EBFA;\n",
              "      box-shadow: 0px 1px 2px rgba(60, 64, 67, 0.3), 0px 1px 3px 1px rgba(60, 64, 67, 0.15);\n",
              "      fill: #174EA6;\n",
              "    }\n",
              "\n",
              "    [theme=dark] .colab-df-convert {\n",
              "      background-color: #3B4455;\n",
              "      fill: #D2E3FC;\n",
              "    }\n",
              "\n",
              "    [theme=dark] .colab-df-convert:hover {\n",
              "      background-color: #434B5C;\n",
              "      box-shadow: 0px 1px 3px 1px rgba(0, 0, 0, 0.15);\n",
              "      filter: drop-shadow(0px 1px 2px rgba(0, 0, 0, 0.3));\n",
              "      fill: #FFFFFF;\n",
              "    }\n",
              "  </style>\n",
              "\n",
              "      <script>\n",
              "        const buttonEl =\n",
              "          document.querySelector('#df-6707beee-3e5c-452c-ab24-a0c6a9e6e7f2 button.colab-df-convert');\n",
              "        buttonEl.style.display =\n",
              "          google.colab.kernel.accessAllowed ? 'block' : 'none';\n",
              "\n",
              "        async function convertToInteractive(key) {\n",
              "          const element = document.querySelector('#df-6707beee-3e5c-452c-ab24-a0c6a9e6e7f2');\n",
              "          const dataTable =\n",
              "            await google.colab.kernel.invokeFunction('convertToInteractive',\n",
              "                                                     [key], {});\n",
              "          if (!dataTable) return;\n",
              "\n",
              "          const docLinkHtml = 'Like what you see? Visit the ' +\n",
              "            '<a target=\"_blank\" href=https://colab.research.google.com/notebooks/data_table.ipynb>data table notebook</a>'\n",
              "            + ' to learn more about interactive tables.';\n",
              "          element.innerHTML = '';\n",
              "          dataTable['output_type'] = 'display_data';\n",
              "          await google.colab.output.renderOutput(dataTable, element);\n",
              "          const docLink = document.createElement('div');\n",
              "          docLink.innerHTML = docLinkHtml;\n",
              "          element.appendChild(docLink);\n",
              "        }\n",
              "      </script>\n",
              "    </div>\n",
              "  </div>\n",
              "  "
            ],
            "text/plain": [
              "   Unnamed: 0  ...                                        Description\n",
              "0           0  ...  While removing the drill rod of the Jumbo 08 f...\n",
              "1           1  ...  During the activation of a sodium sulphide pum...\n",
              "2           2  ...  In the sub-station MILPO located at level +170...\n",
              "3           3  ...  Being 9:45 am. approximately in the Nv. 1880 C...\n",
              "4           4  ...  Approximately at 11:45 a.m. in circumstances t...\n",
              "5           5  ...  During the unloading operation of the ustulado...\n",
              "6           6  ...  The collaborator reports that he was on street...\n",
              "7           7  ...  At approximately 04:50 p.m., when the mechanic...\n",
              "8           8  ...  Employee was sitting in the resting area at le...\n",
              "9           9  ...  At the moment the forklift operator went to ma...\n",
              "\n",
              "[10 rows x 11 columns]"
            ]
          },
          "metadata": {},
          "execution_count": 5
        }
      ],
      "source": [
        "data.head(10)"
      ]
    },
    {
      "cell_type": "code",
      "execution_count": 6,
      "metadata": {
        "colab": {
          "base_uri": "https://localhost:8080/"
        },
        "id": "bepwUBPO0FJx",
        "outputId": "82775ae3-8d1c-41df-992b-523489b015ee"
      },
      "outputs": [
        {
          "output_type": "stream",
          "name": "stdout",
          "text": [
            "<class 'pandas.core.frame.DataFrame'>\n",
            "RangeIndex: 425 entries, 0 to 424\n",
            "Data columns (total 11 columns):\n",
            " #   Column                    Non-Null Count  Dtype \n",
            "---  ------                    --------------  ----- \n",
            " 0   Unnamed: 0                425 non-null    int64 \n",
            " 1   Data                      425 non-null    object\n",
            " 2   Countries                 425 non-null    object\n",
            " 3   Local                     425 non-null    object\n",
            " 4   Industry Sector           425 non-null    object\n",
            " 5   Accident Level            425 non-null    object\n",
            " 6   Potential Accident Level  425 non-null    object\n",
            " 7   Genre                     425 non-null    object\n",
            " 8   Employee or Third Party   425 non-null    object\n",
            " 9   Critical Risk             425 non-null    object\n",
            " 10  Description               425 non-null    object\n",
            "dtypes: int64(1), object(10)\n",
            "memory usage: 36.6+ KB\n"
          ]
        }
      ],
      "source": [
        "data.info()"
      ]
    },
    {
      "cell_type": "markdown",
      "metadata": {
        "id": "vU_nxD7j0HcO"
      },
      "source": [
        "From the above info, we can see that there are no null values in the data set.\n",
        "\n",
        "- From the above data, we can see that the first column **Unnamed: 0** is merely an index, which we don't need and we can drop it.\n",
        "\n",
        "- **Data** column is actually the **Date**, which is not needed for building our **NLP model** but we can see if we need this for any **EDA**, later we can drop it.\n",
        "\n",
        "- **Countries** column can be used for doing some **EDA** to see how many accidents happen in a particular country and if some countries have more safety risk compared to others.\n",
        "\n",
        "- **Local** column can also be used for some **EDA** to identify which cities are more accident prone, will drop it later before model training.\n",
        "\n",
        "- **Industry Sector** can also be used for **EDA** to identify industries which have more safety risks.\n",
        "\n",
        "- **Accident Level** is our target column which we need to be able to predict based on accident description.\n",
        "\n",
        "- **Potential Accident Level** just indicates what could have been the severity of the accident.\n",
        "\n",
        "- **Genre** is basically **Gender**, we will use this column also for **EDA** to see distribution among male/female but won't be needed to train our model.\n",
        "\n",
        "- **Employee or Third Party** column can also be used for some **EDA** but not needed for model training.\n",
        "\n",
        "- **Critical Risk** basically identifies the area/component where accident has happened.\n",
        "\n",
        "- **Description** basically is the textual information about the accident which we will be using to predict the accident level. We will cleanse and convert this text into vectors which will then be passed to our models for training/testing."
      ]
    },
    {
      "cell_type": "markdown",
      "metadata": {
        "id": "eqws2tpFQs4I"
      },
      "source": [
        "## **EDA Approach**"
      ]
    },
    {
      "cell_type": "markdown",
      "metadata": {
        "id": "uCrBl7S3RVuc"
      },
      "source": [
        "We will look at the distribution of data for each column and how they are related, and gain some insights by data **visualizations** and **analysis**. And find some hidden pattern out of it\n",
        "\n"
      ]
    },
    {
      "cell_type": "code",
      "execution_count": 7,
      "metadata": {
        "colab": {
          "base_uri": "https://localhost:8080/",
          "height": 456
        },
        "id": "_6wBgvqo5Uao",
        "outputId": "c8d9de61-7cc7-4874-dca3-2ac1bb26630f"
      },
      "outputs": [
        {
          "output_type": "execute_result",
          "data": {
            "text/html": [
              "\n",
              "  <div id=\"df-0648869b-04e5-43fb-b0a3-8decf90f3230\">\n",
              "    <div class=\"colab-df-container\">\n",
              "      <div>\n",
              "<style scoped>\n",
              "    .dataframe tbody tr th:only-of-type {\n",
              "        vertical-align: middle;\n",
              "    }\n",
              "\n",
              "    .dataframe tbody tr th {\n",
              "        vertical-align: top;\n",
              "    }\n",
              "\n",
              "    .dataframe thead th {\n",
              "        text-align: right;\n",
              "    }\n",
              "</style>\n",
              "<table border=\"1\" class=\"dataframe\">\n",
              "  <thead>\n",
              "    <tr style=\"text-align: right;\">\n",
              "      <th></th>\n",
              "      <th></th>\n",
              "      <th>Unnamed: 0</th>\n",
              "      <th>Data</th>\n",
              "      <th>Industry Sector</th>\n",
              "      <th>Accident Level</th>\n",
              "      <th>Potential Accident Level</th>\n",
              "      <th>Genre</th>\n",
              "      <th>Employee or Third Party</th>\n",
              "      <th>Critical Risk</th>\n",
              "      <th>Description</th>\n",
              "    </tr>\n",
              "    <tr>\n",
              "      <th>Countries</th>\n",
              "      <th>Local</th>\n",
              "      <th></th>\n",
              "      <th></th>\n",
              "      <th></th>\n",
              "      <th></th>\n",
              "      <th></th>\n",
              "      <th></th>\n",
              "      <th></th>\n",
              "      <th></th>\n",
              "      <th></th>\n",
              "    </tr>\n",
              "  </thead>\n",
              "  <tbody>\n",
              "    <tr>\n",
              "      <th>Country_03</th>\n",
              "      <th>Local_10</th>\n",
              "      <td>44</td>\n",
              "      <td>44</td>\n",
              "      <td>44</td>\n",
              "      <td>44</td>\n",
              "      <td>44</td>\n",
              "      <td>44</td>\n",
              "      <td>44</td>\n",
              "      <td>44</td>\n",
              "      <td>44</td>\n",
              "    </tr>\n",
              "    <tr>\n",
              "      <th rowspan=\"6\" valign=\"top\">Country_02</th>\n",
              "      <th>Local_05</th>\n",
              "      <td>59</td>\n",
              "      <td>59</td>\n",
              "      <td>59</td>\n",
              "      <td>59</td>\n",
              "      <td>59</td>\n",
              "      <td>59</td>\n",
              "      <td>59</td>\n",
              "      <td>59</td>\n",
              "      <td>59</td>\n",
              "    </tr>\n",
              "    <tr>\n",
              "      <th>Local_08</th>\n",
              "      <td>27</td>\n",
              "      <td>27</td>\n",
              "      <td>27</td>\n",
              "      <td>27</td>\n",
              "      <td>27</td>\n",
              "      <td>27</td>\n",
              "      <td>27</td>\n",
              "      <td>27</td>\n",
              "      <td>27</td>\n",
              "    </tr>\n",
              "    <tr>\n",
              "      <th>Local_02</th>\n",
              "      <td>24</td>\n",
              "      <td>24</td>\n",
              "      <td>24</td>\n",
              "      <td>24</td>\n",
              "      <td>24</td>\n",
              "      <td>24</td>\n",
              "      <td>24</td>\n",
              "      <td>24</td>\n",
              "      <td>24</td>\n",
              "    </tr>\n",
              "    <tr>\n",
              "      <th>Local_07</th>\n",
              "      <td>14</td>\n",
              "      <td>14</td>\n",
              "      <td>14</td>\n",
              "      <td>14</td>\n",
              "      <td>14</td>\n",
              "      <td>14</td>\n",
              "      <td>14</td>\n",
              "      <td>14</td>\n",
              "      <td>14</td>\n",
              "    </tr>\n",
              "    <tr>\n",
              "      <th>Local_12</th>\n",
              "      <td>4</td>\n",
              "      <td>4</td>\n",
              "      <td>4</td>\n",
              "      <td>4</td>\n",
              "      <td>4</td>\n",
              "      <td>4</td>\n",
              "      <td>4</td>\n",
              "      <td>4</td>\n",
              "      <td>4</td>\n",
              "    </tr>\n",
              "    <tr>\n",
              "      <th>Local_09</th>\n",
              "      <td>2</td>\n",
              "      <td>2</td>\n",
              "      <td>2</td>\n",
              "      <td>2</td>\n",
              "      <td>2</td>\n",
              "      <td>2</td>\n",
              "      <td>2</td>\n",
              "      <td>2</td>\n",
              "      <td>2</td>\n",
              "    </tr>\n",
              "    <tr>\n",
              "      <th rowspan=\"5\" valign=\"top\">Country_01</th>\n",
              "      <th>Local_03</th>\n",
              "      <td>90</td>\n",
              "      <td>90</td>\n",
              "      <td>90</td>\n",
              "      <td>90</td>\n",
              "      <td>90</td>\n",
              "      <td>90</td>\n",
              "      <td>90</td>\n",
              "      <td>90</td>\n",
              "      <td>90</td>\n",
              "    </tr>\n",
              "    <tr>\n",
              "      <th>Local_01</th>\n",
              "      <td>57</td>\n",
              "      <td>57</td>\n",
              "      <td>57</td>\n",
              "      <td>57</td>\n",
              "      <td>57</td>\n",
              "      <td>57</td>\n",
              "      <td>57</td>\n",
              "      <td>57</td>\n",
              "      <td>57</td>\n",
              "    </tr>\n",
              "    <tr>\n",
              "      <th>Local_04</th>\n",
              "      <td>56</td>\n",
              "      <td>56</td>\n",
              "      <td>56</td>\n",
              "      <td>56</td>\n",
              "      <td>56</td>\n",
              "      <td>56</td>\n",
              "      <td>56</td>\n",
              "      <td>56</td>\n",
              "      <td>56</td>\n",
              "    </tr>\n",
              "    <tr>\n",
              "      <th>Local_06</th>\n",
              "      <td>46</td>\n",
              "      <td>46</td>\n",
              "      <td>46</td>\n",
              "      <td>46</td>\n",
              "      <td>46</td>\n",
              "      <td>46</td>\n",
              "      <td>46</td>\n",
              "      <td>46</td>\n",
              "      <td>46</td>\n",
              "    </tr>\n",
              "    <tr>\n",
              "      <th>Local_11</th>\n",
              "      <td>2</td>\n",
              "      <td>2</td>\n",
              "      <td>2</td>\n",
              "      <td>2</td>\n",
              "      <td>2</td>\n",
              "      <td>2</td>\n",
              "      <td>2</td>\n",
              "      <td>2</td>\n",
              "      <td>2</td>\n",
              "    </tr>\n",
              "  </tbody>\n",
              "</table>\n",
              "</div>\n",
              "      <button class=\"colab-df-convert\" onclick=\"convertToInteractive('df-0648869b-04e5-43fb-b0a3-8decf90f3230')\"\n",
              "              title=\"Convert this dataframe to an interactive table.\"\n",
              "              style=\"display:none;\">\n",
              "        \n",
              "  <svg xmlns=\"http://www.w3.org/2000/svg\" height=\"24px\"viewBox=\"0 0 24 24\"\n",
              "       width=\"24px\">\n",
              "    <path d=\"M0 0h24v24H0V0z\" fill=\"none\"/>\n",
              "    <path d=\"M18.56 5.44l.94 2.06.94-2.06 2.06-.94-2.06-.94-.94-2.06-.94 2.06-2.06.94zm-11 1L8.5 8.5l.94-2.06 2.06-.94-2.06-.94L8.5 2.5l-.94 2.06-2.06.94zm10 10l.94 2.06.94-2.06 2.06-.94-2.06-.94-.94-2.06-.94 2.06-2.06.94z\"/><path d=\"M17.41 7.96l-1.37-1.37c-.4-.4-.92-.59-1.43-.59-.52 0-1.04.2-1.43.59L10.3 9.45l-7.72 7.72c-.78.78-.78 2.05 0 2.83L4 21.41c.39.39.9.59 1.41.59.51 0 1.02-.2 1.41-.59l7.78-7.78 2.81-2.81c.8-.78.8-2.07 0-2.86zM5.41 20L4 18.59l7.72-7.72 1.47 1.35L5.41 20z\"/>\n",
              "  </svg>\n",
              "      </button>\n",
              "      \n",
              "  <style>\n",
              "    .colab-df-container {\n",
              "      display:flex;\n",
              "      flex-wrap:wrap;\n",
              "      gap: 12px;\n",
              "    }\n",
              "\n",
              "    .colab-df-convert {\n",
              "      background-color: #E8F0FE;\n",
              "      border: none;\n",
              "      border-radius: 50%;\n",
              "      cursor: pointer;\n",
              "      display: none;\n",
              "      fill: #1967D2;\n",
              "      height: 32px;\n",
              "      padding: 0 0 0 0;\n",
              "      width: 32px;\n",
              "    }\n",
              "\n",
              "    .colab-df-convert:hover {\n",
              "      background-color: #E2EBFA;\n",
              "      box-shadow: 0px 1px 2px rgba(60, 64, 67, 0.3), 0px 1px 3px 1px rgba(60, 64, 67, 0.15);\n",
              "      fill: #174EA6;\n",
              "    }\n",
              "\n",
              "    [theme=dark] .colab-df-convert {\n",
              "      background-color: #3B4455;\n",
              "      fill: #D2E3FC;\n",
              "    }\n",
              "\n",
              "    [theme=dark] .colab-df-convert:hover {\n",
              "      background-color: #434B5C;\n",
              "      box-shadow: 0px 1px 3px 1px rgba(0, 0, 0, 0.15);\n",
              "      filter: drop-shadow(0px 1px 2px rgba(0, 0, 0, 0.3));\n",
              "      fill: #FFFFFF;\n",
              "    }\n",
              "  </style>\n",
              "\n",
              "      <script>\n",
              "        const buttonEl =\n",
              "          document.querySelector('#df-0648869b-04e5-43fb-b0a3-8decf90f3230 button.colab-df-convert');\n",
              "        buttonEl.style.display =\n",
              "          google.colab.kernel.accessAllowed ? 'block' : 'none';\n",
              "\n",
              "        async function convertToInteractive(key) {\n",
              "          const element = document.querySelector('#df-0648869b-04e5-43fb-b0a3-8decf90f3230');\n",
              "          const dataTable =\n",
              "            await google.colab.kernel.invokeFunction('convertToInteractive',\n",
              "                                                     [key], {});\n",
              "          if (!dataTable) return;\n",
              "\n",
              "          const docLinkHtml = 'Like what you see? Visit the ' +\n",
              "            '<a target=\"_blank\" href=https://colab.research.google.com/notebooks/data_table.ipynb>data table notebook</a>'\n",
              "            + ' to learn more about interactive tables.';\n",
              "          element.innerHTML = '';\n",
              "          dataTable['output_type'] = 'display_data';\n",
              "          await google.colab.output.renderOutput(dataTable, element);\n",
              "          const docLink = document.createElement('div');\n",
              "          docLink.innerHTML = docLinkHtml;\n",
              "          element.appendChild(docLink);\n",
              "        }\n",
              "      </script>\n",
              "    </div>\n",
              "  </div>\n",
              "  "
            ],
            "text/plain": [
              "                     Unnamed: 0  Data  ...  Critical Risk  Description\n",
              "Countries  Local                       ...                            \n",
              "Country_03 Local_10          44    44  ...             44           44\n",
              "Country_02 Local_05          59    59  ...             59           59\n",
              "           Local_08          27    27  ...             27           27\n",
              "           Local_02          24    24  ...             24           24\n",
              "           Local_07          14    14  ...             14           14\n",
              "           Local_12           4     4  ...              4            4\n",
              "           Local_09           2     2  ...              2            2\n",
              "Country_01 Local_03          90    90  ...             90           90\n",
              "           Local_01          57    57  ...             57           57\n",
              "           Local_04          56    56  ...             56           56\n",
              "           Local_06          46    46  ...             46           46\n",
              "           Local_11           2     2  ...              2            2\n",
              "\n",
              "[12 rows x 9 columns]"
            ]
          },
          "metadata": {},
          "execution_count": 7
        }
      ],
      "source": [
        "data.groupby(by=['Countries', 'Local']).count().sort_values(['Countries', 'Description'],ascending=False)"
      ]
    },
    {
      "cell_type": "markdown",
      "metadata": {
        "id": "elCZwyiD55Ft"
      },
      "source": [
        "1. From the above distribution we can see that the most number of accidents have happened in **Local_03** from **Country_01** followed by **Local_05** from **Country_02**.\n",
        "\n",
        "2. If we look closely into the above data, **Country_01** has more accidents across different cities compared to other two countries.\n",
        "\n",
        "3. With this observation, I think we can say that **Country_01** is less safe compared to others."
      ]
    },
    {
      "cell_type": "code",
      "execution_count": 8,
      "metadata": {
        "colab": {
          "base_uri": "https://localhost:8080/",
          "height": 279
        },
        "id": "4Z9fi4sw6tFn",
        "outputId": "299d96ff-86a2-4900-af63-08ae11d37a5b"
      },
      "outputs": [
        {
          "output_type": "display_data",
          "data": {
            "image/png": "[encoded data removed]",
            "text/plain": [
              "<Figure size 432x288 with 1 Axes>"
            ]
          },
          "metadata": {
            "needs_background": "light"
          }
        }
      ],
      "source": [
        "# Lets check the distribution of the accidents among male and female.\n",
        "sns.countplot(x=data['Genre']);"
      ]
    },
    {
      "cell_type": "markdown",
      "metadata": {
        "id": "NRFdVnii7BX2"
      },
      "source": [
        "We can see that there's a huge **skew** between the accidents among **male** and **female** employees, which is synonymus to real life scenarios in the **Industrial sectors**."
      ]
    },
    {
      "cell_type": "code",
      "execution_count": 9,
      "metadata": {
        "id": "G6jqfPfp7nJG"
      },
      "outputs": [],
      "source": [
        "# Adds two new columns for Year wise and month wise distribution.\n",
        "data['Month_Year'] = data['Data'].apply(lambda x: x[:7])\n",
        "data['Year'] = data['Data'].apply(lambda x: x[:4])"
      ]
    },
    {
      "cell_type": "code",
      "execution_count": 10,
      "metadata": {
        "colab": {
          "base_uri": "https://localhost:8080/",
          "height": 366
        },
        "id": "gkg5_K7L9F7H",
        "outputId": "eb6edafc-7ed9-419b-eb8c-100f87d23688"
      },
      "outputs": [
        {
          "output_type": "display_data",
          "data": {
            "image/png": "[encoded data removed]",
            "text/plain": [
              "<Figure size 1440x360 with 2 Axes>"
            ]
          },
          "metadata": {
            "needs_background": "light"
          }
        }
      ],
      "source": [
        "plt.rcParams[\"figure.figsize\"] = (20,5)\n",
        "fig, ax = plt.subplots(1,2)\n",
        "plt.xticks(rotation=90)\n",
        "sns.countplot(x=data['Year'], ax=ax[0]);\n",
        "sns.countplot(x=data['Month_Year'], ax=ax[1]);\n",
        "fig.show()"
      ]
    },
    {
      "cell_type": "markdown",
      "metadata": {
        "id": "DG8QAQsK91Fq"
      },
      "source": [
        "* From the above two distributions, we can see that number of accidents in **2016** were much more compared to **2017**.\n",
        "\n",
        "* Also, if we see from the monthly distribution, the number of accidents are more in the month of **February** to **June** in **2016**. After some research we found that in **Brazil** more accidents happen in certain seasons. For this to be analysed we need more information about the **domain** & **geography** which is **not-provided** in **dataset** "
      ]
    },
    {
      "cell_type": "code",
      "execution_count": 11,
      "metadata": {
        "colab": {
          "base_uri": "https://localhost:8080/",
          "height": 335
        },
        "id": "EjB57iCL-fAm",
        "outputId": "05b5832d-7df8-4abe-ad25-b01fdf391a8b"
      },
      "outputs": [
        {
          "output_type": "display_data",
          "data": {
            "image/png": "[encoded data removed]",
            "text/plain": [
              "<Figure size 1440x360 with 1 Axes>"
            ]
          },
          "metadata": {
            "needs_background": "light"
          }
        }
      ],
      "source": [
        "sns.countplot(x=data['Countries'], hue=data['Local']);"
      ]
    },
    {
      "cell_type": "code",
      "execution_count": 12,
      "metadata": {
        "colab": {
          "base_uri": "https://localhost:8080/",
          "height": 381
        },
        "id": "34vtuv3RClNE",
        "outputId": "b3acec68-4970-4b63-87d1-b719d783bb17"
      },
      "outputs": [
        {
          "output_type": "display_data",
          "data": {
            "image/png": "[encoded data removed]",
            "text/plain": [
              "<Figure size 1440x360 with 3 Axes>"
            ]
          },
          "metadata": {
            "needs_background": "light"
          }
        }
      ],
      "source": [
        "fig, ax = plt.subplots(1,3)\n",
        "plt.xticks(rotation=90)\n",
        "sns.countplot(x=data['Countries'], ax=ax[0]);\n",
        "sns.countplot(x=data['Countries'], hue=data['Accident Level'], ax=ax[1]);\n",
        "sns.countplot(x=data['Countries'], hue=data['Industry Sector'], ax=ax[2]);\n",
        "fig.show()"
      ]
    },
    {
      "cell_type": "markdown",
      "metadata": {
        "id": "_tdJwdIPCpw2"
      },
      "source": [
        "* If we look at above distributions, **Country_01** has had most number of accidents and also the number of severe accidents are much more than other countries.\n",
        "\n",
        "* **Country_01** is the only country which has had accidents with **Level V** severity.\n",
        "\n",
        "* Coming to **Industry sector**, **Country_01** has had most accidents in **Mining** whereas **Country_02** has had most accidents in **Metals sector**."
      ]
    },
    {
      "cell_type": "code",
      "execution_count": 13,
      "metadata": {
        "colab": {
          "base_uri": "https://localhost:8080/",
          "height": 334
        },
        "id": "a3pvOPyB6cCz",
        "outputId": "22a15ccd-9f48-4af4-a34b-d832df849377"
      },
      "outputs": [
        {
          "output_type": "display_data",
          "data": {
            "image/png": "[encoded data removed]",
            "text/plain": [
              "<Figure size 576x360 with 1 Axes>"
            ]
          },
          "metadata": {
            "needs_background": "light"
          }
        }
      ],
      "source": [
        "# Checking the accident distribution in the industries\n",
        "plt.rcParams[\"figure.figsize\"] = (8,5)\n",
        "sns.countplot(x=data['Industry Sector']);"
      ]
    },
    {
      "cell_type": "markdown",
      "metadata": {
        "id": "mPi4wqzS6vvX"
      },
      "source": [
        "As we can see that the highest number of accidents are happening in **Mining industries** which has been the case, in general."
      ]
    },
    {
      "cell_type": "code",
      "execution_count": 14,
      "metadata": {
        "colab": {
          "base_uri": "https://localhost:8080/",
          "height": 334
        },
        "id": "0jsbdjnY64NG",
        "outputId": "72ed9a57-efd4-496e-e590-a0c40bfddb83"
      },
      "outputs": [
        {
          "output_type": "display_data",
          "data": {
            "image/png": "[encoded data removed]",
            "text/plain": [
              "<Figure size 576x360 with 1 Axes>"
            ]
          },
          "metadata": {
            "needs_background": "light"
          }
        }
      ],
      "source": [
        "#Checking how critical the accidents have been in each industry\n",
        "sns.countplot(x=data['Industry Sector'], hue= data['Accident Level']);"
      ]
    },
    {
      "cell_type": "markdown",
      "metadata": {
        "id": "DNwdmOiP7X_Y"
      },
      "source": [
        "From the above chart we can see that most of the accidents have not been severe in all the sectors. As we don't see any **Level VI** accidents it means that there has not been a single accident which was most severe. Let's check the counts as well to verify that."
      ]
    },
    {
      "cell_type": "code",
      "execution_count": 15,
      "metadata": {
        "colab": {
          "base_uri": "https://localhost:8080/"
        },
        "id": "kwwHlOPG7n30",
        "outputId": "db9a93db-7998-4655-bcb9-5e999a58e1c6"
      },
      "outputs": [
        {
          "output_type": "execute_result",
          "data": {
            "text/plain": [
              "I      316\n",
              "II      40\n",
              "III     31\n",
              "IV      30\n",
              "V        8\n",
              "Name: Accident Level, dtype: int64"
            ]
          },
          "metadata": {},
          "execution_count": 15
        }
      ],
      "source": [
        "data['Accident Level'].value_counts()"
      ]
    },
    {
      "cell_type": "markdown",
      "metadata": {
        "id": "0V6S5X0T7yW-"
      },
      "source": [
        "The problem description says that accident level could be between **I to VI**, but as we can see that there is not a single accident with value **VI**.\n",
        "\n",
        "Apart from that we can also see that there is a huge **imbalance** in the **accident level distribution**."
      ]
    },
    {
      "cell_type": "code",
      "execution_count": 16,
      "metadata": {
        "colab": {
          "base_uri": "https://localhost:8080/",
          "height": 334
        },
        "id": "ZNRsfGgB8aXf",
        "outputId": "16c6e7e7-f942-48e9-9def-9148c06f8a15"
      },
      "outputs": [
        {
          "output_type": "display_data",
          "data": {
            "image/png": "[encoded data removed]",
            "text/plain": [
              "<Figure size 1440x360 with 2 Axes>"
            ]
          },
          "metadata": {
            "needs_background": "light"
          }
        }
      ],
      "source": [
        "plt.rcParams[\"figure.figsize\"] = (20,5)\n",
        "fig, ax = plt.subplots(1,2)\n",
        "sns.countplot(x=data['Employee or Third Party'], ax=ax[0]);\n",
        "sns.countplot(x=data['Employee or Third Party'], hue=data['Accident Level'], ax=ax[1]);\n",
        "fig.show()"
      ]
    },
    {
      "cell_type": "markdown",
      "metadata": {
        "id": "3oMB0WRY88qq"
      },
      "source": [
        "1. From the above visualization, it is clear that the number of accidents are much more in **third party employees** compared to **own employees** which indicates that **third party** is more **prone** to **accidents**.\n",
        "\n",
        "2. Also, the accident type distribution among **own employees** and **third party employees** is **same** as the overall accident distribution.\n",
        "\n",
        "3. **IMP:** One of the key insight is that the **Level V accidents** are seen only in **Third party employees**"
      ]
    },
    {
      "cell_type": "markdown",
      "metadata": {
        "id": "KtFadmi79TmJ"
      },
      "source": [
        "## **EDA Summary**\n",
        "\n",
        "Based on the above **EDA**, we can make following observations:\n",
        "\n",
        "1. Overall, there has **not** been a **single case** of most **severe accident level (VI)** which indicates that the **industries** have taken **appropriate measures** to **avoid** the **most severe accidents**.\n",
        "\n",
        "2. The accident level distribution is **very skewed** where the least severe accidents are much more compared to more severe accidents which is also a good indication that industries have **taken measures** to prevent **severe accidents**, in general or we can say that the people have also taken right precautions to avoid severe accidents, in general.\n",
        "\n",
        "3. The distribution in **male employees** is much more compared to **female employees**, which is also expected given the nature of employment.\n",
        "\n",
        "4. There are **more accidents** in **third party employees** compared to **own employees** which can indicate two things, either the third party does not take enough precautions or **the industry** does not provide **enough safety measures** for **third party employees**.\n",
        "\n",
        "5. The most number of accidents are from **Country_01** which indicates that it is **most prone** to accidents and also it has more number of **severe accidents** compared to other countries. Also, **Country_01** has most number of accidents in **Mining sector** whereas **Country_02** has most in **Metals sector**. This indicates that **Country_01** needs to take **more safety measures** in **Mining sector**.\n",
        "\n",
        "6. The number of accidents have been **more** in **2016** and it reduced by **half** in **2017** indicating that some **improvement** has happened in the **safety measures** from **2016-2017**"
      ]
    },
    {
      "cell_type": "markdown",
      "metadata": {
        "id": "41EJ-10dkO-U"
      },
      "source": [
        "# **Pre-processing**"
      ]
    },
    {
      "cell_type": "code",
      "execution_count": 17,
      "metadata": {
        "id": "AYXhlD4sD5jw"
      },
      "outputs": [],
      "source": [
        "if data.duplicated().sum() > 0:\n",
        "  print('Removing duplicate records')\n",
        "  data.drop_duplicates(inplace=True)"
      ]
    },
    {
      "cell_type": "code",
      "execution_count": 18,
      "metadata": {
        "colab": {
          "base_uri": "https://localhost:8080/"
        },
        "id": "D-wl0tdUHbof",
        "outputId": "1976c035-acc5-4464-8b26-ef40c5be89bc"
      },
      "outputs": [
        {
          "output_type": "stream",
          "name": "stdout",
          "text": [
            "While removing the drill rod of the Jumbo 08 for maintenance, the supervisor proceeds to loosen the support of the intermediate centralizer to facilitate the removal, seeing this the mechanic supports one end on the drill of the equipment to pull with both hands the bar and accelerate the removal from this, at this moment the bar slides from its point of support and tightens the fingers of the mechanic between the drilling bar and the beam of the jumbo.\n",
            "\n",
            "During the activation of a sodium sulphide pump, the piping was uncoupled and the sulfide solution was designed in the area to reach the maid. Immediately she made use of the emergency shower and was directed to the ambulatory doctor and later to the hospital. Note: of sulphide solution = 48 grams / liter.\n",
            "\n",
            "In the sub-station MILPO located at level +170 when the collaborator was doing the excavation work with a pick (hand tool), hitting a rock with the flat part of the beak, it bounces off hitting the steel tip of the safety shoe and then the metatarsal area of ​​the left foot of the collaborator causing the injury.\n",
            "\n",
            "Being 9:45 am. approximately in the Nv. 1880 CX-695 OB7, the personnel begins the task of unlocking the Soquet bolts of the BHB machine, when they were in the penultimate bolt they identified that the hexagonal head was worn, proceeding Mr. Cristóbal - Auxiliary assistant to climb to the platform to exert pressure with your hand on the \"DADO\" key, to prevent it from coming out of the bolt; in those moments two collaborators rotate with the lever in anti-clockwise direction, leaving the key of the bolt, hitting the palm of the left hand, causing the injury.\n",
            "\n",
            "Approximately at 11:45 a.m. in circumstances that the mechanics Anthony (group leader), Eduardo and Eric Fernández-injured-the three of the Company IMPROMEC, performed the removal of the pulley of the motor of the pump 3015 in the ZAF of Marcy. 27 cm / Length: 33 cm / Weight: 70 kg), as it was locked proceed to heating the pulley to loosen it, it comes out and falls from a distance of 1.06 meters high and hits the instep of the right foot of the worker, causing the injury described.\n",
            "\n",
            "During the unloading operation of the ustulado Bag there was a need to unclog the discharge mouth of the silo truck. In performing this procedure, there was a maneuver of unhooking the hose without the total depressurisation of the mouth, projecting ustulado powder in the collaborator caused irritation in the eyes.\n",
            "\n",
            "The collaborator reports that he was on street 09 holding in his left hand the volumetric balloon, when he slipped and when placing his hand on the ground the volumetric balloon ended up breaking caused a small wound in his left hand.\n",
            "\n",
            "At approximately 04:50 p.m., when the mechanic technician José of the Tecnomin verified the transmission belts of the HM-100 pump at the Acid plant, he proceeded to turn the pulley manually; unexpectedly at that instant the electrician supervisor Miguel of the EKA Mining grabs the transmission belts to verify their tension, at which point the finger traps.\n",
            "\n",
            "Employee was sitting in the resting area at level 326 (raise bore), when he suffered sudden illness, falling and suffering excoriation on the face.\n",
            "\n",
            "At the moment the forklift operator went to manipulate big bag of bioxide in section 70 and just in front of the ladder that leads to the area of ​​manual displacement, he splashed spent at the height of his forehead from a fissure in pipe G -069, subsequently spilling to his left eye. The collaborator went to the nearby eyewash for cleaning and immediately to the medical center.\n",
            "\n"
          ]
        }
      ],
      "source": [
        "# Printing descriptions of first 10 accidents\n",
        "\n",
        "for i in range(0,10):\n",
        "  print(data['Description'][i])\n",
        "  print()"
      ]
    },
    {
      "cell_type": "code",
      "execution_count": 19,
      "metadata": {
        "colab": {
          "base_uri": "https://localhost:8080/"
        },
        "id": "pr9x3NjmVm6H",
        "outputId": "6e1e8c6b-04ff-4d9b-cded-6f809aacc2ca"
      },
      "outputs": [
        {
          "output_type": "stream",
          "name": "stdout",
          "text": [
            "[nltk_data] Downloading package stopwords to /root/nltk_data...\n",
            "[nltk_data]   Unzipping corpora/stopwords.zip.\n",
            "[nltk_data] Downloading package wordnet to /root/nltk_data...\n",
            "[nltk_data]   Unzipping corpora/wordnet.zip.\n"
          ]
        }
      ],
      "source": [
        "nltk.download('stopwords')\n",
        "nltk.download('wordnet')\n",
        "stopWords = stopwords.words('english')"
      ]
    },
    {
      "cell_type": "code",
      "execution_count": 20,
      "metadata": {
        "id": "5Ei6FX7tVcJv"
      },
      "outputs": [],
      "source": [
        "# Method for cleanzing the Description using Regular Expression and by removing Stopwords\n",
        "space=' '\n",
        "def cleanseText(text):\n",
        "  try:\n",
        "    text = re.sub('[^\\w\\s]+', space, text)\n",
        "    text = re.sub(r'\\s\\s+', space, text)\n",
        "    text = re.sub(r'^A-Za-z]', space, text)         \n",
        "    words = text.strip().lower().split()    \n",
        "    words = [w for w in words if len(w)>=1]\n",
        "    desc = space.join(words)\n",
        "    descWords = [word.lower() for word in desc.split() if word.lower() not in stopWords]\n",
        "    return space.join(descWords)\n",
        "  except:\n",
        "    print('Error occured during cleansing the text:', text)\n",
        "    return ''"
      ]
    },
    {
      "cell_type": "code",
      "execution_count": 21,
      "metadata": {
        "id": "nn5ck3XvVhND"
      },
      "outputs": [],
      "source": [
        "# Removing the stop words and cleansing the data to be later used for training the model\n",
        "data['Description'] = data['Description'].apply(cleanseText)"
      ]
    },
    {
      "cell_type": "code",
      "execution_count": 22,
      "metadata": {
        "id": "kqrpbnOGW8H9"
      },
      "outputs": [],
      "source": [
        "# Methods to convert apostrophe to the standard lexicons\n",
        "def expand(phrase):\n",
        "    # specific\n",
        "    phrase = re.sub(r\"won\\'t\", \"will not\", phrase)\n",
        "    phrase = re.sub(r\"can\\'t\", \"can not\", phrase)\n",
        "    phrase = re.sub(r\"don\\'t\", \"do not\", phrase)\n",
        "\n",
        "    # general\n",
        "    phrase = re.sub(r\"n\\'t\", \" not\", phrase)\n",
        "    phrase = re.sub(r\"\\'re\", \" are\", phrase)\n",
        "    phrase = re.sub(r\"\\'s\", \" is\", phrase)\n",
        "    phrase = re.sub(r\"\\'d\", \" would\", phrase)\n",
        "    phrase = re.sub(r\"\\'ll\", \" will\", phrase)\n",
        "    phrase = re.sub(r\"\\'t\", \" not\", phrase)\n",
        "    phrase = re.sub(r\"\\'ve\", \" have\", phrase)\n",
        "    phrase = re.sub(r\"\\'m\", \" am\", phrase)\n",
        "    phrase = re.sub(r\"[^A-Za-z]+\", \" \", phrase)\n",
        "    return phrase.lower()"
      ]
    },
    {
      "cell_type": "code",
      "execution_count": 23,
      "metadata": {
        "id": "p2kSqVkKW_Y-"
      },
      "outputs": [],
      "source": [
        "data['Description'] = data['Description'].apply(expand)"
      ]
    },
    {
      "cell_type": "code",
      "execution_count": 24,
      "metadata": {
        "id": "p33nLITcJIxV"
      },
      "outputs": [],
      "source": [
        "# Method to Lemmatize the Description\n",
        "lemmatizer = WordNetLemmatizer()\n",
        "\n",
        "def lemma(text):\n",
        "  words = text.split()\n",
        "  text = [lemmatizer.lemmatize(word) for word in words if word not in string.punctuation]\n",
        "  return space.join(text)"
      ]
    },
    {
      "cell_type": "code",
      "execution_count": 25,
      "metadata": {
        "id": "rZpdrGzOJpCH"
      },
      "outputs": [],
      "source": [
        "data['Description'] = data['Description'].apply(lemma)"
      ]
    },
    {
      "cell_type": "code",
      "execution_count": 26,
      "metadata": {
        "colab": {
          "base_uri": "https://localhost:8080/"
        },
        "id": "RZa-pRJqKFY8",
        "outputId": "4431c97f-69ea-407e-a95d-b9154273bd00"
      },
      "outputs": [
        {
          "output_type": "execute_result",
          "data": {
            "text/plain": [
              "208     61\n",
              "250     62\n",
              "305     64\n",
              "275     65\n",
              "230     68\n",
              "      ... \n",
              "156    566\n",
              "371    572\n",
              "338    630\n",
              "79     639\n",
              "174    657\n",
              "Name: Description, Length: 425, dtype: int64"
            ]
          },
          "metadata": {},
          "execution_count": 26
        }
      ],
      "source": [
        "# Checking the len of each description after cleanzing\n",
        "chk = data['Description'].apply(len)\n",
        "chk.sort_values()"
      ]
    },
    {
      "cell_type": "markdown",
      "metadata": {
        "id": "xGOF-MK4LHdJ"
      },
      "source": [
        "After **cleansing**, the description has **minimum** of **61** and **maximum** of **657 characters**"
      ]
    },
    {
      "cell_type": "code",
      "execution_count": 27,
      "metadata": {
        "id": "vt7nJUuDMQ6K"
      },
      "outputs": [],
      "source": [
        "# Creating word2vec model with 50 embeddings\n",
        "embeddings_index = {}\n",
        "f = open(parent_dir+'glove.6B.50d.txt')\n",
        "\n",
        "for line in f:\n",
        "    values = line.split(' ')\n",
        "    word = values[0]\n",
        "    coefs = np.asarray(values[1:], dtype='float32')\n",
        "    embeddings_index[word] = coefs\n",
        "f.close()"
      ]
    },
    {
      "cell_type": "code",
      "execution_count": 28,
      "metadata": {
        "colab": {
          "base_uri": "https://localhost:8080/"
        },
        "id": "P8MhPH6XMYdd",
        "outputId": "190155e8-8750-42b7-d808-76f77615d4a1"
      },
      "outputs": [
        {
          "output_type": "execute_result",
          "data": {
            "text/plain": [
              "array([-0.0055476, -0.39273  ,  0.15205  ,  0.4551   , -0.36954  ,\n",
              "       -0.40238  ,  0.36912  ,  0.747    ,  0.55792  , -0.83863  ,\n",
              "       -0.37462  , -0.20634  ,  0.40669  ,  1.1276   , -0.79788  ,\n",
              "       -0.24294  ,  0.27706  ,  1.0719   , -1.1724   , -0.61039  ,\n",
              "        0.54103  ,  0.18078  ,  0.202    , -1.0802   ,  0.58973  ,\n",
              "       -0.91807  , -0.0088915,  0.059115 ,  0.47291  , -0.655    ,\n",
              "        1.9677   , -0.56201  , -0.96587  ,  0.35787  ,  0.13509  ,\n",
              "        0.80648  ,  0.33995  , -0.36178  ,  0.32938  ,  0.1069   ,\n",
              "       -0.42603  , -0.75837  ,  0.019512 ,  0.41161  ,  0.94834  ,\n",
              "       -0.72586  ,  1.4135   ,  0.69039  , -0.87651  ,  0.18577  ],\n",
              "      dtype=float32)"
            ]
          },
          "metadata": {},
          "execution_count": 28
        }
      ],
      "source": [
        "embeddings_index.get('drill')"
      ]
    },
    {
      "cell_type": "code",
      "execution_count": 29,
      "metadata": {
        "id": "_jVBUOwKSsvC"
      },
      "outputs": [],
      "source": [
        "# Takinng embedding dimension which will be used later for model training\n",
        "EMBEDDING_DIM = embeddings_index.get('drill').shape[0]"
      ]
    },
    {
      "cell_type": "markdown",
      "metadata": {
        "id": "2QuMJ1akmS72"
      },
      "source": [
        "There is a huge target imbalance, by **upsampling** the model will have enough **enough training data**"
      ]
    },
    {
      "cell_type": "code",
      "execution_count": 30,
      "metadata": {
        "id": "4G_sOvdtaSSA"
      },
      "outputs": [],
      "source": [
        "data['Accident Level'].value_counts()\n",
        "\n",
        "I = data[data['Accident Level']== 'I']\n",
        "II = data[data['Accident Level']== 'II']\n",
        "III = data[data['Accident Level']== 'III']\n",
        "IV = data[data['Accident Level']== 'IV']\n",
        "V = data[data['Accident Level']== 'V']\n",
        "\n",
        "\n",
        "max_accidents = len(I)\n",
        "I_scaled = resample(I, replace=False, n_samples=max_accidents, random_state=seed)\n",
        "II_scaled = resample(II, replace=True, n_samples=max_accidents, random_state=seed)\n",
        "III_scaled = resample(III, replace=True, n_samples=max_accidents, random_state=seed)\n",
        "IV_scaled = resample(IV, replace=True, n_samples=max_accidents, random_state=seed)\n",
        "V_scaled = resample(V, replace=True, n_samples=max_accidents, random_state=seed)\n",
        "\n",
        "data_new = pd.concat([I_scaled, II_scaled, III_scaled, IV_scaled, V_scaled])"
      ]
    },
    {
      "cell_type": "code",
      "execution_count": 31,
      "metadata": {
        "id": "sI6FYA5WQTgA"
      },
      "outputs": [],
      "source": [
        "# Label encoding and train-test spliting\n",
        "X = data_new['Description']\n",
        "y = data_new['Accident Level']\n",
        "\n",
        "y = LabelEncoder().fit_transform(y).astype(np.int8)\n",
        "\n",
        "X_train, X_test, y_train, y_test = train_test_split(X, y, test_size=0.3, random_state=seed, stratify=y)"
      ]
    },
    {
      "cell_type": "code",
      "execution_count": 32,
      "metadata": {
        "id": "gQCYFTtqR_7Q"
      },
      "outputs": [],
      "source": [
        "# Tokenizing, setting max length, and padding the data\n",
        "tokenizer = Tokenizer()\n",
        "\n",
        "tokenizer.fit_on_texts(X_train)\n",
        "\n",
        "train_token = tokenizer.texts_to_sequences(X_train)\n",
        "test_token = tokenizer.texts_to_sequences(X_test)\n",
        "\n",
        "max_len = 200\n",
        "train_padded = pad_sequences(train_token, maxlen=max_len, padding='post', truncating='post')\n",
        "test_padded = pad_sequences(test_token, maxlen=max_len, padding='post', truncating='post')"
      ]
    },
    {
      "cell_type": "code",
      "execution_count": 33,
      "metadata": {
        "colab": {
          "base_uri": "https://localhost:8080/"
        },
        "id": "HgQesmgaST6u",
        "outputId": "01974181-b50d-40a8-e9e8-e85a02eb411f"
      },
      "outputs": [
        {
          "output_type": "stream",
          "name": "stdout",
          "text": [
            "No of vocabs : 2517\n"
          ]
        },
        {
          "output_type": "execute_result",
          "data": {
            "text/plain": [
              "(2517, 50)"
            ]
          },
          "metadata": {},
          "execution_count": 33
        }
      ],
      "source": [
        "# Printing the vocabulary size and creating embedding matrix\n",
        "embedding_matrix_row = len(tokenizer.word_index) + 1\n",
        "print('No of vocabs :', embedding_matrix_row)\n",
        "embedding_matrix = np.zeros((embedding_matrix_row, EMBEDDING_DIM))\n",
        "\n",
        "for word, i in tokenizer.word_index.items():\n",
        "  embedding_vector = embeddings_index.get(word)\n",
        "  if embedding_vector is not None:\n",
        "    embedding_matrix[i] = embedding_vector\n",
        "\n",
        "embedding_matrix.shape"
      ]
    },
    {
      "cell_type": "markdown",
      "metadata": {
        "id": "TY1KGlmonm53"
      },
      "source": [
        "# **Deciding Models and Model Building**\n",
        "\n",
        "\n",
        "1.   Based on the analysis done so far, this is a **multi-class classification** problem. \n",
        "2.   We are going to use **GridsearchCV** with ML algorithms to find the **best performing ML model**\n",
        "3. Also, we are going to use **LSTM** based **Neural Network** with **softmax** and **categorical cross-entropy**\n",
        "4. We will compare the results of ML and DL **models**, and based on the outcome the **best performing model** will be **pickled** for future **real-time use**\n",
        "5. If the performance of ML and DL model is **comparable**, we will use **ML** **over** **DL** model, as **ML** models are **expressive** & **explainable**\n",
        "\n"
      ]
    },
    {
      "cell_type": "code",
      "execution_count": 34,
      "metadata": {
        "id": "KSjc7YFwRsOz"
      },
      "outputs": [],
      "source": [
        "# Method for running GridsearchCV with ML algorithms, printing the best params, best score, classification report, and execution summary\n",
        "def Model_Report(X_train, y_train, X_val, y_val):\n",
        "\n",
        "  models = ['LR', 'SVC', 'RF', 'ADA', 'ExTC', 'KNN', 'LGBM', 'XGB']\n",
        "\n",
        "  clfs = [\n",
        "          LogisticRegression(solver='liblinear', random_state=seed),\n",
        "          SVC(random_state=1, probability=True),\n",
        "          RandomForestClassifier(n_jobs=10, random_state=seed),\n",
        "          AdaBoostClassifier(random_state=seed),\n",
        "          ExtraTreesClassifier(random_state=seed, n_jobs=10),\n",
        "          KNeighborsClassifier(n_jobs=10),\n",
        "          LGBMClassifier(n_jobs=10, random_state=seed),\n",
        "          XGBClassifier(n_jobs=10, random_state=seed)\n",
        "        ]\n",
        "\n",
        "  params = {\n",
        "          models[0]: {'penalty': ['l1', 'l2'], 'C': [0.1,1,10]},\n",
        "          models[1]: {'C': [1,10], 'gamma':[0.01,0.1,1]},\n",
        "          models[2]: {'n_estimators': [10, 100], 'max_depth': [10, 15]},\n",
        "          models[3]: {'n_estimators': [100,200], 'learning_rate': [0.1, 1]},\n",
        "          models[4]: {'n_estimators': [10, 100], 'max_depth': [10, 15]},\n",
        "          models[5]: {'n_neighbors': [2, 5, 8], 'weights': ['uniform', 'distance']},\n",
        "          models[6]: {'n_estimators': [100], 'learning_rate': [0.01, 0.1]},\n",
        "          models[7]: {'n_estimators': [100, 200], 'gamma': [0.01, 0.1]}\n",
        "\n",
        "      }\n",
        "\n",
        "  result = {}\n",
        "\n",
        "  for name, estimator in zip(models, clfs):\n",
        "    print('')\n",
        "    print('--'*50)\n",
        "    print(\"Running model: \" + name)\n",
        "\n",
        "    clf = GridSearchCV(estimator, params[name], cv=5)\n",
        "\n",
        "    clf.fit(X_train, y_train)\n",
        "\n",
        "    print(\"Best params: \" + str(clf.best_params_))\n",
        "    print(\"Best score: \" + str(round(clf.best_score_,3)))\n",
        "\n",
        "    y_pred = clf.predict(X_val)\n",
        "    acc = accuracy_score(y_val, y_pred)\n",
        "\n",
        "    df_report = classification_report(y_val, y_pred)\n",
        "    print(df_report)\n",
        "\n",
        "    clf_train_score = round(clf.best_score_,3)\n",
        "    clf_recall = round((metrics.recall_score(y_val, y_pred, average='weighted')), 3)   \n",
        "    clf_precision = round((metrics.precision_score(y_val, y_pred, average='weighted')), 3) \n",
        "    clf_f1score = round((metrics.f1_score(y_val, y_pred, average='weighted')),3)\n",
        "      \n",
        "    result[name] = [clf_train_score, acc, clf_recall, clf_precision, clf_f1score]\n",
        "\n",
        "  result_tab = pd.DataFrame(np.array(list(result.values()))[:,:],\n",
        "                          columns= ['Training Score', 'Accuracy', 'Recall', 'Precision', 'F1 score'],\n",
        "                        index= result.keys())\n",
        "\n",
        "  result_tab.index.name = 'Model'\n",
        "\n",
        "  return result_tab, clf"
      ]
    },
    {
      "cell_type": "code",
      "execution_count": 35,
      "metadata": {
        "colab": {
          "base_uri": "https://localhost:8080/",
          "height": 1000
        },
        "id": "x4lY-qnwR4mo",
        "outputId": "e4db6079-05d6-46fa-d96f-989f8ab47e14",
        "scrolled": false
      },
      "outputs": [
        {
          "output_type": "stream",
          "name": "stdout",
          "text": [
            "\n",
            "----------------------------------------------------------------------------------------------------\n",
            "Running model: LR\n",
            "Best params: {'C': 1, 'penalty': 'l1'}\n",
            "Best score: 0.747\n",
            "              precision    recall  f1-score   support\n",
            "\n",
            "           0       0.46      0.33      0.38        94\n",
            "           1       0.60      0.62      0.61        95\n",
            "           2       0.76      0.77      0.76        95\n",
            "           3       0.80      0.85      0.83        95\n",
            "           4       0.86      1.00      0.92        95\n",
            "\n",
            "    accuracy                           0.72       474\n",
            "   macro avg       0.70      0.71      0.70       474\n",
            "weighted avg       0.70      0.72      0.70       474\n",
            "\n",
            "\n",
            "----------------------------------------------------------------------------------------------------\n",
            "Running model: SVC\n",
            "Best params: {'C': 1, 'gamma': 0.01}\n",
            "Best score: 0.991\n",
            "              precision    recall  f1-score   support\n",
            "\n",
            "           0       0.94      1.00      0.97        94\n",
            "           1       1.00      0.92      0.96        95\n",
            "           2       1.00      1.00      1.00        95\n",
            "           3       0.98      1.00      0.99        95\n",
            "           4       1.00      1.00      1.00        95\n",
            "\n",
            "    accuracy                           0.98       474\n",
            "   macro avg       0.98      0.98      0.98       474\n",
            "weighted avg       0.98      0.98      0.98       474\n",
            "\n",
            "\n",
            "----------------------------------------------------------------------------------------------------\n",
            "Running model: RF\n",
            "Best params: {'max_depth': 15, 'n_estimators': 100}\n",
            "Best score: 0.986\n",
            "              precision    recall  f1-score   support\n",
            "\n",
            "           0       0.94      0.99      0.96        94\n",
            "           1       0.99      0.92      0.95        95\n",
            "           2       1.00      1.00      1.00        95\n",
            "           3       0.98      1.00      0.99        95\n",
            "           4       1.00      1.00      1.00        95\n",
            "\n",
            "    accuracy                           0.98       474\n",
            "   macro avg       0.98      0.98      0.98       474\n",
            "weighted avg       0.98      0.98      0.98       474\n",
            "\n",
            "\n",
            "----------------------------------------------------------------------------------------------------\n",
            "Running model: ADA\n",
            "Best params: {'learning_rate': 1, 'n_estimators': 200}\n",
            "Best score: 0.722\n",
            "              precision    recall  f1-score   support\n",
            "\n",
            "           0       0.56      0.52      0.54        94\n",
            "           1       0.60      0.59      0.60        95\n",
            "           2       0.58      0.67      0.62        95\n",
            "           3       0.74      0.68      0.71        95\n",
            "           4       1.00      1.00      1.00        95\n",
            "\n",
            "    accuracy                           0.69       474\n",
            "   macro avg       0.70      0.69      0.69       474\n",
            "weighted avg       0.70      0.69      0.69       474\n",
            "\n",
            "\n",
            "----------------------------------------------------------------------------------------------------\n",
            "Running model: ExTC\n",
            "Best params: {'max_depth': 15, 'n_estimators': 100}\n",
            "Best score: 0.987\n",
            "              precision    recall  f1-score   support\n",
            "\n",
            "           0       0.93      0.89      0.91        94\n",
            "           1       0.90      0.92      0.91        95\n",
            "           2       1.00      1.00      1.00        95\n",
            "           3       0.98      1.00      0.99        95\n",
            "           4       1.00      1.00      1.00        95\n",
            "\n",
            "    accuracy                           0.96       474\n",
            "   macro avg       0.96      0.96      0.96       474\n",
            "weighted avg       0.96      0.96      0.96       474\n",
            "\n",
            "\n",
            "----------------------------------------------------------------------------------------------------\n",
            "Running model: KNN\n",
            "Best params: {'n_neighbors': 2, 'weights': 'uniform'}\n",
            "Best score: 0.881\n",
            "              precision    recall  f1-score   support\n",
            "\n",
            "           0       0.87      0.43      0.57        94\n",
            "           1       0.81      0.92      0.86        95\n",
            "           2       0.88      1.00      0.94        95\n",
            "           3       0.88      1.00      0.94        95\n",
            "           4       0.90      1.00      0.95        95\n",
            "\n",
            "    accuracy                           0.87       474\n",
            "   macro avg       0.87      0.87      0.85       474\n",
            "weighted avg       0.87      0.87      0.85       474\n",
            "\n",
            "\n",
            "----------------------------------------------------------------------------------------------------\n",
            "Running model: LGBM\n",
            "Best params: {'learning_rate': 0.1, 'n_estimators': 100}\n",
            "Best score: 0.987\n",
            "              precision    recall  f1-score   support\n",
            "\n",
            "           0       0.93      0.80      0.86        94\n",
            "           1       0.92      0.92      0.92        95\n",
            "           2       0.96      1.00      0.98        95\n",
            "           3       0.94      1.00      0.97        95\n",
            "           4       0.97      1.00      0.98        95\n",
            "\n",
            "    accuracy                           0.94       474\n",
            "   macro avg       0.94      0.94      0.94       474\n",
            "weighted avg       0.94      0.94      0.94       474\n",
            "\n",
            "\n",
            "----------------------------------------------------------------------------------------------------\n",
            "Running model: XGB\n",
            "Best params: {'gamma': 0.01, 'n_estimators': 200}\n",
            "Best score: 0.983\n",
            "              precision    recall  f1-score   support\n",
            "\n",
            "           0       0.96      0.77      0.85        94\n",
            "           1       0.93      0.95      0.94        95\n",
            "           2       0.94      1.00      0.97        95\n",
            "           3       0.91      1.00      0.95        95\n",
            "           4       0.98      1.00      0.99        95\n",
            "\n",
            "    accuracy                           0.94       474\n",
            "   macro avg       0.94      0.94      0.94       474\n",
            "weighted avg       0.94      0.94      0.94       474\n",
            "\n",
            "----------------------------------------------------------------------------------------------------\n",
            "\n"
          ]
        },
        {
          "output_type": "execute_result",
          "data": {
            "text/html": [
              "\n",
              "  <div id=\"df-f8e970cb-d640-4964-b8ea-1fcc9cf35623\">\n",
              "    <div class=\"colab-df-container\">\n",
              "      <div>\n",
              "<style scoped>\n",
              "    .dataframe tbody tr th:only-of-type {\n",
              "        vertical-align: middle;\n",
              "    }\n",
              "\n",
              "    .dataframe tbody tr th {\n",
              "        vertical-align: top;\n",
              "    }\n",
              "\n",
              "    .dataframe thead th {\n",
              "        text-align: right;\n",
              "    }\n",
              "</style>\n",
              "<table border=\"1\" class=\"dataframe\">\n",
              "  <thead>\n",
              "    <tr style=\"text-align: right;\">\n",
              "      <th></th>\n",
              "      <th>Training Score</th>\n",
              "      <th>Accuracy</th>\n",
              "      <th>Recall</th>\n",
              "      <th>Precision</th>\n",
              "      <th>F1 score</th>\n",
              "    </tr>\n",
              "    <tr>\n",
              "      <th>Model</th>\n",
              "      <th></th>\n",
              "      <th></th>\n",
              "      <th></th>\n",
              "      <th></th>\n",
              "      <th></th>\n",
              "    </tr>\n",
              "  </thead>\n",
              "  <tbody>\n",
              "    <tr>\n",
              "      <th>LR</th>\n",
              "      <td>0.747</td>\n",
              "      <td>0.715190</td>\n",
              "      <td>0.715</td>\n",
              "      <td>0.696</td>\n",
              "      <td>0.702</td>\n",
              "    </tr>\n",
              "    <tr>\n",
              "      <th>SVC</th>\n",
              "      <td>0.991</td>\n",
              "      <td>0.983122</td>\n",
              "      <td>0.983</td>\n",
              "      <td>0.984</td>\n",
              "      <td>0.983</td>\n",
              "    </tr>\n",
              "    <tr>\n",
              "      <th>RF</th>\n",
              "      <td>0.986</td>\n",
              "      <td>0.981013</td>\n",
              "      <td>0.981</td>\n",
              "      <td>0.982</td>\n",
              "      <td>0.981</td>\n",
              "    </tr>\n",
              "    <tr>\n",
              "      <th>ADA</th>\n",
              "      <td>0.722</td>\n",
              "      <td>0.694093</td>\n",
              "      <td>0.694</td>\n",
              "      <td>0.696</td>\n",
              "      <td>0.694</td>\n",
              "    </tr>\n",
              "    <tr>\n",
              "      <th>ExTC</th>\n",
              "      <td>0.987</td>\n",
              "      <td>0.962025</td>\n",
              "      <td>0.962</td>\n",
              "      <td>0.962</td>\n",
              "      <td>0.962</td>\n",
              "    </tr>\n",
              "    <tr>\n",
              "      <th>KNN</th>\n",
              "      <td>0.881</td>\n",
              "      <td>0.869198</td>\n",
              "      <td>0.869</td>\n",
              "      <td>0.869</td>\n",
              "      <td>0.852</td>\n",
              "    </tr>\n",
              "    <tr>\n",
              "      <th>LGBM</th>\n",
              "      <td>0.987</td>\n",
              "      <td>0.943038</td>\n",
              "      <td>0.943</td>\n",
              "      <td>0.942</td>\n",
              "      <td>0.941</td>\n",
              "    </tr>\n",
              "    <tr>\n",
              "      <th>XGB</th>\n",
              "      <td>0.983</td>\n",
              "      <td>0.943038</td>\n",
              "      <td>0.943</td>\n",
              "      <td>0.944</td>\n",
              "      <td>0.941</td>\n",
              "    </tr>\n",
              "  </tbody>\n",
              "</table>\n",
              "</div>\n",
              "      <button class=\"colab-df-convert\" onclick=\"convertToInteractive('df-f8e970cb-d640-4964-b8ea-1fcc9cf35623')\"\n",
              "              title=\"Convert this dataframe to an interactive table.\"\n",
              "              style=\"display:none;\">\n",
              "        \n",
              "  <svg xmlns=\"http://www.w3.org/2000/svg\" height=\"24px\"viewBox=\"0 0 24 24\"\n",
              "       width=\"24px\">\n",
              "    <path d=\"M0 0h24v24H0V0z\" fill=\"none\"/>\n",
              "    <path d=\"M18.56 5.44l.94 2.06.94-2.06 2.06-.94-2.06-.94-.94-2.06-.94 2.06-2.06.94zm-11 1L8.5 8.5l.94-2.06 2.06-.94-2.06-.94L8.5 2.5l-.94 2.06-2.06.94zm10 10l.94 2.06.94-2.06 2.06-.94-2.06-.94-.94-2.06-.94 2.06-2.06.94z\"/><path d=\"M17.41 7.96l-1.37-1.37c-.4-.4-.92-.59-1.43-.59-.52 0-1.04.2-1.43.59L10.3 9.45l-7.72 7.72c-.78.78-.78 2.05 0 2.83L4 21.41c.39.39.9.59 1.41.59.51 0 1.02-.2 1.41-.59l7.78-7.78 2.81-2.81c.8-.78.8-2.07 0-2.86zM5.41 20L4 18.59l7.72-7.72 1.47 1.35L5.41 20z\"/>\n",
              "  </svg>\n",
              "      </button>\n",
              "      \n",
              "  <style>\n",
              "    .colab-df-container {\n",
              "      display:flex;\n",
              "      flex-wrap:wrap;\n",
              "      gap: 12px;\n",
              "    }\n",
              "\n",
              "    .colab-df-convert {\n",
              "      background-color: #E8F0FE;\n",
              "      border: none;\n",
              "      border-radius: 50%;\n",
              "      cursor: pointer;\n",
              "      display: none;\n",
              "      fill: #1967D2;\n",
              "      height: 32px;\n",
              "      padding: 0 0 0 0;\n",
              "      width: 32px;\n",
              "    }\n",
              "\n",
              "    .colab-df-convert:hover {\n",
              "      background-color: #E2EBFA;\n",
              "      box-shadow: 0px 1px 2px rgba(60, 64, 67, 0.3), 0px 1px 3px 1px rgba(60, 64, 67, 0.15);\n",
              "      fill: #174EA6;\n",
              "    }\n",
              "\n",
              "    [theme=dark] .colab-df-convert {\n",
              "      background-color: #3B4455;\n",
              "      fill: #D2E3FC;\n",
              "    }\n",
              "\n",
              "    [theme=dark] .colab-df-convert:hover {\n",
              "      background-color: #434B5C;\n",
              "      box-shadow: 0px 1px 3px 1px rgba(0, 0, 0, 0.15);\n",
              "      filter: drop-shadow(0px 1px 2px rgba(0, 0, 0, 0.3));\n",
              "      fill: #FFFFFF;\n",
              "    }\n",
              "  </style>\n",
              "\n",
              "      <script>\n",
              "        const buttonEl =\n",
              "          document.querySelector('#df-f8e970cb-d640-4964-b8ea-1fcc9cf35623 button.colab-df-convert');\n",
              "        buttonEl.style.display =\n",
              "          google.colab.kernel.accessAllowed ? 'block' : 'none';\n",
              "\n",
              "        async function convertToInteractive(key) {\n",
              "          const element = document.querySelector('#df-f8e970cb-d640-4964-b8ea-1fcc9cf35623');\n",
              "          const dataTable =\n",
              "            await google.colab.kernel.invokeFunction('convertToInteractive',\n",
              "                                                     [key], {});\n",
              "          if (!dataTable) return;\n",
              "\n",
              "          const docLinkHtml = 'Like what you see? Visit the ' +\n",
              "            '<a target=\"_blank\" href=https://colab.research.google.com/notebooks/data_table.ipynb>data table notebook</a>'\n",
              "            + ' to learn more about interactive tables.';\n",
              "          element.innerHTML = '';\n",
              "          dataTable['output_type'] = 'display_data';\n",
              "          await google.colab.output.renderOutput(dataTable, element);\n",
              "          const docLink = document.createElement('div');\n",
              "          docLink.innerHTML = docLinkHtml;\n",
              "          element.appendChild(docLink);\n",
              "        }\n",
              "      </script>\n",
              "    </div>\n",
              "  </div>\n",
              "  "
            ],
            "text/plain": [
              "       Training Score  Accuracy  Recall  Precision  F1 score\n",
              "Model                                                       \n",
              "LR              0.747  0.715190   0.715      0.696     0.702\n",
              "SVC             0.991  0.983122   0.983      0.984     0.983\n",
              "RF              0.986  0.981013   0.981      0.982     0.981\n",
              "ADA             0.722  0.694093   0.694      0.696     0.694\n",
              "ExTC            0.987  0.962025   0.962      0.962     0.962\n",
              "KNN             0.881  0.869198   0.869      0.869     0.852\n",
              "LGBM            0.987  0.943038   0.943      0.942     0.941\n",
              "XGB             0.983  0.943038   0.943      0.944     0.941"
            ]
          },
          "metadata": {},
          "execution_count": 35
        }
      ],
      "source": [
        "# Train ML model, print classification report, and summmarized table\n",
        "result, clf= Model_Report(train_padded, y_train, test_padded, y_test)\n",
        "print('--'*50)\n",
        "print()\n",
        "result"
      ]
    },
    {
      "cell_type": "markdown",
      "metadata": {
        "id": "VqGK7GnfrzqV"
      },
      "source": [
        "From the above summarized table:\n",
        "\n",
        "1.   **Adboost** and **Logistic Regression** are the **least** performing models\n",
        "2.   **SVC** and **Random Forest** are the best performing models\n"
      ]
    },
    {
      "cell_type": "code",
      "execution_count": 37,
      "metadata": {
        "id": "jMkruyLKbnNV"
      },
      "outputs": [],
      "source": [
        "# Creating an SVC model with the best params and fitting to be pickled for later use.\n",
        "svcModel = SVC(random_state=seed, probability=True, C=1, gamma=0.01)\n",
        "svcModel.fit(train_padded, y_train)\n",
        "\n",
        "# Pickle the ML model for later use\n",
        "pickledModel = parent_dir+'Capstone_ML.sav'\n",
        "pickle.dump(svcModel, open(pickledModel, 'wb'))"
      ]
    },
    {
      "cell_type": "markdown",
      "metadata": {
        "id": "MV4f0htEtG4W"
      },
      "source": [
        "## **Training with LSTM**\n",
        "Bi-directional LSTM model"
      ]
    },
    {
      "cell_type": "code",
      "execution_count": null,
      "metadata": {
        "colab": {
          "base_uri": "https://localhost:8080/"
        },
        "id": "zM1M6QlESxXi",
        "outputId": "a201524f-08d2-4062-de1a-697c8f83b87a"
      },
      "outputs": [
        {
          "name": "stdout",
          "output_type": "stream",
          "text": [
            "Model: \"model_4\"\n",
            "_________________________________________________________________\n",
            " Layer (type)                Output Shape              Param #   \n",
            "=================================================================\n",
            " input (InputLayer)          [(None, 200)]             0         \n",
            "                                                                 \n",
            " embedding_4 (Embedding)     (None, 200, 50)           125850    \n",
            "                                                                 \n",
            " bidirectional_4 (Bidirectio  (None, 200, 128)         58880     \n",
            " nal)                                                            \n",
            "                                                                 \n",
            " time_distributed_4 (TimeDis  (None, 200, 32)          4128      \n",
            " tributed)                                                       \n",
            "                                                                 \n",
            " flatten_4 (Flatten)         (None, 6400)              0         \n",
            "                                                                 \n",
            " dropout_4 (Dropout)         (None, 6400)              0         \n",
            "                                                                 \n",
            " activation_4 (Activation)   (None, 6400)              0         \n",
            "                                                                 \n",
            " output (Dense)              (None, 5)                 32005     \n",
            "                                                                 \n",
            "=================================================================\n",
            "Total params: 220,863\n",
            "Trainable params: 95,013\n",
            "Non-trainable params: 125,850\n",
            "_________________________________________________________________\n"
          ]
        }
      ],
      "source": [
        "input = Input(shape=(max_len,), name='input')\n",
        "\n",
        "embedding = Embedding(input_dim=embedding_matrix_row,\n",
        "                      output_dim=EMBEDDING_DIM,\n",
        "                      weights= [embedding_matrix],\n",
        "                      trainable = False)(input)\n",
        "\n",
        "bidirectional = Bidirectional(LSTM(64, return_sequences=True))(embedding)\n",
        "\n",
        "timeDistributed = TimeDistributed(Dense(32, activation='relu'))(bidirectional)\n",
        "\n",
        "flatten = Flatten()(timeDistributed)\n",
        "\n",
        "dropout = Dropout(.4)(flatten)\n",
        "activation = Activation(\"relu\")(dropout)\n",
        "\n",
        "output = Dense(5, activation='softmax', name = \"output\")(activation)\n",
        "\n",
        "model = Model(inputs = input, outputs = output)\n",
        "\n",
        "model.compile(optimizer = \"adam\", loss = \"sparse_categorical_crossentropy\", metrics = [\"accuracy\"])\n",
        "\n",
        "model.summary()"
      ]
    },
    {
      "cell_type": "code",
      "execution_count": null,
      "metadata": {
        "colab": {
          "base_uri": "https://localhost:8080/",
          "height": 1000
        },
        "id": "0lY_WSvRObiR",
        "outputId": "3bec08b1-9a48-4459-cd49-dc491ed23dcd"
      },
      "outputs": [
        {
          "name": "stdout",
          "output_type": "stream",
          "text": [
            "Epoch 1/50\n",
            "10/12 [========================>.....] - ETA: 0s - loss: 1.5089 - accuracy: 0.3920\n",
            "Epoch 00001: val_loss improved from inf to 1.29268, saving model to model-cap.h5\n",
            "12/12 [==============================] - 4s 104ms/step - loss: 1.4913 - accuracy: 0.4024 - val_loss: 1.2927 - val_accuracy: 0.5612\n",
            "Epoch 2/50\n",
            "10/12 [========================>.....] - ETA: 0s - loss: 1.1999 - accuracy: 0.5990\n",
            "Epoch 00002: val_loss improved from 1.29268 to 1.01567, saving model to model-cap.h5\n",
            "12/12 [==============================] - 0s 26ms/step - loss: 1.1914 - accuracy: 0.5986 - val_loss: 1.0157 - val_accuracy: 0.5802\n",
            "Epoch 3/50\n",
            "10/12 [========================>.....] - ETA: 0s - loss: 0.9785 - accuracy: 0.5970\n",
            "Epoch 00003: val_loss improved from 1.01567 to 0.83053, saving model to model-cap.h5\n",
            "12/12 [==============================] - 0s 27ms/step - loss: 0.9736 - accuracy: 0.5931 - val_loss: 0.8305 - val_accuracy: 0.7068\n",
            "Epoch 4/50\n",
            "10/12 [========================>.....] - ETA: 0s - loss: 0.7962 - accuracy: 0.7140\n",
            "Epoch 00004: val_loss improved from 0.83053 to 0.72198, saving model to model-cap.h5\n",
            "12/12 [==============================] - 0s 27ms/step - loss: 0.7855 - accuracy: 0.7170 - val_loss: 0.7220 - val_accuracy: 0.7574\n",
            "Epoch 5/50\n",
            "10/12 [========================>.....] - ETA: 0s - loss: 0.6495 - accuracy: 0.7570\n",
            "Epoch 00005: val_loss improved from 0.72198 to 0.59180, saving model to model-cap.h5\n",
            "12/12 [==============================] - 0s 27ms/step - loss: 0.6467 - accuracy: 0.7577 - val_loss: 0.5918 - val_accuracy: 0.7764\n",
            "Epoch 6/50\n",
            "10/12 [========================>.....] - ETA: 0s - loss: 0.5201 - accuracy: 0.8230\n",
            "Epoch 00006: val_loss improved from 0.59180 to 0.53589, saving model to model-cap.h5\n",
            "12/12 [==============================] - 0s 27ms/step - loss: 0.5156 - accuracy: 0.8246 - val_loss: 0.5359 - val_accuracy: 0.7932\n",
            "Epoch 7/50\n",
            "10/12 [========================>.....] - ETA: 0s - loss: 0.4616 - accuracy: 0.8260\n",
            "Epoch 00007: val_loss improved from 0.53589 to 0.39515, saving model to model-cap.h5\n",
            "12/12 [==============================] - 0s 27ms/step - loss: 0.4495 - accuracy: 0.8345 - val_loss: 0.3951 - val_accuracy: 0.8650\n",
            "Epoch 8/50\n",
            "10/12 [========================>.....] - ETA: 0s - loss: 0.3241 - accuracy: 0.8960\n",
            "Epoch 00008: val_loss improved from 0.39515 to 0.34890, saving model to model-cap.h5\n",
            "12/12 [==============================] - 0s 27ms/step - loss: 0.3257 - accuracy: 0.8933 - val_loss: 0.3489 - val_accuracy: 0.8755\n",
            "Epoch 9/50\n",
            "10/12 [========================>.....] - ETA: 0s - loss: 0.2225 - accuracy: 0.9320\n",
            "Epoch 00009: val_loss improved from 0.34890 to 0.27531, saving model to model-cap.h5\n",
            "12/12 [==============================] - 0s 27ms/step - loss: 0.2212 - accuracy: 0.9322 - val_loss: 0.2753 - val_accuracy: 0.8945\n",
            "Epoch 10/50\n",
            "10/12 [========================>.....] - ETA: 0s - loss: 0.1734 - accuracy: 0.9440\n",
            "Epoch 00010: val_loss did not improve from 0.27531\n",
            "12/12 [==============================] - 0s 25ms/step - loss: 0.1756 - accuracy: 0.9430 - val_loss: 0.3149 - val_accuracy: 0.8629\n",
            "Epoch 11/50\n",
            "10/12 [========================>.....] - ETA: 0s - loss: 0.2112 - accuracy: 0.9220\n",
            "Epoch 00011: val_loss improved from 0.27531 to 0.25227, saving model to model-cap.h5\n",
            "12/12 [==============================] - 0s 27ms/step - loss: 0.2087 - accuracy: 0.9268 - val_loss: 0.2523 - val_accuracy: 0.9135\n",
            "Epoch 12/50\n",
            "10/12 [========================>.....] - ETA: 0s - loss: 0.1416 - accuracy: 0.9580\n",
            "Epoch 00012: val_loss improved from 0.25227 to 0.23019, saving model to model-cap.h5\n",
            "12/12 [==============================] - 0s 26ms/step - loss: 0.1405 - accuracy: 0.9575 - val_loss: 0.2302 - val_accuracy: 0.9198\n",
            "Epoch 13/50\n",
            "10/12 [========================>.....] - ETA: 0s - loss: 0.1086 - accuracy: 0.9760\n",
            "Epoch 00013: val_loss improved from 0.23019 to 0.20053, saving model to model-cap.h5\n",
            "12/12 [==============================] - 0s 26ms/step - loss: 0.1058 - accuracy: 0.9774 - val_loss: 0.2005 - val_accuracy: 0.9262\n",
            "Epoch 14/50\n",
            "10/12 [========================>.....] - ETA: 0s - loss: 0.0823 - accuracy: 0.9800\n",
            "Epoch 00014: val_loss did not improve from 0.20053\n",
            "12/12 [==============================] - 0s 26ms/step - loss: 0.0800 - accuracy: 0.9810 - val_loss: 0.2021 - val_accuracy: 0.9304\n",
            "Epoch 15/50\n",
            "10/12 [========================>.....] - ETA: 0s - loss: 0.0665 - accuracy: 0.9860\n",
            "Epoch 00015: val_loss did not improve from 0.20053\n",
            "12/12 [==============================] - 0s 26ms/step - loss: 0.0651 - accuracy: 0.9864 - val_loss: 0.2138 - val_accuracy: 0.9198\n",
            "Epoch 16/50\n",
            "10/12 [========================>.....] - ETA: 0s - loss: 0.0794 - accuracy: 0.9740\n",
            "Epoch 00016: val_loss improved from 0.20053 to 0.19558, saving model to model-cap.h5\n",
            "12/12 [==============================] - 0s 27ms/step - loss: 0.0797 - accuracy: 0.9756 - val_loss: 0.1956 - val_accuracy: 0.9304\n",
            "Epoch 17/50\n",
            "10/12 [========================>.....] - ETA: 0s - loss: 0.0613 - accuracy: 0.9880\n",
            "Epoch 00017: val_loss did not improve from 0.19558\n",
            "12/12 [==============================] - 0s 25ms/step - loss: 0.0645 - accuracy: 0.9864 - val_loss: 0.2164 - val_accuracy: 0.9198\n",
            "Epoch 18/50\n",
            "10/12 [========================>.....] - ETA: 0s - loss: 0.1610 - accuracy: 0.9350\n",
            "Epoch 00018: val_loss did not improve from 0.19558\n",
            "12/12 [==============================] - 0s 26ms/step - loss: 0.1657 - accuracy: 0.9322 - val_loss: 0.2161 - val_accuracy: 0.9198\n",
            "Epoch 19/50\n",
            "10/12 [========================>.....] - ETA: 0s - loss: 0.0965 - accuracy: 0.9850\n",
            "Epoch 00019: val_loss did not improve from 0.19558\n",
            "12/12 [==============================] - 0s 26ms/step - loss: 0.0960 - accuracy: 0.9846 - val_loss: 0.2079 - val_accuracy: 0.9304\n",
            "Epoch 20/50\n",
            "10/12 [========================>.....] - ETA: 0s - loss: 0.0628 - accuracy: 0.9890\n",
            "Epoch 00020: val_loss improved from 0.19558 to 0.17078, saving model to model-cap.h5\n",
            "12/12 [==============================] - 0s 27ms/step - loss: 0.0619 - accuracy: 0.9892 - val_loss: 0.1708 - val_accuracy: 0.9494\n",
            "Epoch 21/50\n",
            "10/12 [========================>.....] - ETA: 0s - loss: 0.0432 - accuracy: 0.9930\n",
            "Epoch 00021: val_loss improved from 0.17078 to 0.16481, saving model to model-cap.h5\n",
            "12/12 [==============================] - 0s 27ms/step - loss: 0.0491 - accuracy: 0.9910 - val_loss: 0.1648 - val_accuracy: 0.9430\n",
            "Epoch 22/50\n",
            "10/12 [========================>.....] - ETA: 0s - loss: 0.0385 - accuracy: 0.9930\n",
            "Epoch 00022: val_loss did not improve from 0.16481\n",
            "12/12 [==============================] - 0s 26ms/step - loss: 0.0370 - accuracy: 0.9937 - val_loss: 0.2116 - val_accuracy: 0.9325\n",
            "Epoch 23/50\n",
            "12/12 [==============================] - ETA: 0s - loss: 0.0332 - accuracy: 0.9937\n",
            "Epoch 00023: val_loss did not improve from 0.16481\n",
            "12/12 [==============================] - 0s 27ms/step - loss: 0.0332 - accuracy: 0.9937 - val_loss: 0.1676 - val_accuracy: 0.9473\n",
            "Epoch 24/50\n",
            "10/12 [========================>.....] - ETA: 0s - loss: 0.0233 - accuracy: 0.9960\n",
            "Epoch 00024: val_loss did not improve from 0.16481\n",
            "12/12 [==============================] - 0s 26ms/step - loss: 0.0270 - accuracy: 0.9955 - val_loss: 0.1874 - val_accuracy: 0.9430\n",
            "Epoch 25/50\n",
            "10/12 [========================>.....] - ETA: 0s - loss: 0.0271 - accuracy: 0.9940\n",
            "Epoch 00025: val_loss did not improve from 0.16481\n",
            "12/12 [==============================] - 0s 27ms/step - loss: 0.0274 - accuracy: 0.9937 - val_loss: 0.1892 - val_accuracy: 0.9409\n",
            "Epoch 26/50\n",
            "10/12 [========================>.....] - ETA: 0s - loss: 0.0347 - accuracy: 0.9930\n",
            "Epoch 00026: val_loss did not improve from 0.16481\n",
            "12/12 [==============================] - 0s 25ms/step - loss: 0.0333 - accuracy: 0.9928 - val_loss: 0.1722 - val_accuracy: 0.9494\n"
          ]
        },
        {
          "data": {
            "image/png": "[encoded data removed]",
            "text/plain": [
              "<Figure size 1440x360 with 1 Axes>"
            ]
          },
          "metadata": {
            "needs_background": "light"
          },
          "output_type": "display_data"
        }
      ],
      "source": [
        "# Check if trained model already exists, if it does, load the weights, otherwise train and plot the figure\n",
        "\n",
        "savedModel = parent_dir+'Capstone_NN_weights.h5'\n",
        "\n",
        "if os.path.isfile(savedModel):\n",
        "  model.load_weights(savedModel)\n",
        "else:\n",
        "  mc = ModelCheckpoint(\"model-cap.h5\", monitor=\"val_loss\", verbose=1, save_best_only=True, save_weights_only=True, mode=\"min\")\n",
        "  es = EarlyStopping(monitor=\"val_loss\", patience=5, mode=\"min\")\n",
        "  history = model.fit(train_padded, y_train, \n",
        "                    validation_data = (test_padded, y_test), \n",
        "                    epochs = 50,\n",
        "                    batch_size = 100,\n",
        "                    callbacks = [mc, es])\n",
        "  \n",
        "  plt.figure()\n",
        "  L = len(history.history[\"loss\"]) + 1\n",
        "  plt.plot(range(1, L), history.history[\"loss\"], \"bo-\", label = \"loss\")\n",
        "  plt.plot(range(1, L), history.history[\"accuracy\"], \"g*-\", label = \"accuracy\")\n",
        "  plt.plot(range(1, L), history.history[\"val_loss\"], \"y^-\", label = \"val_loss\")\n",
        "  plt.plot(range(1, L), history.history[\"val_accuracy\"], \"ro-\", label = \"val_accuracy\")\n",
        "  plt.legend()\n",
        "  plt.xlabel(\"epoch\")\n",
        "  plt.grid()\n",
        "  plt.show()\n",
        "\n",
        "  model.save(savedModel.replace('_weights', ''))\n",
        "  model.save_weights(savedModel)"
      ]
    },
    {
      "cell_type": "markdown",
      "metadata": {
        "id": "7H1bnlLDFze9"
      },
      "source": [
        "Based on the above run, we can see that we have got **95%+ accuracy** which seems to be **good**."
      ]
    },
    {
      "cell_type": "markdown",
      "metadata": {
        "id": "OmI2PwAFJhEW"
      },
      "source": [
        "As we can see from the above executions, both **ML** and **DL** models are performing really **well** and have **good training/validation accuracy**.\n",
        "\n",
        "\n",
        "Out of the two, we would **prefer ML model** as they are **explainable**, specifically either **SVC**(f1: **0.983**) or **RF**(f1: **0.981**) as those models are performing best among all the models."
      ]
    },
    {
      "cell_type": "markdown",
      "metadata": {
        "id": "6FMmA4apuAA6"
      },
      "source": [
        "# **Model Performance**\n",
        "\n",
        "Both ML and DL models have performed really well so further optimisation is not required.\n",
        "The models have **performed well** because of the **Data-preprocessing** and **Upsampling**.\n",
        "\n",
        "If the model wouldn’t have performed well, we could have done the following:\n",
        "\n",
        "1. **Hyper-parameter tuning** to identify the **best parameters** to work with for **DL model**.\n",
        "2. **Data Augumentation** by generating **Synthetic records** via. **synset** nltk.\n",
        "3. **PCA** for **dimensionality reduction** to see if the dimension reduction helps in better training.\n",
        "4. Working with different **dropout** combinations."
      ]
    },
    {
      "cell_type": "markdown",
      "metadata": {
        "id": "qYG7myHsbnNW"
      },
      "source": [
        "# **Creating a FLASK APP to predict accident severity**"
      ]
    },
    {
      "cell_type": "code",
      "execution_count": 38,
      "metadata": {
        "id": "UzES9mSxbnNX"
      },
      "outputs": [],
      "source": [
        "# This method processes the input and prepares it to be passed to the model for prediction.\n",
        "def prepareAndProcess(pred_text):\n",
        "  pred_text = cleanseText(pred_text)\n",
        "  pred_text = expand(pred_text)\n",
        "  pred_text = lemma(pred_text)\n",
        "  pred_token = tokenizer.texts_to_sequences([pred_text])\n",
        "  pred_padded = pad_sequences(pred_token, maxlen=max_len, padding='post', truncating='post')\n",
        "  return pred_padded"
      ]
    },
    {
      "cell_type": "code",
      "execution_count": 39,
      "metadata": {
        "colab": {
          "base_uri": "https://localhost:8080/"
        },
        "id": "PfUOeGs2bnNX",
        "outputId": "def45ee1-4e6c-415e-930e-5572d6ee1c91"
      },
      "outputs": [
        {
          "output_type": "stream",
          "name": "stdout",
          "text": [
            "Collecting flask-ngrok\n",
            "  Downloading flask_ngrok-0.0.25-py3-none-any.whl (3.1 kB)\n",
            "Requirement already satisfied: Flask>=0.8 in /usr/local/lib/python3.7/dist-packages (from flask-ngrok) (1.1.4)\n",
            "Requirement already satisfied: requests in /usr/local/lib/python3.7/dist-packages (from flask-ngrok) (2.23.0)\n",
            "Requirement already satisfied: click<8.0,>=5.1 in /usr/local/lib/python3.7/dist-packages (from Flask>=0.8->flask-ngrok) (7.1.2)\n",
            "Requirement already satisfied: Jinja2<3.0,>=2.10.1 in /usr/local/lib/python3.7/dist-packages (from Flask>=0.8->flask-ngrok) (2.11.3)\n",
            "Requirement already satisfied: itsdangerous<2.0,>=0.24 in /usr/local/lib/python3.7/dist-packages (from Flask>=0.8->flask-ngrok) (1.1.0)\n",
            "Requirement already satisfied: Werkzeug<2.0,>=0.15 in /usr/local/lib/python3.7/dist-packages (from Flask>=0.8->flask-ngrok) (1.0.1)\n",
            "Requirement already satisfied: MarkupSafe>=0.23 in /usr/local/lib/python3.7/dist-packages (from Jinja2<3.0,>=2.10.1->Flask>=0.8->flask-ngrok) (2.0.1)\n",
            "Requirement already satisfied: idna<3,>=2.5 in /usr/local/lib/python3.7/dist-packages (from requests->flask-ngrok) (2.10)\n",
            "Requirement already satisfied: chardet<4,>=3.0.2 in /usr/local/lib/python3.7/dist-packages (from requests->flask-ngrok) (3.0.4)\n",
            "Requirement already satisfied: urllib3!=1.25.0,!=1.25.1,<1.26,>=1.21.1 in /usr/local/lib/python3.7/dist-packages (from requests->flask-ngrok) (1.24.3)\n",
            "Requirement already satisfied: certifi>=2017.4.17 in /usr/local/lib/python3.7/dist-packages (from requests->flask-ngrok) (2021.10.8)\n",
            "Installing collected packages: flask-ngrok\n",
            "Successfully installed flask-ngrok-0.0.25\n",
            "Collecting flask-bootstrap\n",
            "  Downloading Flask-Bootstrap-3.3.7.1.tar.gz (456 kB)\n",
            "\u001b[K     |████████████████████████████████| 456 kB 4.3 MB/s \n",
            "\u001b[?25hRequirement already satisfied: Flask>=0.8 in /usr/local/lib/python3.7/dist-packages (from flask-bootstrap) (1.1.4)\n",
            "Collecting dominate\n",
            "  Downloading dominate-2.6.0-py2.py3-none-any.whl (29 kB)\n",
            "Collecting visitor\n",
            "  Downloading visitor-0.1.3.tar.gz (3.3 kB)\n",
            "Requirement already satisfied: itsdangerous<2.0,>=0.24 in /usr/local/lib/python3.7/dist-packages (from Flask>=0.8->flask-bootstrap) (1.1.0)\n",
            "Requirement already satisfied: Werkzeug<2.0,>=0.15 in /usr/local/lib/python3.7/dist-packages (from Flask>=0.8->flask-bootstrap) (1.0.1)\n",
            "Requirement already satisfied: click<8.0,>=5.1 in /usr/local/lib/python3.7/dist-packages (from Flask>=0.8->flask-bootstrap) (7.1.2)\n",
            "Requirement already satisfied: Jinja2<3.0,>=2.10.1 in /usr/local/lib/python3.7/dist-packages (from Flask>=0.8->flask-bootstrap) (2.11.3)\n",
            "Requirement already satisfied: MarkupSafe>=0.23 in /usr/local/lib/python3.7/dist-packages (from Jinja2<3.0,>=2.10.1->Flask>=0.8->flask-bootstrap) (2.0.1)\n",
            "Building wheels for collected packages: flask-bootstrap, visitor\n",
            "  Building wheel for flask-bootstrap (setup.py) ... \u001b[?25l\u001b[?25hdone\n",
            "  Created wheel for flask-bootstrap: filename=Flask_Bootstrap-3.3.7.1-py3-none-any.whl size=460124 sha256=44491a9afb543632ccb70df72acf0c6232ccf31f05b987f7a02bc6210a7a193f\n",
            "  Stored in directory: /root/.cache/pip/wheels/67/a2/d6/50d039c9b59b4caca6d7b53839c8100354a52ab7553d2456eb\n",
            "  Building wheel for visitor (setup.py) ... \u001b[?25l\u001b[?25hdone\n",
            "  Created wheel for visitor: filename=visitor-0.1.3-py3-none-any.whl size=3943 sha256=75680027946c7c2a40eae8bf0727efb9624c1b593e08891038ff632c62c36a15\n",
            "  Stored in directory: /root/.cache/pip/wheels/64/34/11/053f47218984c9a31a00f911ed98dda036b867481dcc527a12\n",
            "Successfully built flask-bootstrap visitor\n",
            "Installing collected packages: visitor, dominate, flask-bootstrap\n",
            "Successfully installed dominate-2.6.0 flask-bootstrap-3.3.7.1 visitor-0.1.3\n",
            "Collecting pyngrok\n",
            "  Downloading pyngrok-5.1.0.tar.gz (745 kB)\n",
            "\u001b[K     |████████████████████████████████| 745 kB 4.2 MB/s \n",
            "\u001b[?25hRequirement already satisfied: PyYAML in /usr/local/lib/python3.7/dist-packages (from pyngrok) (3.13)\n",
            "Building wheels for collected packages: pyngrok\n",
            "  Building wheel for pyngrok (setup.py) ... \u001b[?25l\u001b[?25hdone\n",
            "  Created wheel for pyngrok: filename=pyngrok-5.1.0-py3-none-any.whl size=19006 sha256=c59c6d6afdcb3e915f9af70ccb54b6b0ae1a9f3968eedd8bf80476078da33165\n",
            "  Stored in directory: /root/.cache/pip/wheels/bf/e6/af/ccf6598ecefecd44104069371795cb9b3afbcd16987f6ccfb3\n",
            "Successfully built pyngrok\n",
            "Installing collected packages: pyngrok\n",
            "Successfully installed pyngrok-5.1.0\n"
          ]
        }
      ],
      "source": [
        "!pip install flask-ngrok\n",
        "!pip install flask-bootstrap\n",
        "!pip install pyngrok\n",
        "\n",
        "from flask_ngrok import run_with_ngrok\n",
        "from flask import Flask, render_template , request"
      ]
    },
    {
      "cell_type": "code",
      "execution_count": 40,
      "metadata": {
        "colab": {
          "base_uri": "https://localhost:8080/"
        },
        "id": "IKeUoB2XbnNX",
        "outputId": "13e13a4e-58e6-4170-b4d7-984a0741d685"
      },
      "outputs": [
        {
          "output_type": "stream",
          "name": "stdout",
          "text": [
            "Authtoken saved to configuration file: /root/.ngrok2/ngrok.yml\n"
          ]
        }
      ],
      "source": [
        "# Sign-up to ngrok.com and replace XXXX with your auth token to open a tunnel to the locally deployed app.\n",
        "!ngrok authtoken XXXX"
      ]
    },
    {
      "cell_type": "code",
      "execution_count": 41,
      "metadata": {
        "id": "6z1nmujTbnNX"
      },
      "outputs": [],
      "source": [
        "# This method takes in the input text and processes it to be passed to the model and then predict the outcome using SVC model.\n",
        "def predict(text):\n",
        "  pred_padded = prepareAndProcess(text)\n",
        "  svcModel = pickle.load(open(pickledModel, 'rb'))\n",
        "  prediction = svcModel.predict(pred_padded)[0]\n",
        "\n",
        "  if(prediction == 0):\n",
        "    return 'Predicted Accident Level: I'\n",
        "  elif(prediction == 1):\n",
        "    return 'Predicted Accident Level: II'\n",
        "  elif(prediction == 2):\n",
        "    return 'Predicted Accident Level: III'\n",
        "  elif(prediction == 3):\n",
        "    return 'Predicted Accident Level: IV'\n",
        "  elif(prediction == 4):\n",
        "    return 'Predicted Accident Level: V'"
      ]
    },
    {
      "cell_type": "code",
      "execution_count": 42,
      "metadata": {
        "colab": {
          "base_uri": "https://localhost:8080/"
        },
        "id": "TGpSajWwbnNX",
        "outputId": "ff6e8f97-dbf8-4899-94ab-eeec2de76eea"
      },
      "outputs": [
        {
          "output_type": "stream",
          "name": "stdout",
          "text": [
            " * Serving Flask app \"__main__\" (lazy loading)\n",
            " * Environment: production\n",
            "\u001b[31m   WARNING: This is a development server. Do not use it in a production deployment.\u001b[0m\n",
            "\u001b[2m   Use a production WSGI server instead.\u001b[0m\n",
            " * Debug mode: off\n"
          ]
        },
        {
          "output_type": "stream",
          "name": "stderr",
          "text": [
            " * Running on http://127.0.0.1:5000/ (Press CTRL+C to quit)\n"
          ]
        },
        {
          "output_type": "stream",
          "name": "stdout",
          "text": [
            " * Running on http://7612-35-187-156-47.ngrok.io\n",
            " * Traffic stats available on http://127.0.0.1:4040\n"
          ]
        },
        {
          "output_type": "stream",
          "name": "stderr",
          "text": [
            "127.0.0.1 - - [08/Jan/2022 16:11:29] \"\u001b[37mGET / HTTP/1.1\u001b[0m\" 200 -\n",
            "127.0.0.1 - - [08/Jan/2022 16:11:30] \"\u001b[37mGET /static/styles/style.css HTTP/1.1\u001b[0m\" 200 -\n",
            "127.0.0.1 - - [08/Jan/2022 16:11:33] \"\u001b[33mGET /favicon.ico HTTP/1.1\u001b[0m\" 404 -\n",
            "127.0.0.1 - - [08/Jan/2022 16:11:36] \"\u001b[37mGET /get?msg=iuhiuh HTTP/1.1\u001b[0m\" 200 -\n",
            "127.0.0.1 - - [08/Jan/2022 16:11:39] \"\u001b[37mGET /get?msg=hiuiii HTTP/1.1\u001b[0m\" 200 -\n",
            "127.0.0.1 - - [08/Jan/2022 16:11:44] \"\u001b[37mGET /get?msg=jbbjbbbbubibuuibu HTTP/1.1\u001b[0m\" 200 -\n"
          ]
        }
      ],
      "source": [
        "# Creating a flask app, loading the template and CSS from the below locations and running the app with ngrok\n",
        "\n",
        "app = Flask(__name__, template_folder=parent_dir+'templates')\n",
        "app.static_folder = parent_dir+'static'\n",
        "\n",
        "run_with_ngrok(app)\n",
        "@app.route(\"/\")\n",
        "def home():\n",
        "    return render_template(\"index.html\")\n",
        "\n",
        "@app.route(\"/get\")\n",
        "def get_bot_response():\n",
        "    userText = request.args.get('msg')\n",
        "    return predict(userText)\n",
        "\n",
        "if __name__ == '__main__':\n",
        "   app.run()"
      ]
    },
    {
      "cell_type": "markdown",
      "metadata": {
        "id": "gsQ_MWc3bnNX"
      },
      "source": [
        "# **Overview of the final process**\n",
        "\n",
        "- Problem methodology: The given problem is a multi class classification NLP problem where we have to predict the accident level based on the accident description provided.\n",
        "- After loading and cleaning the data, we used various EDA techniques to get insight into the data and its distribution for various features.\n",
        "- Since it is an NLP problem we used corresponding techniques to process the data in a meaningful way so that it can be used by ML and DL models.\n",
        "- For more details on EDA, Data pre-processing, refer above sections - **EDA Approach** and **Pre-processing**\n",
        "\n",
        "- We used various ML classification models with GridSearchCV for hyper parameter tuning to identify which model works better.\n",
        "- We also used Bidirectional LSTM model to identify how this behaves compared to the ML models."
      ]
    },
    {
      "cell_type": "markdown",
      "metadata": {
        "id": "2kRVgMDJbnNY"
      },
      "source": [
        "# **Step-by-step walk through the solution**\n",
        "\n",
        "- We imported the necessary libraries and loaded the data.\n",
        "\n",
        "- We glanced through the data and came up with the initial findings which can be found in the above section - **Findings**.\n",
        "\n",
        "- We also listed down what each feature column means and how we can use each column. Refer the points listed just above the section - **EDA Approach**.\n",
        "\n",
        "- Then we started off with univariate, bivariate EDA including visualizations to gain insight from the data and identify hidden patterns. After EDA was done, we concluded on the findings and patterns identified. Refer the section \n",
        "\n",
        "- **EDA Summary**.\n",
        "\n",
        "- Then we started off with data pre-processing like duplicate removal, stop word removal, cleansing, lemmatization, handling target imbalance, glove embedding generation, sequence padding, train-test splitting, target label encoding. Refer above section - **Pre-processing**. \n",
        "\n",
        "- Then we started off with model building, since it was a classification problem, we first used ML models in GridSearchCV to identify the best performing ML model. Afterwards, we used LSTM DL model as well to check the model performance. We were getting good performance with both ML and DL models but since ML models are generally explainable we selected SVC model to use for our chatbot application. Refer above section - **Deciding Models and Model Building**.\n",
        "\n",
        "- After pickling the best performing model, we started off with a Flask web-app creation to deploy the model and predict the accident level.\n",
        "\n",
        "- We deployed the flask app on ngrok to be able to launch the webapp publicly from google colab.\n",
        "\n",
        "- The final deployed chatbot application greets the user and asks them for an accident description to be able to predict the accident level."
      ]
    },
    {
      "cell_type": "markdown",
      "metadata": {
        "id": "GNZ3QZVHbnNY"
      },
      "source": [
        "# **Model evaluation**\n",
        "\n",
        "- We used multiple ML models with GridSearch CV to identify the best performing one among ML models and LSTM DL model.\n",
        "- We observed that model performance was almost similar for Support Vector Classifier (SVC), Random Forest (RF), LSTM model. Refer below table which shows the comparison of various ML models.\n",
        "- We selected SVC for our chatbot because:\n",
        "    - It is an ML model, hence explainable when compared to DL models.\n",
        "    - SVC will first generate hyperplanes iteratively that separates the classes in the best way possible.\n",
        "    - After that it will choose the hyperplane that segregate the classes correctly.\n",
        "\n",
        "- For SVC, the prominent hyper-parameters are Kernel, Gamma and C, we used GridSearchCV to identify best value for these hyper-parameters to get better model performance. Refer above section - **Deciding Models and Model Building**.\n",
        "\n",
        "- We did cross validation in GridSearchCV, compared the predictions over test data, used F1-score to evaluate the model performance. After the app was deployed, we used some descriptions from the test data and cross verified that they are predicted properly."
      ]
    },
    {
      "cell_type": "code",
      "source": [
        "result"
      ],
      "metadata": {
        "colab": {
          "base_uri": "https://localhost:8080/",
          "height": 331
        },
        "id": "xlyNST8yd9rq",
        "outputId": "da599882-88b1-4af2-d269-debc1c6279f3"
      },
      "execution_count": 43,
      "outputs": [
        {
          "output_type": "execute_result",
          "data": {
            "text/html": [
              "\n",
              "  <div id=\"df-06bca3d3-e761-4d67-b3c1-c97bf49e0cee\">\n",
              "    <div class=\"colab-df-container\">\n",
              "      <div>\n",
              "<style scoped>\n",
              "    .dataframe tbody tr th:only-of-type {\n",
              "        vertical-align: middle;\n",
              "    }\n",
              "\n",
              "    .dataframe tbody tr th {\n",
              "        vertical-align: top;\n",
              "    }\n",
              "\n",
              "    .dataframe thead th {\n",
              "        text-align: right;\n",
              "    }\n",
              "</style>\n",
              "<table border=\"1\" class=\"dataframe\">\n",
              "  <thead>\n",
              "    <tr style=\"text-align: right;\">\n",
              "      <th></th>\n",
              "      <th>Training Score</th>\n",
              "      <th>Accuracy</th>\n",
              "      <th>Recall</th>\n",
              "      <th>Precision</th>\n",
              "      <th>F1 score</th>\n",
              "    </tr>\n",
              "    <tr>\n",
              "      <th>Model</th>\n",
              "      <th></th>\n",
              "      <th></th>\n",
              "      <th></th>\n",
              "      <th></th>\n",
              "      <th></th>\n",
              "    </tr>\n",
              "  </thead>\n",
              "  <tbody>\n",
              "    <tr>\n",
              "      <th>LR</th>\n",
              "      <td>0.747</td>\n",
              "      <td>0.715190</td>\n",
              "      <td>0.715</td>\n",
              "      <td>0.696</td>\n",
              "      <td>0.702</td>\n",
              "    </tr>\n",
              "    <tr>\n",
              "      <th>SVC</th>\n",
              "      <td>0.991</td>\n",
              "      <td>0.983122</td>\n",
              "      <td>0.983</td>\n",
              "      <td>0.984</td>\n",
              "      <td>0.983</td>\n",
              "    </tr>\n",
              "    <tr>\n",
              "      <th>RF</th>\n",
              "      <td>0.986</td>\n",
              "      <td>0.981013</td>\n",
              "      <td>0.981</td>\n",
              "      <td>0.982</td>\n",
              "      <td>0.981</td>\n",
              "    </tr>\n",
              "    <tr>\n",
              "      <th>ADA</th>\n",
              "      <td>0.722</td>\n",
              "      <td>0.694093</td>\n",
              "      <td>0.694</td>\n",
              "      <td>0.696</td>\n",
              "      <td>0.694</td>\n",
              "    </tr>\n",
              "    <tr>\n",
              "      <th>ExTC</th>\n",
              "      <td>0.987</td>\n",
              "      <td>0.962025</td>\n",
              "      <td>0.962</td>\n",
              "      <td>0.962</td>\n",
              "      <td>0.962</td>\n",
              "    </tr>\n",
              "    <tr>\n",
              "      <th>KNN</th>\n",
              "      <td>0.881</td>\n",
              "      <td>0.869198</td>\n",
              "      <td>0.869</td>\n",
              "      <td>0.869</td>\n",
              "      <td>0.852</td>\n",
              "    </tr>\n",
              "    <tr>\n",
              "      <th>LGBM</th>\n",
              "      <td>0.987</td>\n",
              "      <td>0.943038</td>\n",
              "      <td>0.943</td>\n",
              "      <td>0.942</td>\n",
              "      <td>0.941</td>\n",
              "    </tr>\n",
              "    <tr>\n",
              "      <th>XGB</th>\n",
              "      <td>0.983</td>\n",
              "      <td>0.943038</td>\n",
              "      <td>0.943</td>\n",
              "      <td>0.944</td>\n",
              "      <td>0.941</td>\n",
              "    </tr>\n",
              "  </tbody>\n",
              "</table>\n",
              "</div>\n",
              "      <button class=\"colab-df-convert\" onclick=\"convertToInteractive('df-06bca3d3-e761-4d67-b3c1-c97bf49e0cee')\"\n",
              "              title=\"Convert this dataframe to an interactive table.\"\n",
              "              style=\"display:none;\">\n",
              "        \n",
              "  <svg xmlns=\"http://www.w3.org/2000/svg\" height=\"24px\"viewBox=\"0 0 24 24\"\n",
              "       width=\"24px\">\n",
              "    <path d=\"M0 0h24v24H0V0z\" fill=\"none\"/>\n",
              "    <path d=\"M18.56 5.44l.94 2.06.94-2.06 2.06-.94-2.06-.94-.94-2.06-.94 2.06-2.06.94zm-11 1L8.5 8.5l.94-2.06 2.06-.94-2.06-.94L8.5 2.5l-.94 2.06-2.06.94zm10 10l.94 2.06.94-2.06 2.06-.94-2.06-.94-.94-2.06-.94 2.06-2.06.94z\"/><path d=\"M17.41 7.96l-1.37-1.37c-.4-.4-.92-.59-1.43-.59-.52 0-1.04.2-1.43.59L10.3 9.45l-7.72 7.72c-.78.78-.78 2.05 0 2.83L4 21.41c.39.39.9.59 1.41.59.51 0 1.02-.2 1.41-.59l7.78-7.78 2.81-2.81c.8-.78.8-2.07 0-2.86zM5.41 20L4 18.59l7.72-7.72 1.47 1.35L5.41 20z\"/>\n",
              "  </svg>\n",
              "      </button>\n",
              "      \n",
              "  <style>\n",
              "    .colab-df-container {\n",
              "      display:flex;\n",
              "      flex-wrap:wrap;\n",
              "      gap: 12px;\n",
              "    }\n",
              "\n",
              "    .colab-df-convert {\n",
              "      background-color: #E8F0FE;\n",
              "      border: none;\n",
              "      border-radius: 50%;\n",
              "      cursor: pointer;\n",
              "      display: none;\n",
              "      fill: #1967D2;\n",
              "      height: 32px;\n",
              "      padding: 0 0 0 0;\n",
              "      width: 32px;\n",
              "    }\n",
              "\n",
              "    .colab-df-convert:hover {\n",
              "      background-color: #E2EBFA;\n",
              "      box-shadow: 0px 1px 2px rgba(60, 64, 67, 0.3), 0px 1px 3px 1px rgba(60, 64, 67, 0.15);\n",
              "      fill: #174EA6;\n",
              "    }\n",
              "\n",
              "    [theme=dark] .colab-df-convert {\n",
              "      background-color: #3B4455;\n",
              "      fill: #D2E3FC;\n",
              "    }\n",
              "\n",
              "    [theme=dark] .colab-df-convert:hover {\n",
              "      background-color: #434B5C;\n",
              "      box-shadow: 0px 1px 3px 1px rgba(0, 0, 0, 0.15);\n",
              "      filter: drop-shadow(0px 1px 2px rgba(0, 0, 0, 0.3));\n",
              "      fill: #FFFFFF;\n",
              "    }\n",
              "  </style>\n",
              "\n",
              "      <script>\n",
              "        const buttonEl =\n",
              "          document.querySelector('#df-06bca3d3-e761-4d67-b3c1-c97bf49e0cee button.colab-df-convert');\n",
              "        buttonEl.style.display =\n",
              "          google.colab.kernel.accessAllowed ? 'block' : 'none';\n",
              "\n",
              "        async function convertToInteractive(key) {\n",
              "          const element = document.querySelector('#df-06bca3d3-e761-4d67-b3c1-c97bf49e0cee');\n",
              "          const dataTable =\n",
              "            await google.colab.kernel.invokeFunction('convertToInteractive',\n",
              "                                                     [key], {});\n",
              "          if (!dataTable) return;\n",
              "\n",
              "          const docLinkHtml = 'Like what you see? Visit the ' +\n",
              "            '<a target=\"_blank\" href=https://colab.research.google.com/notebooks/data_table.ipynb>data table notebook</a>'\n",
              "            + ' to learn more about interactive tables.';\n",
              "          element.innerHTML = '';\n",
              "          dataTable['output_type'] = 'display_data';\n",
              "          await google.colab.output.renderOutput(dataTable, element);\n",
              "          const docLink = document.createElement('div');\n",
              "          docLink.innerHTML = docLinkHtml;\n",
              "          element.appendChild(docLink);\n",
              "        }\n",
              "      </script>\n",
              "    </div>\n",
              "  </div>\n",
              "  "
            ],
            "text/plain": [
              "       Training Score  Accuracy  Recall  Precision  F1 score\n",
              "Model                                                       \n",
              "LR              0.747  0.715190   0.715      0.696     0.702\n",
              "SVC             0.991  0.983122   0.983      0.984     0.983\n",
              "RF              0.986  0.981013   0.981      0.982     0.981\n",
              "ADA             0.722  0.694093   0.694      0.696     0.694\n",
              "ExTC            0.987  0.962025   0.962      0.962     0.962\n",
              "KNN             0.881  0.869198   0.869      0.869     0.852\n",
              "LGBM            0.987  0.943038   0.943      0.942     0.941\n",
              "XGB             0.983  0.943038   0.943      0.944     0.941"
            ]
          },
          "metadata": {},
          "execution_count": 43
        }
      ]
    },
    {
      "cell_type": "markdown",
      "metadata": {
        "id": "IuGmPaagbnNY"
      },
      "source": [
        "# **Comparison to benchmark**\n",
        "\n",
        "- When we initially started off, there was a huge target imbalance which was affecting the model accuracy (as expected). \n",
        "- Initially we were using just 2-3 models with less hyper parameters to be tuned which was also playing a role in model performance.\n",
        "- We started off with 50 words as the max sentence length where we were losing some of the important features in the accident description.\n",
        "\n",
        "- To address all these, we balanced the data, ran GridSearch on more number of models with more hyper parameter tuning and increased the max sentence length to 200 words with 6B 50D glove embeddings."
      ]
    },
    {
      "cell_type": "markdown",
      "metadata": {
        "id": "82L-5AxDbnNY"
      },
      "source": [
        "# **Visualizations**\n",
        "\n",
        "- The detailed visualizations and conclusions can be reffered from above sections- **EDA Approach** and **EDA Summary**, respectively."
      ]
    },
    {
      "cell_type": "markdown",
      "metadata": {
        "id": "91iFXsSlbnNY"
      },
      "source": [
        "# **Implications**\n",
        "\n",
        "- With the EDA we have done for this solution, the companies can address some of the **security risks** based on the EDA findings like which sector/country has most number of accidents, which time of the year the number of accidents are more, why third party employees are more prone to accidents?\n",
        "\n",
        "- With the chatbot, we can predict the accident severity for a live accident and take appropriate measures based on the severity. If it is a more severe accident, then it has to be addressed quickly to avoid fatalities.\n",
        "\n",
        "- All the findings, prediction is done based on the historical data provided, so the EDA findings can be taken with great confidence. The accuracy of the model is also very good, however it is also because of upsampling the minority classes so there will be some level of skewness. \n"
      ]
    },
    {
      "cell_type": "markdown",
      "metadata": {
        "id": "ehAabsV-bnNY"
      },
      "source": [
        "# **Limitations**\n",
        "\n",
        "- The problem statement says that the accident level could be from I to VI but we don't have a single record for accident level VI. So, if the actual accident level to be predicted is VI, the model will not be able to predict that as we had no data to train the model. Likewise we had less data for accident level V, so there could be some inconsistencies with predicting for accident level V as well.\n",
        "\n",
        "- Since there was a huge target imbalance we have not got enough variation for minority classes and if an accident description provided is completely different from what the model is trained with, then it won't be able to predict properly.\n",
        "\n",
        "- If the description is too short or vague, there are a lot of spelling mistakes in the description, then the model won't be able to predict properly.\n",
        "\n",
        "- Since the model is trained with english corpus, if the description provided is in a different language, the model won't work.\n",
        "\n",
        "- Since the data has limited number of sectors (Mining, Metals, etc), the model might not predict properly if the description provided is from a completely different sector.\n",
        "\n",
        "- To enhance the model, we would need a lot more data from target minority classes, more data from difffernt sectors, more data from different countries."
      ]
    },
    {
      "cell_type": "markdown",
      "metadata": {
        "id": "VOmCMFNBbnNY"
      },
      "source": [
        "# **Closing Reflections**\n",
        "\n",
        "- We have learnt industry practices being followed for data science problems during our mentored sessions for this project.\n",
        "\n",
        "- We have learnt about MLFlow and its uses.\n",
        "\n",
        "- We have learnt about creating a flask app and use a pickled model to predict and return the prediction back to the user.\n",
        "\n",
        "- We have learnt about how we can deploy our flask app with ngrok and get a public IP to access the APP.\n",
        "\n",
        "- If we were to do this again, next time we will create this project as per the industry practices instead of doing it in a PY notebook. We will create a CI-CD pipeline to load, cleanse, process the data, run the model, run unit tests, use Github actions to deploy the model automatically on some server like Horeku\n"
      ]
    },
    {
      "cell_type": "markdown",
      "source": [
        "# **Chatbot GUI**"
      ],
      "metadata": {
        "id": "zqq5z1L4foyp"
      }
    },
    {
      "cell_type": "markdown",
      "source": [
        "**Following is the working snapshot of the chatbot GUI for accident level prediction**"
      ],
      "metadata": {
        "id": "tF4lC0mQfvKl"
      }
    },
    {
      "cell_type": "markdown",
      "source": [
        "![picture](https://drive.google.com/file/d/1GQV5J4rs22MDWBTChddId2b0TOHUThKu/view?usp=sharing)![WhatsApp Image 2022-01-03 at 6.30.19 PM.jpeg](data:image/jpeg;base64,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)\n",
        "\n"
      ],
      "metadata": {
        "id": "3Ll952XPfXBQ"
      }
    }
  ],
  "metadata": {
    "accelerator": "GPU",
    "colab": {
      "collapsed_sections": [],
      "name": "Final Report.ipynb",
      "provenance": [],
      "include_colab_link": true
    },
    "kernelspec": {
      "display_name": "Python 3",
      "language": "python",
      "name": "python3"
    },
    "language_info": {
      "codemirror_mode": {
        "name": "ipython",
        "version": 3
      },
      "file_extension": ".py",
      "mimetype": "text/x-python",
      "name": "python",
      "nbconvert_exporter": "python",
      "pygments_lexer": "ipython3",
      "version": "3.8.5"
    }
  },
  "nbformat": 4,
  "nbformat_minor": 0
}